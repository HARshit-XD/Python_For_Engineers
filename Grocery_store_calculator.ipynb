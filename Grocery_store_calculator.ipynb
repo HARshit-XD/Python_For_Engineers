{
  "nbformat": 4,
  "nbformat_minor": 0,
  "metadata": {
    "colab": {
      "provenance": [],
      "authorship_tag": "ABX9TyMWQ8GD9HMFU37QR5d5ET8Y",
      "include_colab_link": true
    },
    "kernelspec": {
      "name": "python3",
      "display_name": "Python 3"
    },
    "language_info": {
      "name": "python"
    }
  },
  "cells": [
    {
      "cell_type": "markdown",
      "metadata": {
        "id": "view-in-github",
        "colab_type": "text"
      },
      "source": [
        "<a href=\"https://colab.research.google.com/github/HARshit-XD/Python_For_Engineers/blob/main/casestudy1_202401100700078_ECE_B.ipynb\" target=\"_parent\"><img src=\"https://colab.research.google.com/assets/colab-badge.svg\" alt=\"Open In Colab\"/></a>"
      ]
    },
    {
      "cell_type": "code",
      "source": [
        "def calculate_total_price(grocery_items_list, price_list):\n",
        "    total_price = 0\n",
        "    for item_quantity in grocery_items_list:\n",
        "        item, quantity = item_quantity.split(':')\n",
        "        quantity = int(quantity)\n",
        "        if item in price_list:\n",
        "            total_price += price_list[item] * quantity\n",
        "        else:\n",
        "            print(f\"Item '{item}' not found in price list.\")\n",
        "    return total_price\n",
        "\n",
        "# Price list\n",
        "price_list = {\n",
        "    \"potato\": 10,\n",
        "    \"tomato\": 20,\n",
        "    \"onion\": 25,\n",
        "    \"flour\": 100,\n",
        "    \"rice\": 50,\n",
        "    \"capsicum\": 15,\n",
        "    \"salt\": 30,\n",
        "    \"milk\": 30,\n",
        "}\n",
        "\n",
        "# Get user input for grocery items and quantities\n",
        "grocery_items_str = input(\"Enter grocery items and quantities (e.g., potato:2): \")\n",
        "grocery_items_list = grocery_items_str.split(',')\n",
        "\n",
        "# Calculate and print the total price\n",
        "total_price = calculate_total_price(grocery_items_list, price_list)\n",
        "print(f\"Total price: {total_price}\")"
      ],
      "metadata": {
        "colab": {
          "base_uri": "https://localhost:8080/",
          "height": 0
        },
        "id": "H4tlBdo3dRTb",
        "outputId": "c08b6a88-e228-4a49-cb07-779504eca4d4"
      },
      "execution_count": 19,
      "outputs": [
        {
          "output_type": "stream",
          "name": "stdout",
          "text": [
            "Enter grocery items and quantities (e.g., potato:2): milk:2,flour:2\n",
            "Total price: 260\n"
          ]
        }
      ]
    }
  ]
}
