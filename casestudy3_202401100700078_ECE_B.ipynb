{
  "nbformat": 4,
  "nbformat_minor": 0,
  "metadata": {
    "colab": {
      "provenance": [],
      "authorship_tag": "ABX9TyNaZnkDD79jgtftGPxwqnzC",
      "include_colab_link": true
    },
    "kernelspec": {
      "name": "python3",
      "display_name": "Python 3"
    },
    "language_info": {
      "name": "python"
    }
  },
  "cells": [
    {
      "cell_type": "markdown",
      "metadata": {
        "id": "view-in-github",
        "colab_type": "text"
      },
      "source": [
        "<a href=\"https://colab.research.google.com/github/HARshit-XD/Python_For_Engineers/blob/main/casestudy3_202401100700078_ECE_B.ipynb\" target=\"_parent\"><img src=\"https://colab.research.google.com/assets/colab-badge.svg\" alt=\"Open In Colab\"/></a>"
      ]
    },
    {
      "cell_type": "code",
      "execution_count": 1,
      "metadata": {
        "colab": {
          "base_uri": "https://localhost:8080/"
        },
        "id": "0ytFYYQt4Hll",
        "outputId": "68829caa-2c25-4960-ed73-3371c62e4184"
      },
      "outputs": [
        {
          "output_type": "stream",
          "name": "stdout",
          "text": [
            "Enter temperature in Celsius (or type 'random' for a random value, 'exit' to quit): 30\n",
            "Temperature is too low: 30.0°C\n",
            "Enter temperature in Celsius (or type 'random' for a random value, 'exit' to quit): 30\n",
            "Temperature is too low: 30.0°C\n",
            "Enter temperature in Celsius (or type 'random' for a random value, 'exit' to quit): 35\n",
            "Temperature is normal: 35.0°C\n",
            "Enter temperature in Celsius (or type 'random' for a random value, 'exit' to quit): 42\n",
            "Temperature is normal: 42.0°C\n",
            "Enter temperature in Celsius (or type 'random' for a random value, 'exit' to quit): 44\n",
            "Temperature is too high: 44.0°C\n",
            "Enter temperature in Celsius (or type 'random' for a random value, 'exit' to quit): random\n",
            "Generated random temperature: 41°C\n",
            "Temperature is normal: 41°C\n",
            "Enter temperature in Celsius (or type 'random' for a random value, 'exit' to quit): random\n",
            "Generated random temperature: 48°C\n",
            "Temperature is too high: 48°C\n",
            "Enter temperature in Celsius (or type 'random' for a random value, 'exit' to quit): exit\n",
            "Exiting...\n"
          ]
        }
      ],
      "source": [
        "import time\n",
        "import random\n",
        "\n",
        "def temperature_monitor():\n",
        "    lower_limit, upper_limit = 35, 43\n",
        "\n",
        "    while True:\n",
        "        user_input = input(\"Enter temperature in Celsius (or type 'random' for a random value, 'exit' to quit): \")\n",
        "\n",
        "        if user_input.lower() == 'exit':\n",
        "            print(\"Exiting...\")\n",
        "            break\n",
        "\n",
        "        if user_input.lower() == 'random':\n",
        "            user_temp = random.randint(lower_limit - 5, upper_limit + 5)\n",
        "            print(f\"Generated random temperature: {user_temp}°C\")\n",
        "        else:\n",
        "          user_temp = float(user_input)\n",
        "\n",
        "\n",
        "        if user_temp < lower_limit:\n",
        "            alert = \"too low\"\n",
        "        elif user_temp > upper_limit:\n",
        "            alert = \"too high\"\n",
        "        else:\n",
        "            alert = \"normal\"\n",
        "\n",
        "        print(f\"Temperature is {alert}: {user_temp}°C\")\n",
        "        time.sleep(3)\n",
        "\n",
        "\n",
        "temperature_monitor()\n"
      ]
    }
  ]
}