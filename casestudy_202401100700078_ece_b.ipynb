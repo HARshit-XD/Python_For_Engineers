{
  "nbformat": 4,
  "nbformat_minor": 0,
  "metadata": {
    "colab": {
      "provenance": [],
      "authorship_tag": "ABX9TyOJDM0c2y6xZYWrc3EOawhw",
      "include_colab_link": true
    },
    "kernelspec": {
      "name": "python3",
      "display_name": "Python 3"
    },
    "language_info": {
      "name": "python"
    },
    "widgets": {
      "application/vnd.jupyter.widget-state+json": {
        "67d24954e7f248bb8e2003f72b8c2ae9": {
          "model_module": "@jupyter-widgets/controls",
          "model_name": "ButtonModel",
          "model_module_version": "1.5.0",
          "state": {
            "_dom_classes": [],
            "_model_module": "@jupyter-widgets/controls",
            "_model_module_version": "1.5.0",
            "_model_name": "ButtonModel",
            "_view_count": null,
            "_view_module": "@jupyter-widgets/controls",
            "_view_module_version": "1.5.0",
            "_view_name": "ButtonView",
            "button_style": "",
            "description": "1",
            "disabled": false,
            "icon": "",
            "layout": "IPY_MODEL_0a61c2bf2fc14c9fa545527981a798d0",
            "style": "IPY_MODEL_72d96a8a127f45b58dc82d4f458c394d",
            "tooltip": ""
          }
        },
        "0a61c2bf2fc14c9fa545527981a798d0": {
          "model_module": "@jupyter-widgets/base",
          "model_name": "LayoutModel",
          "model_module_version": "1.2.0",
          "state": {
            "_model_module": "@jupyter-widgets/base",
            "_model_module_version": "1.2.0",
            "_model_name": "LayoutModel",
            "_view_count": null,
            "_view_module": "@jupyter-widgets/base",
            "_view_module_version": "1.2.0",
            "_view_name": "LayoutView",
            "align_content": null,
            "align_items": null,
            "align_self": null,
            "border": null,
            "bottom": null,
            "display": null,
            "flex": null,
            "flex_flow": null,
            "grid_area": null,
            "grid_auto_columns": null,
            "grid_auto_flow": null,
            "grid_auto_rows": null,
            "grid_column": null,
            "grid_gap": null,
            "grid_row": null,
            "grid_template_areas": null,
            "grid_template_columns": null,
            "grid_template_rows": null,
            "height": null,
            "justify_content": null,
            "justify_items": null,
            "left": null,
            "margin": null,
            "max_height": null,
            "max_width": null,
            "min_height": null,
            "min_width": null,
            "object_fit": null,
            "object_position": null,
            "order": null,
            "overflow": null,
            "overflow_x": null,
            "overflow_y": null,
            "padding": null,
            "right": null,
            "top": null,
            "visibility": null,
            "width": null
          }
        },
        "72d96a8a127f45b58dc82d4f458c394d": {
          "model_module": "@jupyter-widgets/controls",
          "model_name": "ButtonStyleModel",
          "model_module_version": "1.5.0",
          "state": {
            "_model_module": "@jupyter-widgets/controls",
            "_model_module_version": "1.5.0",
            "_model_name": "ButtonStyleModel",
            "_view_count": null,
            "_view_module": "@jupyter-widgets/base",
            "_view_module_version": "1.2.0",
            "_view_name": "StyleView",
            "button_color": null,
            "font_weight": ""
          }
        },
        "82efc313061249db81543ad81de6ffd3": {
          "model_module": "@jupyter-widgets/controls",
          "model_name": "ButtonModel",
          "model_module_version": "1.5.0",
          "state": {
            "_dom_classes": [],
            "_model_module": "@jupyter-widgets/controls",
            "_model_module_version": "1.5.0",
            "_model_name": "ButtonModel",
            "_view_count": null,
            "_view_module": "@jupyter-widgets/controls",
            "_view_module_version": "1.5.0",
            "_view_name": "ButtonView",
            "button_style": "",
            "description": "2",
            "disabled": false,
            "icon": "",
            "layout": "IPY_MODEL_4e4b72ab19e240608a1ce819e41c62df",
            "style": "IPY_MODEL_3bc034bc902948afa905084fe0d66f81",
            "tooltip": ""
          }
        },
        "4e4b72ab19e240608a1ce819e41c62df": {
          "model_module": "@jupyter-widgets/base",
          "model_name": "LayoutModel",
          "model_module_version": "1.2.0",
          "state": {
            "_model_module": "@jupyter-widgets/base",
            "_model_module_version": "1.2.0",
            "_model_name": "LayoutModel",
            "_view_count": null,
            "_view_module": "@jupyter-widgets/base",
            "_view_module_version": "1.2.0",
            "_view_name": "LayoutView",
            "align_content": null,
            "align_items": null,
            "align_self": null,
            "border": null,
            "bottom": null,
            "display": null,
            "flex": null,
            "flex_flow": null,
            "grid_area": null,
            "grid_auto_columns": null,
            "grid_auto_flow": null,
            "grid_auto_rows": null,
            "grid_column": null,
            "grid_gap": null,
            "grid_row": null,
            "grid_template_areas": null,
            "grid_template_columns": null,
            "grid_template_rows": null,
            "height": null,
            "justify_content": null,
            "justify_items": null,
            "left": null,
            "margin": null,
            "max_height": null,
            "max_width": null,
            "min_height": null,
            "min_width": null,
            "object_fit": null,
            "object_position": null,
            "order": null,
            "overflow": null,
            "overflow_x": null,
            "overflow_y": null,
            "padding": null,
            "right": null,
            "top": null,
            "visibility": null,
            "width": null
          }
        },
        "3bc034bc902948afa905084fe0d66f81": {
          "model_module": "@jupyter-widgets/controls",
          "model_name": "ButtonStyleModel",
          "model_module_version": "1.5.0",
          "state": {
            "_model_module": "@jupyter-widgets/controls",
            "_model_module_version": "1.5.0",
            "_model_name": "ButtonStyleModel",
            "_view_count": null,
            "_view_module": "@jupyter-widgets/base",
            "_view_module_version": "1.2.0",
            "_view_name": "StyleView",
            "button_color": null,
            "font_weight": ""
          }
        },
        "bd73f0f582de4baa8fe2869f4d5fd515": {
          "model_module": "@jupyter-widgets/controls",
          "model_name": "ButtonModel",
          "model_module_version": "1.5.0",
          "state": {
            "_dom_classes": [],
            "_model_module": "@jupyter-widgets/controls",
            "_model_module_version": "1.5.0",
            "_model_name": "ButtonModel",
            "_view_count": null,
            "_view_module": "@jupyter-widgets/controls",
            "_view_module_version": "1.5.0",
            "_view_name": "ButtonView",
            "button_style": "",
            "description": "3",
            "disabled": false,
            "icon": "",
            "layout": "IPY_MODEL_ab005dc2ea99432ab9570b88033bd4e1",
            "style": "IPY_MODEL_a6b70c7697e547a78015a7f8b6e28a70",
            "tooltip": ""
          }
        },
        "ab005dc2ea99432ab9570b88033bd4e1": {
          "model_module": "@jupyter-widgets/base",
          "model_name": "LayoutModel",
          "model_module_version": "1.2.0",
          "state": {
            "_model_module": "@jupyter-widgets/base",
            "_model_module_version": "1.2.0",
            "_model_name": "LayoutModel",
            "_view_count": null,
            "_view_module": "@jupyter-widgets/base",
            "_view_module_version": "1.2.0",
            "_view_name": "LayoutView",
            "align_content": null,
            "align_items": null,
            "align_self": null,
            "border": null,
            "bottom": null,
            "display": null,
            "flex": null,
            "flex_flow": null,
            "grid_area": null,
            "grid_auto_columns": null,
            "grid_auto_flow": null,
            "grid_auto_rows": null,
            "grid_column": null,
            "grid_gap": null,
            "grid_row": null,
            "grid_template_areas": null,
            "grid_template_columns": null,
            "grid_template_rows": null,
            "height": null,
            "justify_content": null,
            "justify_items": null,
            "left": null,
            "margin": null,
            "max_height": null,
            "max_width": null,
            "min_height": null,
            "min_width": null,
            "object_fit": null,
            "object_position": null,
            "order": null,
            "overflow": null,
            "overflow_x": null,
            "overflow_y": null,
            "padding": null,
            "right": null,
            "top": null,
            "visibility": null,
            "width": null
          }
        },
        "a6b70c7697e547a78015a7f8b6e28a70": {
          "model_module": "@jupyter-widgets/controls",
          "model_name": "ButtonStyleModel",
          "model_module_version": "1.5.0",
          "state": {
            "_model_module": "@jupyter-widgets/controls",
            "_model_module_version": "1.5.0",
            "_model_name": "ButtonStyleModel",
            "_view_count": null,
            "_view_module": "@jupyter-widgets/base",
            "_view_module_version": "1.2.0",
            "_view_name": "StyleView",
            "button_color": null,
            "font_weight": ""
          }
        },
        "aa60aba8212642ce839e902c793b39b2": {
          "model_module": "@jupyter-widgets/controls",
          "model_name": "ButtonModel",
          "model_module_version": "1.5.0",
          "state": {
            "_dom_classes": [],
            "_model_module": "@jupyter-widgets/controls",
            "_model_module_version": "1.5.0",
            "_model_name": "ButtonModel",
            "_view_count": null,
            "_view_module": "@jupyter-widgets/controls",
            "_view_module_version": "1.5.0",
            "_view_name": "ButtonView",
            "button_style": "",
            "description": "4",
            "disabled": false,
            "icon": "",
            "layout": "IPY_MODEL_fa01e2bed56c42ca9358419d36c312a2",
            "style": "IPY_MODEL_96cc298c3fa74dfead9afe92c596ba83",
            "tooltip": ""
          }
        },
        "fa01e2bed56c42ca9358419d36c312a2": {
          "model_module": "@jupyter-widgets/base",
          "model_name": "LayoutModel",
          "model_module_version": "1.2.0",
          "state": {
            "_model_module": "@jupyter-widgets/base",
            "_model_module_version": "1.2.0",
            "_model_name": "LayoutModel",
            "_view_count": null,
            "_view_module": "@jupyter-widgets/base",
            "_view_module_version": "1.2.0",
            "_view_name": "LayoutView",
            "align_content": null,
            "align_items": null,
            "align_self": null,
            "border": null,
            "bottom": null,
            "display": null,
            "flex": null,
            "flex_flow": null,
            "grid_area": null,
            "grid_auto_columns": null,
            "grid_auto_flow": null,
            "grid_auto_rows": null,
            "grid_column": null,
            "grid_gap": null,
            "grid_row": null,
            "grid_template_areas": null,
            "grid_template_columns": null,
            "grid_template_rows": null,
            "height": null,
            "justify_content": null,
            "justify_items": null,
            "left": null,
            "margin": null,
            "max_height": null,
            "max_width": null,
            "min_height": null,
            "min_width": null,
            "object_fit": null,
            "object_position": null,
            "order": null,
            "overflow": null,
            "overflow_x": null,
            "overflow_y": null,
            "padding": null,
            "right": null,
            "top": null,
            "visibility": null,
            "width": null
          }
        },
        "96cc298c3fa74dfead9afe92c596ba83": {
          "model_module": "@jupyter-widgets/controls",
          "model_name": "ButtonStyleModel",
          "model_module_version": "1.5.0",
          "state": {
            "_model_module": "@jupyter-widgets/controls",
            "_model_module_version": "1.5.0",
            "_model_name": "ButtonStyleModel",
            "_view_count": null,
            "_view_module": "@jupyter-widgets/base",
            "_view_module_version": "1.2.0",
            "_view_name": "StyleView",
            "button_color": null,
            "font_weight": ""
          }
        },
        "f24bb4c728ff456b86b6fc0feeb0bdfb": {
          "model_module": "@jupyter-widgets/controls",
          "model_name": "ButtonModel",
          "model_module_version": "1.5.0",
          "state": {
            "_dom_classes": [],
            "_model_module": "@jupyter-widgets/controls",
            "_model_module_version": "1.5.0",
            "_model_name": "ButtonModel",
            "_view_count": null,
            "_view_module": "@jupyter-widgets/controls",
            "_view_module_version": "1.5.0",
            "_view_name": "ButtonView",
            "button_style": "",
            "description": "5",
            "disabled": false,
            "icon": "",
            "layout": "IPY_MODEL_6ccf8515952547b1bb7a99e27d3dbc41",
            "style": "IPY_MODEL_38b0c9ffd05c4546b55cc97ffa9622f8",
            "tooltip": ""
          }
        },
        "6ccf8515952547b1bb7a99e27d3dbc41": {
          "model_module": "@jupyter-widgets/base",
          "model_name": "LayoutModel",
          "model_module_version": "1.2.0",
          "state": {
            "_model_module": "@jupyter-widgets/base",
            "_model_module_version": "1.2.0",
            "_model_name": "LayoutModel",
            "_view_count": null,
            "_view_module": "@jupyter-widgets/base",
            "_view_module_version": "1.2.0",
            "_view_name": "LayoutView",
            "align_content": null,
            "align_items": null,
            "align_self": null,
            "border": null,
            "bottom": null,
            "display": null,
            "flex": null,
            "flex_flow": null,
            "grid_area": null,
            "grid_auto_columns": null,
            "grid_auto_flow": null,
            "grid_auto_rows": null,
            "grid_column": null,
            "grid_gap": null,
            "grid_row": null,
            "grid_template_areas": null,
            "grid_template_columns": null,
            "grid_template_rows": null,
            "height": null,
            "justify_content": null,
            "justify_items": null,
            "left": null,
            "margin": null,
            "max_height": null,
            "max_width": null,
            "min_height": null,
            "min_width": null,
            "object_fit": null,
            "object_position": null,
            "order": null,
            "overflow": null,
            "overflow_x": null,
            "overflow_y": null,
            "padding": null,
            "right": null,
            "top": null,
            "visibility": null,
            "width": null
          }
        },
        "38b0c9ffd05c4546b55cc97ffa9622f8": {
          "model_module": "@jupyter-widgets/controls",
          "model_name": "ButtonStyleModel",
          "model_module_version": "1.5.0",
          "state": {
            "_model_module": "@jupyter-widgets/controls",
            "_model_module_version": "1.5.0",
            "_model_name": "ButtonStyleModel",
            "_view_count": null,
            "_view_module": "@jupyter-widgets/base",
            "_view_module_version": "1.2.0",
            "_view_name": "StyleView",
            "button_color": null,
            "font_weight": ""
          }
        },
        "ec5d800342ea46f0affcabf6c67debf7": {
          "model_module": "@jupyter-widgets/controls",
          "model_name": "ButtonModel",
          "model_module_version": "1.5.0",
          "state": {
            "_dom_classes": [],
            "_model_module": "@jupyter-widgets/controls",
            "_model_module_version": "1.5.0",
            "_model_name": "ButtonModel",
            "_view_count": null,
            "_view_module": "@jupyter-widgets/controls",
            "_view_module_version": "1.5.0",
            "_view_name": "ButtonView",
            "button_style": "",
            "description": "1",
            "disabled": false,
            "icon": "",
            "layout": "IPY_MODEL_bab8f4c8c42047d0a0948f66a6e6fc5d",
            "style": "IPY_MODEL_cca08654f6f44b2d8d51353d7919fbfe",
            "tooltip": ""
          }
        },
        "bab8f4c8c42047d0a0948f66a6e6fc5d": {
          "model_module": "@jupyter-widgets/base",
          "model_name": "LayoutModel",
          "model_module_version": "1.2.0",
          "state": {
            "_model_module": "@jupyter-widgets/base",
            "_model_module_version": "1.2.0",
            "_model_name": "LayoutModel",
            "_view_count": null,
            "_view_module": "@jupyter-widgets/base",
            "_view_module_version": "1.2.0",
            "_view_name": "LayoutView",
            "align_content": null,
            "align_items": null,
            "align_self": null,
            "border": null,
            "bottom": null,
            "display": null,
            "flex": null,
            "flex_flow": null,
            "grid_area": null,
            "grid_auto_columns": null,
            "grid_auto_flow": null,
            "grid_auto_rows": null,
            "grid_column": null,
            "grid_gap": null,
            "grid_row": null,
            "grid_template_areas": null,
            "grid_template_columns": null,
            "grid_template_rows": null,
            "height": null,
            "justify_content": null,
            "justify_items": null,
            "left": null,
            "margin": null,
            "max_height": null,
            "max_width": null,
            "min_height": null,
            "min_width": null,
            "object_fit": null,
            "object_position": null,
            "order": null,
            "overflow": null,
            "overflow_x": null,
            "overflow_y": null,
            "padding": null,
            "right": null,
            "top": null,
            "visibility": null,
            "width": null
          }
        },
        "cca08654f6f44b2d8d51353d7919fbfe": {
          "model_module": "@jupyter-widgets/controls",
          "model_name": "ButtonStyleModel",
          "model_module_version": "1.5.0",
          "state": {
            "_model_module": "@jupyter-widgets/controls",
            "_model_module_version": "1.5.0",
            "_model_name": "ButtonStyleModel",
            "_view_count": null,
            "_view_module": "@jupyter-widgets/base",
            "_view_module_version": "1.2.0",
            "_view_name": "StyleView",
            "button_color": null,
            "font_weight": ""
          }
        },
        "093675dd346f40f18feaceeb620f7d4e": {
          "model_module": "@jupyter-widgets/controls",
          "model_name": "ButtonModel",
          "model_module_version": "1.5.0",
          "state": {
            "_dom_classes": [],
            "_model_module": "@jupyter-widgets/controls",
            "_model_module_version": "1.5.0",
            "_model_name": "ButtonModel",
            "_view_count": null,
            "_view_module": "@jupyter-widgets/controls",
            "_view_module_version": "1.5.0",
            "_view_name": "ButtonView",
            "button_style": "",
            "description": "2",
            "disabled": false,
            "icon": "",
            "layout": "IPY_MODEL_baf0a3a7eac341048a15ca9d4eccca4d",
            "style": "IPY_MODEL_a04c8494081d4092b972493ba891fc3f",
            "tooltip": ""
          }
        },
        "baf0a3a7eac341048a15ca9d4eccca4d": {
          "model_module": "@jupyter-widgets/base",
          "model_name": "LayoutModel",
          "model_module_version": "1.2.0",
          "state": {
            "_model_module": "@jupyter-widgets/base",
            "_model_module_version": "1.2.0",
            "_model_name": "LayoutModel",
            "_view_count": null,
            "_view_module": "@jupyter-widgets/base",
            "_view_module_version": "1.2.0",
            "_view_name": "LayoutView",
            "align_content": null,
            "align_items": null,
            "align_self": null,
            "border": null,
            "bottom": null,
            "display": null,
            "flex": null,
            "flex_flow": null,
            "grid_area": null,
            "grid_auto_columns": null,
            "grid_auto_flow": null,
            "grid_auto_rows": null,
            "grid_column": null,
            "grid_gap": null,
            "grid_row": null,
            "grid_template_areas": null,
            "grid_template_columns": null,
            "grid_template_rows": null,
            "height": null,
            "justify_content": null,
            "justify_items": null,
            "left": null,
            "margin": null,
            "max_height": null,
            "max_width": null,
            "min_height": null,
            "min_width": null,
            "object_fit": null,
            "object_position": null,
            "order": null,
            "overflow": null,
            "overflow_x": null,
            "overflow_y": null,
            "padding": null,
            "right": null,
            "top": null,
            "visibility": null,
            "width": null
          }
        },
        "a04c8494081d4092b972493ba891fc3f": {
          "model_module": "@jupyter-widgets/controls",
          "model_name": "ButtonStyleModel",
          "model_module_version": "1.5.0",
          "state": {
            "_model_module": "@jupyter-widgets/controls",
            "_model_module_version": "1.5.0",
            "_model_name": "ButtonStyleModel",
            "_view_count": null,
            "_view_module": "@jupyter-widgets/base",
            "_view_module_version": "1.2.0",
            "_view_name": "StyleView",
            "button_color": null,
            "font_weight": ""
          }
        },
        "51d3797ec81344548a2c3624d40f53e8": {
          "model_module": "@jupyter-widgets/controls",
          "model_name": "ButtonModel",
          "model_module_version": "1.5.0",
          "state": {
            "_dom_classes": [],
            "_model_module": "@jupyter-widgets/controls",
            "_model_module_version": "1.5.0",
            "_model_name": "ButtonModel",
            "_view_count": null,
            "_view_module": "@jupyter-widgets/controls",
            "_view_module_version": "1.5.0",
            "_view_name": "ButtonView",
            "button_style": "",
            "description": "3",
            "disabled": false,
            "icon": "",
            "layout": "IPY_MODEL_6c3007a0a1664a758b178e46fe28f794",
            "style": "IPY_MODEL_68ad1082396d467895cc3bc4d27a2e1e",
            "tooltip": ""
          }
        },
        "6c3007a0a1664a758b178e46fe28f794": {
          "model_module": "@jupyter-widgets/base",
          "model_name": "LayoutModel",
          "model_module_version": "1.2.0",
          "state": {
            "_model_module": "@jupyter-widgets/base",
            "_model_module_version": "1.2.0",
            "_model_name": "LayoutModel",
            "_view_count": null,
            "_view_module": "@jupyter-widgets/base",
            "_view_module_version": "1.2.0",
            "_view_name": "LayoutView",
            "align_content": null,
            "align_items": null,
            "align_self": null,
            "border": null,
            "bottom": null,
            "display": null,
            "flex": null,
            "flex_flow": null,
            "grid_area": null,
            "grid_auto_columns": null,
            "grid_auto_flow": null,
            "grid_auto_rows": null,
            "grid_column": null,
            "grid_gap": null,
            "grid_row": null,
            "grid_template_areas": null,
            "grid_template_columns": null,
            "grid_template_rows": null,
            "height": null,
            "justify_content": null,
            "justify_items": null,
            "left": null,
            "margin": null,
            "max_height": null,
            "max_width": null,
            "min_height": null,
            "min_width": null,
            "object_fit": null,
            "object_position": null,
            "order": null,
            "overflow": null,
            "overflow_x": null,
            "overflow_y": null,
            "padding": null,
            "right": null,
            "top": null,
            "visibility": null,
            "width": null
          }
        },
        "68ad1082396d467895cc3bc4d27a2e1e": {
          "model_module": "@jupyter-widgets/controls",
          "model_name": "ButtonStyleModel",
          "model_module_version": "1.5.0",
          "state": {
            "_model_module": "@jupyter-widgets/controls",
            "_model_module_version": "1.5.0",
            "_model_name": "ButtonStyleModel",
            "_view_count": null,
            "_view_module": "@jupyter-widgets/base",
            "_view_module_version": "1.2.0",
            "_view_name": "StyleView",
            "button_color": null,
            "font_weight": ""
          }
        },
        "394d5c703b61418b8d5c20ca2901e5fd": {
          "model_module": "@jupyter-widgets/controls",
          "model_name": "ButtonModel",
          "model_module_version": "1.5.0",
          "state": {
            "_dom_classes": [],
            "_model_module": "@jupyter-widgets/controls",
            "_model_module_version": "1.5.0",
            "_model_name": "ButtonModel",
            "_view_count": null,
            "_view_module": "@jupyter-widgets/controls",
            "_view_module_version": "1.5.0",
            "_view_name": "ButtonView",
            "button_style": "",
            "description": "4",
            "disabled": false,
            "icon": "",
            "layout": "IPY_MODEL_eddf260ac297434e853e741666b2b88b",
            "style": "IPY_MODEL_4b83f577e8984b0eaf06936f42a4a04b",
            "tooltip": ""
          }
        },
        "eddf260ac297434e853e741666b2b88b": {
          "model_module": "@jupyter-widgets/base",
          "model_name": "LayoutModel",
          "model_module_version": "1.2.0",
          "state": {
            "_model_module": "@jupyter-widgets/base",
            "_model_module_version": "1.2.0",
            "_model_name": "LayoutModel",
            "_view_count": null,
            "_view_module": "@jupyter-widgets/base",
            "_view_module_version": "1.2.0",
            "_view_name": "LayoutView",
            "align_content": null,
            "align_items": null,
            "align_self": null,
            "border": null,
            "bottom": null,
            "display": null,
            "flex": null,
            "flex_flow": null,
            "grid_area": null,
            "grid_auto_columns": null,
            "grid_auto_flow": null,
            "grid_auto_rows": null,
            "grid_column": null,
            "grid_gap": null,
            "grid_row": null,
            "grid_template_areas": null,
            "grid_template_columns": null,
            "grid_template_rows": null,
            "height": null,
            "justify_content": null,
            "justify_items": null,
            "left": null,
            "margin": null,
            "max_height": null,
            "max_width": null,
            "min_height": null,
            "min_width": null,
            "object_fit": null,
            "object_position": null,
            "order": null,
            "overflow": null,
            "overflow_x": null,
            "overflow_y": null,
            "padding": null,
            "right": null,
            "top": null,
            "visibility": null,
            "width": null
          }
        },
        "4b83f577e8984b0eaf06936f42a4a04b": {
          "model_module": "@jupyter-widgets/controls",
          "model_name": "ButtonStyleModel",
          "model_module_version": "1.5.0",
          "state": {
            "_model_module": "@jupyter-widgets/controls",
            "_model_module_version": "1.5.0",
            "_model_name": "ButtonStyleModel",
            "_view_count": null,
            "_view_module": "@jupyter-widgets/base",
            "_view_module_version": "1.2.0",
            "_view_name": "StyleView",
            "button_color": null,
            "font_weight": ""
          }
        },
        "1d8e395771124630a7141b05d2619968": {
          "model_module": "@jupyter-widgets/controls",
          "model_name": "ButtonModel",
          "model_module_version": "1.5.0",
          "state": {
            "_dom_classes": [],
            "_model_module": "@jupyter-widgets/controls",
            "_model_module_version": "1.5.0",
            "_model_name": "ButtonModel",
            "_view_count": null,
            "_view_module": "@jupyter-widgets/controls",
            "_view_module_version": "1.5.0",
            "_view_name": "ButtonView",
            "button_style": "",
            "description": "5",
            "disabled": false,
            "icon": "",
            "layout": "IPY_MODEL_d6ca8f2937654418a10e43a1d35ac336",
            "style": "IPY_MODEL_e834154094504f2894f09b88df6840d1",
            "tooltip": ""
          }
        },
        "d6ca8f2937654418a10e43a1d35ac336": {
          "model_module": "@jupyter-widgets/base",
          "model_name": "LayoutModel",
          "model_module_version": "1.2.0",
          "state": {
            "_model_module": "@jupyter-widgets/base",
            "_model_module_version": "1.2.0",
            "_model_name": "LayoutModel",
            "_view_count": null,
            "_view_module": "@jupyter-widgets/base",
            "_view_module_version": "1.2.0",
            "_view_name": "LayoutView",
            "align_content": null,
            "align_items": null,
            "align_self": null,
            "border": null,
            "bottom": null,
            "display": null,
            "flex": null,
            "flex_flow": null,
            "grid_area": null,
            "grid_auto_columns": null,
            "grid_auto_flow": null,
            "grid_auto_rows": null,
            "grid_column": null,
            "grid_gap": null,
            "grid_row": null,
            "grid_template_areas": null,
            "grid_template_columns": null,
            "grid_template_rows": null,
            "height": null,
            "justify_content": null,
            "justify_items": null,
            "left": null,
            "margin": null,
            "max_height": null,
            "max_width": null,
            "min_height": null,
            "min_width": null,
            "object_fit": null,
            "object_position": null,
            "order": null,
            "overflow": null,
            "overflow_x": null,
            "overflow_y": null,
            "padding": null,
            "right": null,
            "top": null,
            "visibility": null,
            "width": null
          }
        },
        "e834154094504f2894f09b88df6840d1": {
          "model_module": "@jupyter-widgets/controls",
          "model_name": "ButtonStyleModel",
          "model_module_version": "1.5.0",
          "state": {
            "_model_module": "@jupyter-widgets/controls",
            "_model_module_version": "1.5.0",
            "_model_name": "ButtonStyleModel",
            "_view_count": null,
            "_view_module": "@jupyter-widgets/base",
            "_view_module_version": "1.2.0",
            "_view_name": "StyleView",
            "button_color": null,
            "font_weight": ""
          }
        }
      }
    }
  },
  "cells": [
    {
      "cell_type": "markdown",
      "metadata": {
        "id": "view-in-github",
        "colab_type": "text"
      },
      "source": [
        "<a href=\"https://colab.research.google.com/github/HARshit-XD/Python_For_Engineers/blob/main/casestudy_202401100700078_ece_b.ipynb\" target=\"_parent\"><img src=\"https://colab.research.google.com/assets/colab-badge.svg\" alt=\"Open In Colab\"/></a>"
      ]
    },
    {
      "cell_type": "code",
      "source": [
        "import time\n",
        "import random\n",
        "\n",
        "def temperature_monitor():\n",
        "    lower_limit, upper_limit = 35, 43\n",
        "\n",
        "    while True:\n",
        "        user_input = input(\"Enter temperature in Celsius (or type 'random' for a random value, 'exit' to quit): \")\n",
        "\n",
        "        if user_input.lower() == 'exit':\n",
        "            print(\"Exiting...\")\n",
        "            break\n",
        "\n",
        "        if user_input.lower() == 'random':\n",
        "            user_temp = random.randint(lower_limit - 5, upper_limit + 5)\n",
        "            print(f\"Generated random temperature: {user_temp}°C\")\n",
        "        else:\n",
        "          user_temp = float(user_input)\n",
        "\n",
        "\n",
        "        if user_temp < lower_limit:\n",
        "            alert = \"too low\"\n",
        "        elif user_temp > upper_limit:\n",
        "            alert = \"too high\"\n",
        "        else:\n",
        "            alert = \"normal\"\n",
        "\n",
        "        print(f\"Temperature is {alert}: {user_temp}°C\")\n",
        "        time.sleep(3)\n",
        "\n",
        "\n",
        "temperature_monitor()\n"
      ],
      "metadata": {
        "colab": {
          "base_uri": "https://localhost:8080/"
        },
        "id": "aHsXWi--huSv",
        "outputId": "c499274e-c363-4167-d719-5aed12203255"
      },
      "execution_count": null,
      "outputs": [
        {
          "output_type": "stream",
          "name": "stdout",
          "text": [
            "Enter temperature in Celsius (or type 'random' for a random value, 'exit' to quit): 35\n",
            "Temperature is normal: 35.0°C\n",
            "Enter temperature in Celsius (or type 'random' for a random value, 'exit' to quit): 30\n",
            "Temperature is too low: 30.0°C\n",
            "Enter temperature in Celsius (or type 'random' for a random value, 'exit' to quit): 42\n",
            "Temperature is normal: 42.0°C\n",
            "Enter temperature in Celsius (or type 'random' for a random value, 'exit' to quit): 49\n",
            "Temperature is too high: 49.0°C\n",
            "Enter temperature in Celsius (or type 'random' for a random value, 'exit' to quit): random\n",
            "Generated random temperature: 37°C\n",
            "Temperature is normal: 37°C\n",
            "Enter temperature in Celsius (or type 'random' for a random value, 'exit' to quit): exit\n",
            "Exiting...\n"
          ]
        }
      ]
    },
    {
      "cell_type": "code",
      "source": [
        "# prompt: To-Do notes builder - give options 1. add tasks, 2.view tasks, 3.delete, 4.mark task as completed, and run loop till exit is given as exit\n",
        "\n",
        "def todo_app():\n",
        "    tasks = []\n",
        "    while True:\n",
        "        print(\"\\nChoose an action:\")\n",
        "        print(\"1. Add task\")\n",
        "        print(\"2. View tasks\")\n",
        "        print(\"3. Delete task\")\n",
        "        print(\"4. Mark task as completed\")\n",
        "        print(\"5. Exit\")\n",
        "\n",
        "        choice = input(\"Enter your choice: \")\n",
        "\n",
        "        if choice == '1':\n",
        "            task = input(\"Enter task description: \")\n",
        "            tasks.append({\"description\": task, \"completed\": False})\n",
        "        elif choice == '2':\n",
        "            if not tasks:\n",
        "                print(\"No tasks yet.\")\n",
        "            else:\n",
        "                for i, task in enumerate(tasks):\n",
        "                    status = \"[x]\" if task[\"completed\"] else \"[ ]\"\n",
        "                    print(f\"{i+1}. {status} {task['description']}\")\n",
        "        elif choice == '3':\n",
        "            if not tasks:\n",
        "                print(\"No tasks to delete.\")\n",
        "            else:\n",
        "                index = int(input(\"Enter task number to delete: \")) - 1\n",
        "                if 0 <= index < len(tasks):\n",
        "                  del tasks[index]\n",
        "                  print(\"Task deleted.\")\n",
        "                else:\n",
        "                    print(\"Invalid task number.\")\n",
        "        elif choice == '4':\n",
        "            if not tasks:\n",
        "                print(\"No tasks to mark as complete.\")\n",
        "            else:\n",
        "                index = int(input(\"Enter task number to mark as complete: \")) - 1\n",
        "                if 0 <= index < len(tasks):\n",
        "                  tasks[index][\"completed\"] = True\n",
        "                  print(\"Task marked as complete.\")\n",
        "                else:\n",
        "                    print(\"Invalid task number.\")\n",
        "        elif choice == '5':\n",
        "            print(\"Exiting...\")\n",
        "            break\n",
        "        else:\n",
        "            print(\"Invalid choice. Please try again.\")\n",
        "\n",
        "# Call todo_app() instead of temperature_monitor(). You can uncomment the other function to test as well.\n",
        "todo_app()\n",
        "# temperature_monitor()\n"
      ],
      "metadata": {
        "id": "CTjJUPWwWCBm"
      },
      "execution_count": null,
      "outputs": []
    },
    {
      "cell_type": "code",
      "source": [
        "def todo():\n",
        "    tasks = []\n",
        "    while True:\n",
        "        print(\"\\nChoose an action:\")\n",
        "        print(\"1. Add task\")\n",
        "        print(\"2. View tasks\")\n",
        "        print(\"3. Delete task\")\n",
        "        print(\"4. Mark task as completed\")\n",
        "        print(\"5. Exit\")\n",
        "\n",
        "        choice = input(\"Enter your choice: \")\n",
        "\n",
        "        if choice == '1':\n",
        "            task = input(\"Enter task: \")\n",
        "            tasks.append({\"description\": task, \"completed\": False})\n",
        "        elif choice == '2':\n",
        "            if not tasks:\n",
        "                print(\"No tasks yet.\")\n",
        "            else:\n",
        "                for i, task in enumerate(tasks):\n",
        "                    status = \"[x]\" if task[\"completed\"] else \"[ ]\"\n",
        "                    print(f\"{i+1}. {status} {task['description']}\")\n",
        "        elif choice == '3':\n",
        "            if not tasks:\n",
        "                print(\"No tasks in list.\")\n",
        "            else:\n",
        "                index = int(input(\"Enter task number to delete: \")) - 1\n",
        "                if 0 <= index < len(tasks):\n",
        "                  del tasks[index]\n",
        "                  print(\"Task deleted.\")\n",
        "                else:\n",
        "                    print(\"Invalid task number.\")\n",
        "        elif choice == '4':\n",
        "            if not tasks:\n",
        "                print(\"No tasks to mark as complete.\")\n",
        "            else:\n",
        "                index = int(input(\"Enter task number to mark as complete: \")) - 1\n",
        "                if 0 <= index < len(tasks):\n",
        "                  tasks[index][\"completed\"] = True\n",
        "                  print(\"marked as complete.\")\n",
        "                else:\n",
        "                    print(\"Invalid task number.\")\n",
        "        elif choice == '5':\n",
        "            print(\"exiting\")\n",
        "            break\n",
        "        else:\n",
        "            print(\"Invalid choice\")\n",
        "todo()\n",
        "\n"
      ],
      "metadata": {
        "id": "7O57wNpxW_fX"
      },
      "execution_count": null,
      "outputs": []
    },
    {
      "cell_type": "code",
      "source": [
        "def display_menu():\n",
        "    print(\"\\nChoose an action:\")\n",
        "    print(\"1. Add task\")\n",
        "    print(\"2. View tasks\")\n",
        "    print(\"3. Delete task\")\n",
        "    print(\"4. Mark as completed\")\n",
        "    print(\"5. Exit\")\n",
        "\n",
        "def add_task(tasks):\n",
        "    task = input(\"Enter task description: \")\n",
        "    tasks.append({\"description\": task, \"completed\": False})\n",
        "    print(\"Task added.\")\n",
        "\n",
        "def view_tasks(tasks):\n",
        "    if not tasks:\n",
        "        print(\"No tasks yet.\")\n",
        "    else:\n",
        "        print(\"\\nYour Tasks:\")\n",
        "        for i, task in enumerate(tasks, start=1):\n",
        "            status = \"completed\" if task[\"completed\"] else \"not completed\"\n",
        "            print(f\"{i}. {task['description']} (status = {status})\")\n",
        "\n",
        "def delete_task(tasks):\n",
        "    if not tasks:\n",
        "        print(\"No tasks to delete.\")\n",
        "        return\n",
        "    try:\n",
        "        index = int(input(\"Enter task number to delete: \")) - 1\n",
        "        if 0 <= index < len(tasks):\n",
        "            del tasks[index]\n",
        "            print(\"Task deleted.\")\n",
        "        else:\n",
        "            print(\"Invalid task number.\")\n",
        "    except ValueError:\n",
        "        print(\"Please enter a valid number.\")\n",
        "\n",
        "def complete_task(tasks):\n",
        "    if not tasks:\n",
        "        print(\"No tasks to mark as complete.\")\n",
        "        return\n",
        "    try:\n",
        "        index = int(input(\"Enter task number to mark as complete: \")) - 1\n",
        "        if 0 <= index < len(tasks):\n",
        "            tasks[index][\"completed\"] = True\n",
        "            print(\"marked as complete.\")\n",
        "        else:\n",
        "            print(\"Invalid task number.\")\n",
        "    except ValueError:\n",
        "        print(\"Please enter a valid number.\")\n",
        "\n",
        "tasks = []\n",
        "while True:\n",
        "    display_menu()\n",
        "    choice = input(\"Choice: \").strip()\n",
        "\n",
        "    if choice == '1':\n",
        "        add_task(tasks)\n",
        "    elif choice == '2':\n",
        "        view_tasks(tasks)\n",
        "    elif choice == '3':\n",
        "        delete_task(tasks)\n",
        "    elif choice == '4':\n",
        "        complete_task(tasks)\n",
        "    elif choice == '5':\n",
        "        print(\"Exiting\")\n",
        "        break\n",
        "    else:\n",
        "        print(\"Invalid\")\n",
        "\n"
      ],
      "metadata": {
        "colab": {
          "base_uri": "https://localhost:8080/"
        },
        "id": "RVuerjNsgR98",
        "outputId": "5dcf0645-5714-4d55-aac6-df8366b4fa99"
      },
      "execution_count": null,
      "outputs": [
        {
          "output_type": "stream",
          "name": "stdout",
          "text": [
            "\n",
            "Choose an action:\n",
            "1. Add task\n",
            "2. View tasks\n",
            "3. Delete task\n",
            "4. Mark as completed\n",
            "5. Exit\n",
            "Choice: 2\n",
            "No tasks yet.\n",
            "\n",
            "Choose an action:\n",
            "1. Add task\n",
            "2. View tasks\n",
            "3. Delete task\n",
            "4. Mark as completed\n",
            "5. Exit\n",
            "Choice: 1\n",
            "Enter task description: complete case study\n",
            "Task added.\n",
            "\n",
            "Choose an action:\n",
            "1. Add task\n",
            "2. View tasks\n",
            "3. Delete task\n",
            "4. Mark as completed\n",
            "5. Exit\n",
            "Choice: 1\n",
            "Enter task description: complete codetantra\n",
            "Task added.\n",
            "\n",
            "Choose an action:\n",
            "1. Add task\n",
            "2. View tasks\n",
            "3. Delete task\n",
            "4. Mark as completed\n",
            "5. Exit\n",
            "Choice: 2\n",
            "\n",
            "Your Tasks:\n",
            "1. complete case study (status = not completed)\n",
            "2. complete codetantra (status = not completed)\n",
            "\n",
            "Choose an action:\n",
            "1. Add task\n",
            "2. View tasks\n",
            "3. Delete task\n",
            "4. Mark as completed\n",
            "5. Exit\n",
            "Choice: 4\n",
            "Enter task number to mark as complete: 1\n",
            "marked as complete.\n",
            "\n",
            "Choose an action:\n",
            "1. Add task\n",
            "2. View tasks\n",
            "3. Delete task\n",
            "4. Mark as completed\n",
            "5. Exit\n",
            "Choice: 2\n",
            "\n",
            "Your Tasks:\n",
            "1. complete case study (status = completed)\n",
            "2. complete codetantra (status = not completed)\n",
            "\n",
            "Choose an action:\n",
            "1. Add task\n",
            "2. View tasks\n",
            "3. Delete task\n",
            "4. Mark as completed\n",
            "5. Exit\n",
            "Choice: 1\n",
            "Enter task description: sleep\n",
            "Task added.\n",
            "\n",
            "Choose an action:\n",
            "1. Add task\n",
            "2. View tasks\n",
            "3. Delete task\n",
            "4. Mark as completed\n",
            "5. Exit\n",
            "Choice: 3\n",
            "Enter task number to delete: 5\n",
            "Invalid task number.\n",
            "\n",
            "Choose an action:\n",
            "1. Add task\n",
            "2. View tasks\n",
            "3. Delete task\n",
            "4. Mark as completed\n",
            "5. Exit\n",
            "Choice: 2\n",
            "\n",
            "Your Tasks:\n",
            "1. complete case study (status = completed)\n",
            "2. complete codetantra (status = not completed)\n",
            "3. sleep (status = not completed)\n",
            "\n",
            "Choose an action:\n",
            "1. Add task\n",
            "2. View tasks\n",
            "3. Delete task\n",
            "4. Mark as completed\n",
            "5. Exit\n",
            "Choice: 3\n",
            "Enter task number to delete: 3\n",
            "Task deleted.\n",
            "\n",
            "Choose an action:\n",
            "1. Add task\n",
            "2. View tasks\n",
            "3. Delete task\n",
            "4. Mark as completed\n",
            "5. Exit\n",
            "Choice: 2\n",
            "\n",
            "Your Tasks:\n",
            "1. complete case study (status = completed)\n",
            "2. complete codetantra (status = not completed)\n",
            "\n",
            "Choose an action:\n",
            "1. Add task\n",
            "2. View tasks\n",
            "3. Delete task\n",
            "4. Mark as completed\n",
            "5. Exit\n"
          ]
        }
      ]
    },
    {
      "cell_type": "code",
      "source": [
        "import random\n",
        "\n",
        "def genOtp(length=6):\n",
        "  otp = \"\"\n",
        "  for i in range(length):\n",
        "    otp = otp + str(random.randint(0,9))\n",
        "  return otp\n",
        "\n",
        "\n",
        "print(\"Your otp is =\", genOtp())\n",
        "\n"
      ],
      "metadata": {
        "colab": {
          "base_uri": "https://localhost:8080/"
        },
        "id": "Or49cqKXas20",
        "outputId": "35e587d2-04ac-4b7a-b428-cb9517d990f8"
      },
      "execution_count": null,
      "outputs": [
        {
          "output_type": "stream",
          "name": "stdout",
          "text": [
            "Your otp is = 778806\n"
          ]
        }
      ]
    },
    {
      "cell_type": "code",
      "source": [
        "num = 10;\n",
        "if num>0:\n",
        "  print(\"blub\")"
      ],
      "metadata": {
        "colab": {
          "base_uri": "https://localhost:8080/"
        },
        "id": "OJNGciXJaqEQ",
        "outputId": "d81118a0-92f0-44e1-c422-ebe596073862"
      },
      "execution_count": null,
      "outputs": [
        {
          "output_type": "stream",
          "name": "stdout",
          "text": [
            "blub\n"
          ]
        }
      ]
    },
    {
      "cell_type": "code",
      "source": [
        "def increment(list1):\n",
        "  for i in range(0,len(list1)):\n",
        "    list1[i]+=10\n",
        "  print(\"list1 id= \",id(list1))\n",
        "  return list1\n",
        "\n",
        "list = [1,2,3,4,5,6,7,8,9,10]\n",
        "print(\"ID=\",id(list))\n",
        "print(list)\n",
        "increment(list)\n",
        "print(list)\n"
      ],
      "metadata": {
        "colab": {
          "base_uri": "https://localhost:8080/"
        },
        "id": "3LcI-Ox9OBvh",
        "outputId": "4c5b425c-c395-492d-d99e-87944242bd5d"
      },
      "execution_count": null,
      "outputs": [
        {
          "output_type": "stream",
          "name": "stdout",
          "text": [
            "ID= 140282167821952\n",
            "[1, 2, 3, 4, 5, 6, 7, 8, 9, 10]\n",
            "list1 id=  140282167821952\n",
            "[11, 12, 13, 14, 15, 16, 17, 18, 19, 20]\n"
          ]
        }
      ]
    },
    {
      "cell_type": "code",
      "source": [
        "op = int(input())\n",
        "\n",
        "if op==1:\n",
        "  print(\"ts pmo icl sybau\")\n",
        "elif op==2:\n",
        "  print(\"just give the dih vro i don wan the employement\")\n",
        "elif op==3:\n",
        "  print(\"lebrons veiny ahh dih\")\n",
        "elif op==4:\n",
        "  print(\"i think that meme is still massive\")\n"
      ],
      "metadata": {
        "colab": {
          "base_uri": "https://localhost:8080/"
        },
        "id": "Mlxs4MQ8RTlF",
        "outputId": "b98da866-785f-4f46-94fd-5b5224e4e39b"
      },
      "execution_count": null,
      "outputs": [
        {
          "output_type": "stream",
          "name": "stdout",
          "text": [
            "3\n",
            "lebrons veiny ahh dih\n"
          ]
        }
      ]
    },
    {
      "cell_type": "code",
      "source": [
        "def computeaverage(list1,n):\n",
        "  sum=0\n",
        "  for i in range(0,n):\n",
        "    sum=sum+list1[i]\n",
        "    average = sum/n\n",
        "  return average\n",
        "\n",
        "\n",
        "list1=[]\n",
        "print(\"No. of students = \")\n",
        "n =int(input())\n",
        "for i in range(0,n):\n",
        "  print(\"enter marks of student\",(i+1),\":\")\n",
        "  marks=int(input())\n",
        "  list1.append(marks)\n",
        "print(list1,n)\n",
        "\n",
        "average= computeaverage(list1,n)\n",
        "print(\"average=\",average)\n"
      ],
      "metadata": {
        "colab": {
          "base_uri": "https://localhost:8080/"
        },
        "id": "VSNVoa5ZWkmc",
        "outputId": "1ab974c5-dff9-440d-fdf0-ef2fac1d6288"
      },
      "execution_count": null,
      "outputs": [
        {
          "output_type": "stream",
          "name": "stdout",
          "text": [
            "No. of students = \n",
            "4\n",
            "enter marks of student 1 :\n",
            "4\n",
            "enter marks of student 2 :\n",
            "4\n",
            "enter marks of student 3 :\n",
            "4\n",
            "enter marks of student 4 :\n",
            "4\n",
            "[4, 4, 4, 4] 4\n",
            "average= 4.0\n"
          ]
        }
      ]
    },
    {
      "cell_type": "code",
      "source": [
        "# prompt: The Space Research Center has dispatched an encoded string to the National Defense Academy for decoding. A set decoding process has been revealed for unraveling the encoded message. Can you implement the decoding process to unveil the original string?\n",
        "# Process of decoding:\n",
        "# The input string is composed of all the characters, and one must remove all the unwanted characters from the given string in order to achieve the decoded string. Unwanted characters are those that are not alphabets. Space is also considered an unwanted character.\n",
        "# Input format:\n",
        "# The input is the string which contains different characters (both alphabet and non-alphabet characters are included).\n",
        "# Output format:\n",
        "# The output is the decoded string. simple code without importinf any library\n",
        "\n",
        "def decode_string(encoded_string):\n",
        "    decoded_string = \"\"\n",
        "    for char in encoded_string:\n",
        "        if 'a' <= char <= 'z' or 'A' <= char <= 'Z':\n",
        "            decoded_string += char\n",
        "    return decoded_string\n",
        "\n",
        "# Example usage (you can replace this with user input)\n",
        "encoded_string = input()\n",
        "decoded_string = decode_string(encoded_string)\n",
        "decoded_string\n"
      ],
      "metadata": {
        "id": "zZ8Bc0iLaURY"
      },
      "execution_count": null,
      "outputs": []
    },
    {
      "cell_type": "code",
      "source": [
        "# prompt: The Timeless Charm Jewellery store has implemented a unique system to create personalized jewellery engravings. Customers are intrigued by the idea of engraving a special message on their chosen piece. The store has decided to automate the process by asking customers to input a string, and the system will generate a new string by concatenating the first, middle, and last characters of the input string. However, there's a catch - the input string must be longer than 2 characters for the engraving to be meaningful.\n",
        "# Write a Python program to implement this engraving system.\n",
        "# Input Format:\n",
        "# A single line of input contains a string given by the customer.\n",
        "# Output Format:\n",
        "# The output contains a new string generated by the system by concatenating the first, middle, and last characters of the input string, if the length of the string is greater than 2, otherwise print \"Invalid\"\n",
        "# Note:\n",
        "# If the length of the string is even, consider the middle two elements to form a new string.\n",
        "# Refer to the test cases for a better understanding. no importing libraries and simple code\n",
        "\n",
        "def generate_engraving(input_string):\n",
        "    string_length = len(input_string)\n",
        "    if string_length <= 2:\n",
        "        return \"Invalid\"\n",
        "    else:\n",
        "        first_char = input_string[0]\n",
        "        if string_length % 2 == 0:\n",
        "            middle_chars = input_string[string_length // 2 - 1:string_length // 2 + 1]\n",
        "        else:\n",
        "            middle_chars = input_string[string_length // 2]\n",
        "        last_char = input_string[-1]\n",
        "        return first_char + str(middle_chars) + last_char\n",
        "\n",
        "input_string = input()\n",
        "result = generate_engraving(input_string)\n",
        "result\n"
      ],
      "metadata": {
        "colab": {
          "base_uri": "https://localhost:8080/",
          "height": 54
        },
        "id": "jVIrZktOcjXI",
        "outputId": "322d2aa9-8824-40fb-c851-27fa1dbeed20"
      },
      "execution_count": null,
      "outputs": [
        {
          "name": "stdout",
          "output_type": "stream",
          "text": [
            "busted on her feet yo\n"
          ]
        },
        {
          "output_type": "execute_result",
          "data": {
            "text/plain": [
              "'bho'"
            ],
            "application/vnd.google.colaboratory.intrinsic+json": {
              "type": "string"
            }
          },
          "metadata": {},
          "execution_count": 24
        }
      ]
    },
    {
      "cell_type": "code",
      "source": [
        "def increment(list2):\n",
        "  print(\"list2 id= \",id(list2))\n",
        "\n",
        "  list2=[10,20,30,40,50]\n",
        "  print(\"list2 id= \",id(list2))\n",
        "  print(list2)\n",
        "  return list1\n",
        "list1 = [1,2,3,4,5]\n",
        "print(\"ID=\",id(list1))\n",
        "print(list1)\n",
        "increment(list1)\n",
        "print(\"ID=\",id(list1))\n",
        "print(list1)"
      ],
      "metadata": {
        "colab": {
          "base_uri": "https://localhost:8080/"
        },
        "id": "IIluRvP9SMj8",
        "outputId": "7e8df1f7-b3d0-464c-c436-df4f9cc1485d"
      },
      "execution_count": null,
      "outputs": [
        {
          "output_type": "stream",
          "name": "stdout",
          "text": [
            "ID= 140281050813568\n",
            "[1, 2, 3, 4, 5]\n",
            "list2 id=  140281050813568\n",
            "list2 id=  140281052418368\n",
            "[10, 20, 30, 40, 50]\n",
            "ID= 140281050813568\n",
            "[1, 2, 3, 4, 5]\n"
          ]
        }
      ]
    },
    {
      "cell_type": "code",
      "source": [
        "import matplotlib.pyplot as plt\n",
        "import time\n",
        "\n",
        "# Initialize brightness level\n",
        "brightness_level = 5  # Start at mid-level\n",
        "max_level = 10\n",
        "min_level = 1\n",
        "\n",
        "# Set up the plot\n",
        "fig, ax = plt.subplots()\n",
        "ax.set_xlim(-1, 1)\n",
        "ax.set_ylim(-1, 1)\n",
        "ax.axis(\"off\")\n",
        "\n",
        "plt.ion()  # Turn on interactive mode\n",
        "\n",
        "def update_led():\n",
        "    global brightness_level  # Ensure the function uses the global variable\n",
        "    grayscale_value = max(0.1, 1 - ((brightness_level - 1) / (max_level - 1)) * 0.9)  # Ensure level 1 is visible\n",
        "    ax.clear()\n",
        "    ax.set_xlim(-1, 1)\n",
        "    ax.set_ylim(-1, 1)\n",
        "    ax.axis(\"off\")\n",
        "    ax.scatter(0, 0, s=5000, color=(grayscale_value, grayscale_value, grayscale_value))\n",
        "    ax.text(-0.5, 0.8, f\"Brightness Level: {brightness_level}\", fontsize=12, color='black', bbox=dict(facecolor='white', edgecolor='black'))\n",
        "    plt.draw()\n",
        "    plt.pause(0.1)  # Pause to update the plot\n",
        "\n",
        "# Display initial state\n",
        "update_led()\n",
        "\n",
        "# Wait for user input\n",
        "while True:\n",
        "    user_input = input(\"Increase (+), Decrease (-), Exit (x): \").strip().lower()\n",
        "    if user_input == '+':\n",
        "        if brightness_level < max_level:\n",
        "            brightness_level += 1\n",
        "    elif user_input == '-':\n",
        "        if brightness_level > min_level:\n",
        "            brightness_level -= 1\n",
        "    elif user_input == 'x':\n",
        "        break\n",
        "    update_led()\n",
        "\n",
        "plt.ioff()  # Turn off interactive mode\n",
        "plt.show()\n"
      ],
      "metadata": {
        "colab": {
          "base_uri": "https://localhost:8080/",
          "height": 1000
        },
        "id": "EVjwIgSfJtMJ",
        "outputId": "91bf0851-970c-4106-9d82-1a6ea500d9ba"
      },
      "execution_count": null,
      "outputs": [
        {
          "output_type": "display_data",
          "data": {
            "text/plain": [
              "<Figure size 640x480 with 1 Axes>"
            ],
            "image/png": "[encoded data removed]"
          },
          "metadata": {}
        },
        {
          "name": "stdout",
          "output_type": "stream",
          "text": [
            "Increase (+), Decrease (-), Exit (x): +\n"
          ]
        },
        {
          "output_type": "display_data",
          "data": {
            "text/plain": [
              "<Figure size 640x480 with 0 Axes>"
            ]
          },
          "metadata": {}
        },
        {
          "name": "stdout",
          "output_type": "stream",
          "text": [
            "Increase (+), Decrease (-), Exit (x): +\n"
          ]
        },
        {
          "output_type": "display_data",
          "data": {
            "text/plain": [
              "<Figure size 640x480 with 0 Axes>"
            ]
          },
          "metadata": {}
        },
        {
          "name": "stdout",
          "output_type": "stream",
          "text": [
            "Increase (+), Decrease (-), Exit (x): +\n"
          ]
        },
        {
          "output_type": "display_data",
          "data": {
            "text/plain": [
              "<Figure size 640x480 with 0 Axes>"
            ]
          },
          "metadata": {}
        },
        {
          "name": "stdout",
          "output_type": "stream",
          "text": [
            "Increase (+), Decrease (-), Exit (x): +\n"
          ]
        },
        {
          "output_type": "display_data",
          "data": {
            "text/plain": [
              "<Figure size 640x480 with 0 Axes>"
            ]
          },
          "metadata": {}
        },
        {
          "name": "stdout",
          "output_type": "stream",
          "text": [
            "Increase (+), Decrease (-), Exit (x): -\n"
          ]
        },
        {
          "output_type": "display_data",
          "data": {
            "text/plain": [
              "<Figure size 640x480 with 0 Axes>"
            ]
          },
          "metadata": {}
        },
        {
          "name": "stdout",
          "output_type": "stream",
          "text": [
            "Increase (+), Decrease (-), Exit (x): -\n"
          ]
        },
        {
          "output_type": "display_data",
          "data": {
            "text/plain": [
              "<Figure size 640x480 with 0 Axes>"
            ]
          },
          "metadata": {}
        },
        {
          "name": "stdout",
          "output_type": "stream",
          "text": [
            "Increase (+), Decrease (-), Exit (x): +\n"
          ]
        },
        {
          "output_type": "display_data",
          "data": {
            "text/plain": [
              "<Figure size 640x480 with 0 Axes>"
            ]
          },
          "metadata": {}
        },
        {
          "output_type": "error",
          "ename": "KeyboardInterrupt",
          "evalue": "Interrupted by user",
          "traceback": [
            "\u001b[0;31m---------------------------------------------------------------------------\u001b[0m",
            "\u001b[0;31mKeyboardInterrupt\u001b[0m                         Traceback (most recent call last)",
            "\u001b[0;32m<ipython-input-3-6c3cd4efab2a>\u001b[0m in \u001b[0;36m<cell line: 0>\u001b[0;34m()\u001b[0m\n\u001b[1;32m     32\u001b[0m \u001b[0;31m# Wait for user input\u001b[0m\u001b[0;34m\u001b[0m\u001b[0;34m\u001b[0m\u001b[0m\n\u001b[1;32m     33\u001b[0m \u001b[0;32mwhile\u001b[0m \u001b[0;32mTrue\u001b[0m\u001b[0;34m:\u001b[0m\u001b[0;34m\u001b[0m\u001b[0;34m\u001b[0m\u001b[0m\n\u001b[0;32m---> 34\u001b[0;31m     \u001b[0muser_input\u001b[0m \u001b[0;34m=\u001b[0m \u001b[0minput\u001b[0m\u001b[0;34m(\u001b[0m\u001b[0;34m\"Increase (+), Decrease (-), Exit (x): \"\u001b[0m\u001b[0;34m)\u001b[0m\u001b[0;34m.\u001b[0m\u001b[0mstrip\u001b[0m\u001b[0;34m(\u001b[0m\u001b[0;34m)\u001b[0m\u001b[0;34m.\u001b[0m\u001b[0mlower\u001b[0m\u001b[0;34m(\u001b[0m\u001b[0;34m)\u001b[0m\u001b[0;34m\u001b[0m\u001b[0;34m\u001b[0m\u001b[0m\n\u001b[0m\u001b[1;32m     35\u001b[0m     \u001b[0;32mif\u001b[0m \u001b[0muser_input\u001b[0m \u001b[0;34m==\u001b[0m \u001b[0;34m'+'\u001b[0m\u001b[0;34m:\u001b[0m\u001b[0;34m\u001b[0m\u001b[0;34m\u001b[0m\u001b[0m\n\u001b[1;32m     36\u001b[0m         \u001b[0;32mif\u001b[0m \u001b[0mbrightness_level\u001b[0m \u001b[0;34m<\u001b[0m \u001b[0mmax_level\u001b[0m\u001b[0;34m:\u001b[0m\u001b[0;34m\u001b[0m\u001b[0;34m\u001b[0m\u001b[0m\n",
            "\u001b[0;32m/usr/local/lib/python3.11/dist-packages/ipykernel/kernelbase.py\u001b[0m in \u001b[0;36mraw_input\u001b[0;34m(self, prompt)\u001b[0m\n\u001b[1;32m   1175\u001b[0m                 \u001b[0;34m\"raw_input was called, but this frontend does not support input requests.\"\u001b[0m\u001b[0;34m\u001b[0m\u001b[0;34m\u001b[0m\u001b[0m\n\u001b[1;32m   1176\u001b[0m             )\n\u001b[0;32m-> 1177\u001b[0;31m         return self._input_request(\n\u001b[0m\u001b[1;32m   1178\u001b[0m             \u001b[0mstr\u001b[0m\u001b[0;34m(\u001b[0m\u001b[0mprompt\u001b[0m\u001b[0;34m)\u001b[0m\u001b[0;34m,\u001b[0m\u001b[0;34m\u001b[0m\u001b[0;34m\u001b[0m\u001b[0m\n\u001b[1;32m   1179\u001b[0m             \u001b[0mself\u001b[0m\u001b[0;34m.\u001b[0m\u001b[0m_parent_ident\u001b[0m\u001b[0;34m[\u001b[0m\u001b[0;34m\"shell\"\u001b[0m\u001b[0;34m]\u001b[0m\u001b[0;34m,\u001b[0m\u001b[0;34m\u001b[0m\u001b[0;34m\u001b[0m\u001b[0m\n",
            "\u001b[0;32m/usr/local/lib/python3.11/dist-packages/ipykernel/kernelbase.py\u001b[0m in \u001b[0;36m_input_request\u001b[0;34m(self, prompt, ident, parent, password)\u001b[0m\n\u001b[1;32m   1217\u001b[0m             \u001b[0;32mexcept\u001b[0m \u001b[0mKeyboardInterrupt\u001b[0m\u001b[0;34m:\u001b[0m\u001b[0;34m\u001b[0m\u001b[0;34m\u001b[0m\u001b[0m\n\u001b[1;32m   1218\u001b[0m                 \u001b[0;31m# re-raise KeyboardInterrupt, to truncate traceback\u001b[0m\u001b[0;34m\u001b[0m\u001b[0;34m\u001b[0m\u001b[0m\n\u001b[0;32m-> 1219\u001b[0;31m                 \u001b[0;32mraise\u001b[0m \u001b[0mKeyboardInterrupt\u001b[0m\u001b[0;34m(\u001b[0m\u001b[0;34m\"Interrupted by user\"\u001b[0m\u001b[0;34m)\u001b[0m \u001b[0;32mfrom\u001b[0m \u001b[0;32mNone\u001b[0m\u001b[0;34m\u001b[0m\u001b[0;34m\u001b[0m\u001b[0m\n\u001b[0m\u001b[1;32m   1220\u001b[0m             \u001b[0;32mexcept\u001b[0m \u001b[0mException\u001b[0m\u001b[0;34m:\u001b[0m\u001b[0;34m\u001b[0m\u001b[0;34m\u001b[0m\u001b[0m\n\u001b[1;32m   1221\u001b[0m                 \u001b[0mself\u001b[0m\u001b[0;34m.\u001b[0m\u001b[0mlog\u001b[0m\u001b[0;34m.\u001b[0m\u001b[0mwarning\u001b[0m\u001b[0;34m(\u001b[0m\u001b[0;34m\"Invalid Message:\"\u001b[0m\u001b[0;34m,\u001b[0m \u001b[0mexc_info\u001b[0m\u001b[0;34m=\u001b[0m\u001b[0;32mTrue\u001b[0m\u001b[0;34m)\u001b[0m\u001b[0;34m\u001b[0m\u001b[0;34m\u001b[0m\u001b[0m\n",
            "\u001b[0;31mKeyboardInterrupt\u001b[0m: Interrupted by user"
          ]
        }
      ]
    },
    {
      "cell_type": "code",
      "source": [
        "import numpy as np\n",
        "import matplotlib.pyplot as plt\n",
        "#from google.colab import widgets # Removed this import\n",
        "from ipywidgets import interact, IntSlider, FloatSlider # Import FloatSlider from ipywidgets\n",
        "\n",
        "# Simulated LED Brightness Control\n",
        "def led_brightness_control(brightness):\n",
        "    fig, ax = plt.subplots(figsize=(2, 2))\n",
        "    ax.set_facecolor((0, 0, 0))  # Black background\n",
        "    ax.set_xticks([])\n",
        "    ax.set_yticks([])\n",
        "    ax.set_xlim(0, 1)\n",
        "    ax.set_ylim(0, 1)\n",
        "\n",
        "    # LED represented as a circle with brightness\n",
        "    led_color = (1, 1, 0, brightness / 100)  # Yellow LED with alpha transparency\n",
        "    circle = plt.Circle((0.5, 0.5), 0.3, color=led_color)\n",
        "    ax.add_patch(circle)\n",
        "\n",
        "    plt.show()\n",
        "\n",
        "# Create matplotlib figure\n",
        "fig, ax = plt.subplots()\n",
        "plt.subplots_adjust(left=0.1, bottom=0.25)\n",
        "\n",
        "# Add a slider\n",
        "ax_slider = plt.axes([0.1, 0.1, 0.8, 0.05])\n",
        "slider = FloatSlider(min=0, max=100, step=1, value=50, description='Brightness') # Use FloatSlider directly\n",
        "\n",
        "# Update function\n",
        "def update_brightness(val):\n",
        "    led_brightness_control(val)\n",
        "    print(f\"Brightness: {val}%\")\n",
        "\n",
        "# Interactive control\n",
        "interact(update_brightness,(val=slider));"
      ],
      "metadata": {
        "id": "NN3pOu-7KsO4"
      },
      "execution_count": null,
      "outputs": []
    },
    {
      "cell_type": "code",
      "source": [
        "import matplotlib.pyplot as plt\n",
        "import time\n",
        "\n",
        "# Initialize brightness level\n",
        "brightness_level = 5  # Start at mid-level\n",
        "max_level = 10\n",
        "min_level = 1\n",
        "\n",
        "# Set up the plot\n",
        "fig, ax = plt.subplots()\n",
        "ax.set_xlim(-1, 1)\n",
        "ax.set_ylim(-1, 1)\n",
        "ax.axis(\"off\")\n",
        "\n",
        "plt.ion()  # Turn on interactive mode\n",
        "\n",
        "def update_led():\n",
        "    global brightness_level  # Ensure the function uses the global variable\n",
        "    grayscale_value = max(0.2, 1 - ((brightness_level - 1) / (max_level - 1)))  # Ensure level 1 is visible\n",
        "    ax.clear()\n",
        "    ax.set_xlim(-1, 1)\n",
        "    ax.set_ylim(-1, 1)\n",
        "    ax.axis(\"off\")\n",
        "    ax.scatter(0, 0, s=5000, color=(grayscale_value, grayscale_value, grayscale_value))\n",
        "    ax.text(-0.5, 0.8, f\"Brightness Level: {brightness_level}\", fontsize=12, color='black', bbox=dict(facecolor='white', edgecolor='black'))\n",
        "    plt.draw()\n",
        "    plt.pause(0.1)  # Pause to update the plot\n",
        "\n",
        "# Display initial state\n",
        "update_led()\n",
        "\n",
        "# Wait for user input\n",
        "while True:\n",
        "    user_input = input(\"Increase (+), Decrease (-), Exit (x): \").strip().lower()\n",
        "    if user_input == '+':\n",
        "        if brightness_level < max_level:\n",
        "            brightness_level += 1\n",
        "    elif user_input == '-':\n",
        "        if brightness_level > min_level:\n",
        "            brightness_level -= 1\n",
        "    elif user_input == 'x':\n",
        "        break\n",
        "    update_led()\n",
        "\n",
        "plt.ioff()  # Turn off interactive mode\n",
        "plt.show()\n"
      ],
      "metadata": {
        "colab": {
          "base_uri": "https://localhost:8080/",
          "height": 784
        },
        "id": "O7gEc_90Lf6J",
        "outputId": "640de663-ad75-4131-e41b-e8b4f58c279c"
      },
      "execution_count": null,
      "outputs": [
        {
          "output_type": "display_data",
          "data": {
            "text/plain": [
              "<Figure size 640x480 with 1 Axes>"
            ],
            "image/png": "[encoded data removed]"
          },
          "metadata": {}
        },
        {
          "output_type": "error",
          "ename": "KeyboardInterrupt",
          "evalue": "Interrupted by user",
          "traceback": [
            "\u001b[0;31m---------------------------------------------------------------------------\u001b[0m",
            "\u001b[0;31mKeyboardInterrupt\u001b[0m                         Traceback (most recent call last)",
            "\u001b[0;32m<ipython-input-5-a70c30d436b0>\u001b[0m in \u001b[0;36m<cell line: 0>\u001b[0;34m()\u001b[0m\n\u001b[1;32m     32\u001b[0m \u001b[0;31m# Wait for user input\u001b[0m\u001b[0;34m\u001b[0m\u001b[0;34m\u001b[0m\u001b[0m\n\u001b[1;32m     33\u001b[0m \u001b[0;32mwhile\u001b[0m \u001b[0;32mTrue\u001b[0m\u001b[0;34m:\u001b[0m\u001b[0;34m\u001b[0m\u001b[0;34m\u001b[0m\u001b[0m\n\u001b[0;32m---> 34\u001b[0;31m     \u001b[0muser_input\u001b[0m \u001b[0;34m=\u001b[0m \u001b[0minput\u001b[0m\u001b[0;34m(\u001b[0m\u001b[0;34m\"Increase (+), Decrease (-), Exit (x): \"\u001b[0m\u001b[0;34m)\u001b[0m\u001b[0;34m.\u001b[0m\u001b[0mstrip\u001b[0m\u001b[0;34m(\u001b[0m\u001b[0;34m)\u001b[0m\u001b[0;34m.\u001b[0m\u001b[0mlower\u001b[0m\u001b[0;34m(\u001b[0m\u001b[0;34m)\u001b[0m\u001b[0;34m\u001b[0m\u001b[0;34m\u001b[0m\u001b[0m\n\u001b[0m\u001b[1;32m     35\u001b[0m     \u001b[0;32mif\u001b[0m \u001b[0muser_input\u001b[0m \u001b[0;34m==\u001b[0m \u001b[0;34m'+'\u001b[0m\u001b[0;34m:\u001b[0m\u001b[0;34m\u001b[0m\u001b[0;34m\u001b[0m\u001b[0m\n\u001b[1;32m     36\u001b[0m         \u001b[0;32mif\u001b[0m \u001b[0mbrightness_level\u001b[0m \u001b[0;34m<\u001b[0m \u001b[0mmax_level\u001b[0m\u001b[0;34m:\u001b[0m\u001b[0;34m\u001b[0m\u001b[0;34m\u001b[0m\u001b[0m\n",
            "\u001b[0;32m/usr/local/lib/python3.11/dist-packages/ipykernel/kernelbase.py\u001b[0m in \u001b[0;36mraw_input\u001b[0;34m(self, prompt)\u001b[0m\n\u001b[1;32m   1175\u001b[0m                 \u001b[0;34m\"raw_input was called, but this frontend does not support input requests.\"\u001b[0m\u001b[0;34m\u001b[0m\u001b[0;34m\u001b[0m\u001b[0m\n\u001b[1;32m   1176\u001b[0m             )\n\u001b[0;32m-> 1177\u001b[0;31m         return self._input_request(\n\u001b[0m\u001b[1;32m   1178\u001b[0m             \u001b[0mstr\u001b[0m\u001b[0;34m(\u001b[0m\u001b[0mprompt\u001b[0m\u001b[0;34m)\u001b[0m\u001b[0;34m,\u001b[0m\u001b[0;34m\u001b[0m\u001b[0;34m\u001b[0m\u001b[0m\n\u001b[1;32m   1179\u001b[0m             \u001b[0mself\u001b[0m\u001b[0;34m.\u001b[0m\u001b[0m_parent_ident\u001b[0m\u001b[0;34m[\u001b[0m\u001b[0;34m\"shell\"\u001b[0m\u001b[0;34m]\u001b[0m\u001b[0;34m,\u001b[0m\u001b[0;34m\u001b[0m\u001b[0;34m\u001b[0m\u001b[0m\n",
            "\u001b[0;32m/usr/local/lib/python3.11/dist-packages/ipykernel/kernelbase.py\u001b[0m in \u001b[0;36m_input_request\u001b[0;34m(self, prompt, ident, parent, password)\u001b[0m\n\u001b[1;32m   1217\u001b[0m             \u001b[0;32mexcept\u001b[0m \u001b[0mKeyboardInterrupt\u001b[0m\u001b[0;34m:\u001b[0m\u001b[0;34m\u001b[0m\u001b[0;34m\u001b[0m\u001b[0m\n\u001b[1;32m   1218\u001b[0m                 \u001b[0;31m# re-raise KeyboardInterrupt, to truncate traceback\u001b[0m\u001b[0;34m\u001b[0m\u001b[0;34m\u001b[0m\u001b[0m\n\u001b[0;32m-> 1219\u001b[0;31m                 \u001b[0;32mraise\u001b[0m \u001b[0mKeyboardInterrupt\u001b[0m\u001b[0;34m(\u001b[0m\u001b[0;34m\"Interrupted by user\"\u001b[0m\u001b[0;34m)\u001b[0m \u001b[0;32mfrom\u001b[0m \u001b[0;32mNone\u001b[0m\u001b[0;34m\u001b[0m\u001b[0;34m\u001b[0m\u001b[0m\n\u001b[0m\u001b[1;32m   1220\u001b[0m             \u001b[0;32mexcept\u001b[0m \u001b[0mException\u001b[0m\u001b[0;34m:\u001b[0m\u001b[0;34m\u001b[0m\u001b[0;34m\u001b[0m\u001b[0m\n\u001b[1;32m   1221\u001b[0m                 \u001b[0mself\u001b[0m\u001b[0;34m.\u001b[0m\u001b[0mlog\u001b[0m\u001b[0;34m.\u001b[0m\u001b[0mwarning\u001b[0m\u001b[0;34m(\u001b[0m\u001b[0;34m\"Invalid Message:\"\u001b[0m\u001b[0;34m,\u001b[0m \u001b[0mexc_info\u001b[0m\u001b[0;34m=\u001b[0m\u001b[0;32mTrue\u001b[0m\u001b[0;34m)\u001b[0m\u001b[0;34m\u001b[0m\u001b[0;34m\u001b[0m\u001b[0m\n",
            "\u001b[0;31mKeyboardInterrupt\u001b[0m: Interrupted by user"
          ]
        }
      ]
    },
    {
      "cell_type": "code",
      "source": [
        "import matplotlib.pyplot as plt\n",
        "import time\n",
        "\n",
        "# Initialize brightness level\n",
        "brightness_level = 5  # Start at mid-level\n",
        "max_level = 10\n",
        "min_level = 1\n",
        "\n",
        "# Set up the plot\n",
        "fig, ax = plt.subplots()\n",
        "ax.set_xlim(-1, 1)\n",
        "ax.set_ylim(-1, 1)\n",
        "ax.axis(\"off\")\n",
        "plt.ion()  # Turn on interactive mode\n",
        "\n",
        "# Display initial state\n",
        "while True:\n",
        "    grayscale_value = 1 - (brightness_level / max_level)\n",
        "    ax.clear()\n",
        "    ax.set_xlim(-1, 1)\n",
        "    ax.set_ylim(-1, 1)\n",
        "    ax.axis(\"off\")\n",
        "    ax.scatter(0, 0, s=5000, color=(grayscale_value, grayscale_value, grayscale_value))\n",
        "    ax.text(-0.5, 0.8, f\"Brightness Level: {brightness_level}\", fontsize=12, color='black', bbox=dict(facecolor='white', edgecolor='black'))\n",
        "    plt.draw()\n",
        "    plt.pause(0.1)  # Pause to update the plot\n",
        "\n",
        "\n",
        "    # Wait for user input\n",
        "    user_input = input(\"Increase (+), Decrease (-), Exit (x): \").strip().lower()\n",
        "    if user_input == '+':\n",
        "        if brightness_level < max_level:\n",
        "            brightness_level += 1\n",
        "    elif user_input == '-':\n",
        "        if brightness_level > min_level:\n",
        "            brightness_level -= 1\n",
        "    elif user_input == 'x':\n",
        "        break\n",
        "\n",
        "plt.ioff()  # Turn off interactive mode\n",
        "plt.show()\n"
      ],
      "metadata": {
        "colab": {
          "base_uri": "https://localhost:8080/",
          "height": 854
        },
        "id": "fSH_nyoxL_be",
        "outputId": "d003bfb5-3b2a-4e1a-c65d-f823381628b7"
      },
      "execution_count": null,
      "outputs": [
        {
          "output_type": "display_data",
          "data": {
            "text/plain": [
              "<Figure size 640x480 with 1 Axes>"
            ],
            "image/png": "[encoded data removed]"
          },
          "metadata": {}
        },
        {
          "name": "stdout",
          "output_type": "stream",
          "text": [
            "Increase (+), Decrease (-), Exit (x): +\n"
          ]
        },
        {
          "output_type": "display_data",
          "data": {
            "text/plain": [
              "<Figure size 640x480 with 0 Axes>"
            ]
          },
          "metadata": {}
        },
        {
          "name": "stdout",
          "output_type": "stream",
          "text": [
            "Increase (+), Decrease (-), Exit (x): +\n"
          ]
        },
        {
          "output_type": "display_data",
          "data": {
            "text/plain": [
              "<Figure size 640x480 with 0 Axes>"
            ]
          },
          "metadata": {}
        },
        {
          "output_type": "error",
          "ename": "KeyboardInterrupt",
          "evalue": "Interrupted by user",
          "traceback": [
            "\u001b[0;31m---------------------------------------------------------------------------\u001b[0m",
            "\u001b[0;31mKeyboardInterrupt\u001b[0m                         Traceback (most recent call last)",
            "\u001b[0;32m<ipython-input-8-16a0ba1dc8af>\u001b[0m in \u001b[0;36m<cell line: 0>\u001b[0;34m()\u001b[0m\n\u001b[1;32m     28\u001b[0m \u001b[0;34m\u001b[0m\u001b[0m\n\u001b[1;32m     29\u001b[0m     \u001b[0;31m# Wait for user input\u001b[0m\u001b[0;34m\u001b[0m\u001b[0;34m\u001b[0m\u001b[0m\n\u001b[0;32m---> 30\u001b[0;31m     \u001b[0muser_input\u001b[0m \u001b[0;34m=\u001b[0m \u001b[0minput\u001b[0m\u001b[0;34m(\u001b[0m\u001b[0;34m\"Increase (+), Decrease (-), Exit (x): \"\u001b[0m\u001b[0;34m)\u001b[0m\u001b[0;34m.\u001b[0m\u001b[0mstrip\u001b[0m\u001b[0;34m(\u001b[0m\u001b[0;34m)\u001b[0m\u001b[0;34m.\u001b[0m\u001b[0mlower\u001b[0m\u001b[0;34m(\u001b[0m\u001b[0;34m)\u001b[0m\u001b[0;34m\u001b[0m\u001b[0;34m\u001b[0m\u001b[0m\n\u001b[0m\u001b[1;32m     31\u001b[0m     \u001b[0;32mif\u001b[0m \u001b[0muser_input\u001b[0m \u001b[0;34m==\u001b[0m \u001b[0;34m'+'\u001b[0m\u001b[0;34m:\u001b[0m\u001b[0;34m\u001b[0m\u001b[0;34m\u001b[0m\u001b[0m\n\u001b[1;32m     32\u001b[0m         \u001b[0;32mif\u001b[0m \u001b[0mbrightness_level\u001b[0m \u001b[0;34m<\u001b[0m \u001b[0mmax_level\u001b[0m\u001b[0;34m:\u001b[0m\u001b[0;34m\u001b[0m\u001b[0;34m\u001b[0m\u001b[0m\n",
            "\u001b[0;32m/usr/local/lib/python3.11/dist-packages/ipykernel/kernelbase.py\u001b[0m in \u001b[0;36mraw_input\u001b[0;34m(self, prompt)\u001b[0m\n\u001b[1;32m   1175\u001b[0m                 \u001b[0;34m\"raw_input was called, but this frontend does not support input requests.\"\u001b[0m\u001b[0;34m\u001b[0m\u001b[0;34m\u001b[0m\u001b[0m\n\u001b[1;32m   1176\u001b[0m             )\n\u001b[0;32m-> 1177\u001b[0;31m         return self._input_request(\n\u001b[0m\u001b[1;32m   1178\u001b[0m             \u001b[0mstr\u001b[0m\u001b[0;34m(\u001b[0m\u001b[0mprompt\u001b[0m\u001b[0;34m)\u001b[0m\u001b[0;34m,\u001b[0m\u001b[0;34m\u001b[0m\u001b[0;34m\u001b[0m\u001b[0m\n\u001b[1;32m   1179\u001b[0m             \u001b[0mself\u001b[0m\u001b[0;34m.\u001b[0m\u001b[0m_parent_ident\u001b[0m\u001b[0;34m[\u001b[0m\u001b[0;34m\"shell\"\u001b[0m\u001b[0;34m]\u001b[0m\u001b[0;34m,\u001b[0m\u001b[0;34m\u001b[0m\u001b[0;34m\u001b[0m\u001b[0m\n",
            "\u001b[0;32m/usr/local/lib/python3.11/dist-packages/ipykernel/kernelbase.py\u001b[0m in \u001b[0;36m_input_request\u001b[0;34m(self, prompt, ident, parent, password)\u001b[0m\n\u001b[1;32m   1217\u001b[0m             \u001b[0;32mexcept\u001b[0m \u001b[0mKeyboardInterrupt\u001b[0m\u001b[0;34m:\u001b[0m\u001b[0;34m\u001b[0m\u001b[0;34m\u001b[0m\u001b[0m\n\u001b[1;32m   1218\u001b[0m                 \u001b[0;31m# re-raise KeyboardInterrupt, to truncate traceback\u001b[0m\u001b[0;34m\u001b[0m\u001b[0;34m\u001b[0m\u001b[0m\n\u001b[0;32m-> 1219\u001b[0;31m                 \u001b[0;32mraise\u001b[0m \u001b[0mKeyboardInterrupt\u001b[0m\u001b[0;34m(\u001b[0m\u001b[0;34m\"Interrupted by user\"\u001b[0m\u001b[0;34m)\u001b[0m \u001b[0;32mfrom\u001b[0m \u001b[0;32mNone\u001b[0m\u001b[0;34m\u001b[0m\u001b[0;34m\u001b[0m\u001b[0m\n\u001b[0m\u001b[1;32m   1220\u001b[0m             \u001b[0;32mexcept\u001b[0m \u001b[0mException\u001b[0m\u001b[0;34m:\u001b[0m\u001b[0;34m\u001b[0m\u001b[0;34m\u001b[0m\u001b[0m\n\u001b[1;32m   1221\u001b[0m                 \u001b[0mself\u001b[0m\u001b[0;34m.\u001b[0m\u001b[0mlog\u001b[0m\u001b[0;34m.\u001b[0m\u001b[0mwarning\u001b[0m\u001b[0;34m(\u001b[0m\u001b[0;34m\"Invalid Message:\"\u001b[0m\u001b[0;34m,\u001b[0m \u001b[0mexc_info\u001b[0m\u001b[0;34m=\u001b[0m\u001b[0;32mTrue\u001b[0m\u001b[0;34m)\u001b[0m\u001b[0;34m\u001b[0m\u001b[0;34m\u001b[0m\u001b[0m\n",
            "\u001b[0;31mKeyboardInterrupt\u001b[0m: Interrupted by user"
          ]
        }
      ]
    },
    {
      "cell_type": "code",
      "source": [
        "import matplotlib.pyplot as plt\n",
        "import time\n",
        "\n",
        "# Initialize brightness level\n",
        "brightness_level = 5  # Start at mid-level\n",
        "max_level = 10\n",
        "min_level = 1\n",
        "\n",
        "# Set up the plot\n",
        "fig, ax = plt.subplots()\n",
        "ax.set_xlim(-1, 1)\n",
        "ax.set_ylim(-1, 1)\n",
        "ax.axis(\"off\")\n",
        "plt.ion()  # Turn on interactive mode\n",
        "\n",
        "# Display initial state\n",
        "while True:\n",
        "    grayscale_value = (max_level - brightness_level) / (max_level - 1)  # Level 1 is light grey, Level 10 is black\n",
        "    ax.clear()\n",
        "    ax.set_xlim(-1, 1)\n",
        "    ax.set_ylim(-1, 1)\n",
        "    ax.axis(\"off\")\n",
        "    ax.scatter(0, 0, s=5000, color=(grayscale_value, grayscale_value, grayscale_value))\n",
        "    ax.text(-0.5, 0.8, f\"Brightness Level: {brightness_level}\", fontsize=12, color='black', bbox=dict(facecolor='white', edgecolor='black'))\n",
        "    plt.draw()\n",
        "\n",
        "    # Wait for user input\n",
        "    user_input = input(\"Increase (+), Decrease (-), Exit (x): \").strip().lower()\n",
        "    if user_input == '+':\n",
        "        if brightness_level < max_level:\n",
        "            brightness_level += 1\n",
        "    elif user_input == '-':\n",
        "        if brightness_level > min_level:\n",
        "            brightness_level -= 1\n",
        "    elif user_input == 'x':\n",
        "        break\n",
        "\n",
        "plt.ioff()  # Turn off interactive mode\n",
        "plt.show()\n",
        "num1"
      ],
      "metadata": {
        "colab": {
          "base_uri": "https://localhost:8080/",
          "height": 762
        },
        "id": "JBxi1pJpNIDe",
        "outputId": "f35c695d-d149-43b9-def7-db9dace5c1fe"
      },
      "execution_count": null,
      "outputs": [
        {
          "name": "stdout",
          "output_type": "stream",
          "text": [
            "Increase (+), Decrease (-), Exit (x): +\n"
          ]
        },
        {
          "output_type": "error",
          "ename": "KeyboardInterrupt",
          "evalue": "Interrupted by user",
          "traceback": [
            "\u001b[0;31m---------------------------------------------------------------------------\u001b[0m",
            "\u001b[0;31mKeyboardInterrupt\u001b[0m                         Traceback (most recent call last)",
            "\u001b[0;32m<ipython-input-11-0d3f103e72d8>\u001b[0m in \u001b[0;36m<cell line: 0>\u001b[0;34m()\u001b[0m\n\u001b[1;32m     26\u001b[0m \u001b[0;34m\u001b[0m\u001b[0m\n\u001b[1;32m     27\u001b[0m     \u001b[0;31m# Wait for user input\u001b[0m\u001b[0;34m\u001b[0m\u001b[0;34m\u001b[0m\u001b[0m\n\u001b[0;32m---> 28\u001b[0;31m     \u001b[0muser_input\u001b[0m \u001b[0;34m=\u001b[0m \u001b[0minput\u001b[0m\u001b[0;34m(\u001b[0m\u001b[0;34m\"Increase (+), Decrease (-), Exit (x): \"\u001b[0m\u001b[0;34m)\u001b[0m\u001b[0;34m.\u001b[0m\u001b[0mstrip\u001b[0m\u001b[0;34m(\u001b[0m\u001b[0;34m)\u001b[0m\u001b[0;34m.\u001b[0m\u001b[0mlower\u001b[0m\u001b[0;34m(\u001b[0m\u001b[0;34m)\u001b[0m\u001b[0;34m\u001b[0m\u001b[0;34m\u001b[0m\u001b[0m\n\u001b[0m\u001b[1;32m     29\u001b[0m     \u001b[0;32mif\u001b[0m \u001b[0muser_input\u001b[0m \u001b[0;34m==\u001b[0m \u001b[0;34m'+'\u001b[0m\u001b[0;34m:\u001b[0m\u001b[0;34m\u001b[0m\u001b[0;34m\u001b[0m\u001b[0m\n\u001b[1;32m     30\u001b[0m         \u001b[0;32mif\u001b[0m \u001b[0mbrightness_level\u001b[0m \u001b[0;34m<\u001b[0m \u001b[0mmax_level\u001b[0m\u001b[0;34m:\u001b[0m\u001b[0;34m\u001b[0m\u001b[0;34m\u001b[0m\u001b[0m\n",
            "\u001b[0;32m/usr/local/lib/python3.11/dist-packages/ipykernel/kernelbase.py\u001b[0m in \u001b[0;36mraw_input\u001b[0;34m(self, prompt)\u001b[0m\n\u001b[1;32m   1175\u001b[0m                 \u001b[0;34m\"raw_input was called, but this frontend does not support input requests.\"\u001b[0m\u001b[0;34m\u001b[0m\u001b[0;34m\u001b[0m\u001b[0m\n\u001b[1;32m   1176\u001b[0m             )\n\u001b[0;32m-> 1177\u001b[0;31m         return self._input_request(\n\u001b[0m\u001b[1;32m   1178\u001b[0m             \u001b[0mstr\u001b[0m\u001b[0;34m(\u001b[0m\u001b[0mprompt\u001b[0m\u001b[0;34m)\u001b[0m\u001b[0;34m,\u001b[0m\u001b[0;34m\u001b[0m\u001b[0;34m\u001b[0m\u001b[0m\n\u001b[1;32m   1179\u001b[0m             \u001b[0mself\u001b[0m\u001b[0;34m.\u001b[0m\u001b[0m_parent_ident\u001b[0m\u001b[0;34m[\u001b[0m\u001b[0;34m\"shell\"\u001b[0m\u001b[0;34m]\u001b[0m\u001b[0;34m,\u001b[0m\u001b[0;34m\u001b[0m\u001b[0;34m\u001b[0m\u001b[0m\n",
            "\u001b[0;32m/usr/local/lib/python3.11/dist-packages/ipykernel/kernelbase.py\u001b[0m in \u001b[0;36m_input_request\u001b[0;34m(self, prompt, ident, parent, password)\u001b[0m\n\u001b[1;32m   1217\u001b[0m             \u001b[0;32mexcept\u001b[0m \u001b[0mKeyboardInterrupt\u001b[0m\u001b[0;34m:\u001b[0m\u001b[0;34m\u001b[0m\u001b[0;34m\u001b[0m\u001b[0m\n\u001b[1;32m   1218\u001b[0m                 \u001b[0;31m# re-raise KeyboardInterrupt, to truncate traceback\u001b[0m\u001b[0;34m\u001b[0m\u001b[0;34m\u001b[0m\u001b[0m\n\u001b[0;32m-> 1219\u001b[0;31m                 \u001b[0;32mraise\u001b[0m \u001b[0mKeyboardInterrupt\u001b[0m\u001b[0;34m(\u001b[0m\u001b[0;34m\"Interrupted by user\"\u001b[0m\u001b[0;34m)\u001b[0m \u001b[0;32mfrom\u001b[0m \u001b[0;32mNone\u001b[0m\u001b[0;34m\u001b[0m\u001b[0;34m\u001b[0m\u001b[0m\n\u001b[0m\u001b[1;32m   1220\u001b[0m             \u001b[0;32mexcept\u001b[0m \u001b[0mException\u001b[0m\u001b[0;34m:\u001b[0m\u001b[0;34m\u001b[0m\u001b[0;34m\u001b[0m\u001b[0m\n\u001b[1;32m   1221\u001b[0m                 \u001b[0mself\u001b[0m\u001b[0;34m.\u001b[0m\u001b[0mlog\u001b[0m\u001b[0;34m.\u001b[0m\u001b[0mwarning\u001b[0m\u001b[0;34m(\u001b[0m\u001b[0;34m\"Invalid Message:\"\u001b[0m\u001b[0;34m,\u001b[0m \u001b[0mexc_info\u001b[0m\u001b[0;34m=\u001b[0m\u001b[0;32mTrue\u001b[0m\u001b[0;34m)\u001b[0m\u001b[0;34m\u001b[0m\u001b[0;34m\u001b[0m\u001b[0m\n",
            "\u001b[0;31mKeyboardInterrupt\u001b[0m: Interrupted by user"
          ]
        },
        {
          "output_type": "display_data",
          "data": {
            "text/plain": [
              "<Figure size 640x480 with 1 Axes>"
            ],
            "image/png": "[encoded data removed]"
          },
          "metadata": {}
        }
      ]
    },
    {
      "cell_type": "code",
      "source": [
        "num1 = int(input())\n",
        "num2 = int(input())\n",
        "if num1>num2:\n",
        "  print(num1-num2)\n",
        "else:\n",
        "  print(num-num12)"
      ],
      "metadata": {
        "id": "JeGt4HpgdOD7"
      },
      "execution_count": null,
      "outputs": []
    },
    {
      "cell_type": "code",
      "source": [
        "#calculator\n",
        "result=0\n",
        "v1 = float(input())\n",
        "v2 = float(input())\n",
        "op = input()\n",
        "if op == '+':\n",
        "  result = v1+v2\n",
        "elif op == '-':\n",
        "  if v1>v2:\n",
        "    result = v1-v2\n",
        "  else:\n",
        "    result = v2-v1\n",
        "elif op == '*':\n",
        "  result = v1*v2\n",
        "elif op == '/':\n",
        "  if v2==0:\n",
        "    print(\"error\")\n",
        "  else:\n",
        "    result = v1/v2\n",
        "else:\n",
        "  print(\"wrong option\")\n",
        "print(result)"
      ],
      "metadata": {
        "colab": {
          "base_uri": "https://localhost:8080/"
        },
        "id": "ADVNrla_dn7A",
        "outputId": "41c049c1-9861-4bf5-b073-dacbede6337a"
      },
      "execution_count": null,
      "outputs": [
        {
          "output_type": "stream",
          "name": "stdout",
          "text": [
            "10\n",
            "5\n",
            "+\n",
            "15.0\n"
          ]
        }
      ]
    },
    {
      "cell_type": "code",
      "source": [
        "nimport matplotlib.pyplot as plt\n",
        "\n",
        "# Initialize brightness level\n",
        "brightness_level = 5  # Start at mid-level\n",
        "max_level = 10\n",
        "min_level = 1\n",
        "\n",
        "# Set up the plot\n",
        "fig, ax = plt.subplots()\n",
        "plt.ion()  # Enable interactive mode\n",
        "\n",
        "while True:\n",
        "    # Calculate grayscale value (1 = white, 0 = black)\n",
        "    grayscale_value = (max_level - brightness_level) / (max_level - 1)\n",
        "\n",
        "    # Clear the plot and redraw LED\n",
        "    ax.clear()\n",
        "    ax.set_xlim(-1, 1)\n",
        "    ax.set_ylim(-1, 1)\n",
        "    ax.axis(\"off\")\n",
        "    ax.scatter(0, 0, s=5000, color=(grayscale_value, grayscale_value, grayscale_value))\n",
        "    ax.text(-0.5, 0.8, f\"Brightness Level: {brightness_level}\", fontsize=12, color='black', bbox=dict(facecolor='white', edgecolor='black'))\n",
        "\n",
        "    plt.draw()\n",
        "    plt.pause(0.1)  # Allows the plot to update\n",
        "\n",
        "    # Take user input\n",
        "    user_input = input(\"Increase (+), Decrease (-), Exit (x): \").strip().lower()\n",
        "\n",
        "    if user_input == '+':\n",
        "        brightness_level = min(max_level, brightness_level + 1)\n",
        "    elif user_input == '-':\n",
        "        brightness_level = max(min_level, brightness_level - 1)\n",
        "    elif user_input == 'x':\n",
        "        break\n",
        "\n",
        "plt.ioff()  # Turn off interactive mode\n",
        "plt.show()\n"
      ],
      "metadata": {
        "colab": {
          "base_uri": "https://localhost:8080/",
          "height": 854
        },
        "id": "gZ2cgE8dN1r1",
        "outputId": "fb4fba4d-3cfd-48fa-c7d4-58c687cd8a4a"
      },
      "execution_count": null,
      "outputs": [
        {
          "output_type": "display_data",
          "data": {
            "text/plain": [
              "<Figure size 640x480 with 1 Axes>"
            ],
            "image/png": "[encoded data removed]"
          },
          "metadata": {}
        },
        {
          "name": "stdout",
          "output_type": "stream",
          "text": [
            "Increase (+), Decrease (-), Exit (x): +\n"
          ]
        },
        {
          "output_type": "display_data",
          "data": {
            "text/plain": [
              "<Figure size 640x480 with 0 Axes>"
            ]
          },
          "metadata": {}
        },
        {
          "name": "stdout",
          "output_type": "stream",
          "text": [
            "Increase (+), Decrease (-), Exit (x): +\n"
          ]
        },
        {
          "output_type": "display_data",
          "data": {
            "text/plain": [
              "<Figure size 640x480 with 0 Axes>"
            ]
          },
          "metadata": {}
        },
        {
          "output_type": "error",
          "ename": "KeyboardInterrupt",
          "evalue": "Interrupted by user",
          "traceback": [
            "\u001b[0;31m---------------------------------------------------------------------------\u001b[0m",
            "\u001b[0;31mKeyboardInterrupt\u001b[0m                         Traceback (most recent call last)",
            "\u001b[0;32m<ipython-input-19-51eaaabac293>\u001b[0m in \u001b[0;36m<cell line: 0>\u001b[0;34m()\u001b[0m\n\u001b[1;32m     26\u001b[0m \u001b[0;34m\u001b[0m\u001b[0m\n\u001b[1;32m     27\u001b[0m     \u001b[0;31m# Take user input\u001b[0m\u001b[0;34m\u001b[0m\u001b[0;34m\u001b[0m\u001b[0m\n\u001b[0;32m---> 28\u001b[0;31m     \u001b[0muser_input\u001b[0m \u001b[0;34m=\u001b[0m \u001b[0minput\u001b[0m\u001b[0;34m(\u001b[0m\u001b[0;34m\"Increase (+), Decrease (-), Exit (x): \"\u001b[0m\u001b[0;34m)\u001b[0m\u001b[0;34m.\u001b[0m\u001b[0mstrip\u001b[0m\u001b[0;34m(\u001b[0m\u001b[0;34m)\u001b[0m\u001b[0;34m.\u001b[0m\u001b[0mlower\u001b[0m\u001b[0;34m(\u001b[0m\u001b[0;34m)\u001b[0m\u001b[0;34m\u001b[0m\u001b[0;34m\u001b[0m\u001b[0m\n\u001b[0m\u001b[1;32m     29\u001b[0m \u001b[0;34m\u001b[0m\u001b[0m\n\u001b[1;32m     30\u001b[0m     \u001b[0;32mif\u001b[0m \u001b[0muser_input\u001b[0m \u001b[0;34m==\u001b[0m \u001b[0;34m'+'\u001b[0m\u001b[0;34m:\u001b[0m\u001b[0;34m\u001b[0m\u001b[0;34m\u001b[0m\u001b[0m\n",
            "\u001b[0;32m/usr/local/lib/python3.11/dist-packages/ipykernel/kernelbase.py\u001b[0m in \u001b[0;36mraw_input\u001b[0;34m(self, prompt)\u001b[0m\n\u001b[1;32m   1175\u001b[0m                 \u001b[0;34m\"raw_input was called, but this frontend does not support input requests.\"\u001b[0m\u001b[0;34m\u001b[0m\u001b[0;34m\u001b[0m\u001b[0m\n\u001b[1;32m   1176\u001b[0m             )\n\u001b[0;32m-> 1177\u001b[0;31m         return self._input_request(\n\u001b[0m\u001b[1;32m   1178\u001b[0m             \u001b[0mstr\u001b[0m\u001b[0;34m(\u001b[0m\u001b[0mprompt\u001b[0m\u001b[0;34m)\u001b[0m\u001b[0;34m,\u001b[0m\u001b[0;34m\u001b[0m\u001b[0;34m\u001b[0m\u001b[0m\n\u001b[1;32m   1179\u001b[0m             \u001b[0mself\u001b[0m\u001b[0;34m.\u001b[0m\u001b[0m_parent_ident\u001b[0m\u001b[0;34m[\u001b[0m\u001b[0;34m\"shell\"\u001b[0m\u001b[0;34m]\u001b[0m\u001b[0;34m,\u001b[0m\u001b[0;34m\u001b[0m\u001b[0;34m\u001b[0m\u001b[0m\n",
            "\u001b[0;32m/usr/local/lib/python3.11/dist-packages/ipykernel/kernelbase.py\u001b[0m in \u001b[0;36m_input_request\u001b[0;34m(self, prompt, ident, parent, password)\u001b[0m\n\u001b[1;32m   1217\u001b[0m             \u001b[0;32mexcept\u001b[0m \u001b[0mKeyboardInterrupt\u001b[0m\u001b[0;34m:\u001b[0m\u001b[0;34m\u001b[0m\u001b[0;34m\u001b[0m\u001b[0m\n\u001b[1;32m   1218\u001b[0m                 \u001b[0;31m# re-raise KeyboardInterrupt, to truncate traceback\u001b[0m\u001b[0;34m\u001b[0m\u001b[0;34m\u001b[0m\u001b[0m\n\u001b[0;32m-> 1219\u001b[0;31m                 \u001b[0;32mraise\u001b[0m \u001b[0mKeyboardInterrupt\u001b[0m\u001b[0;34m(\u001b[0m\u001b[0;34m\"Interrupted by user\"\u001b[0m\u001b[0;34m)\u001b[0m \u001b[0;32mfrom\u001b[0m \u001b[0;32mNone\u001b[0m\u001b[0;34m\u001b[0m\u001b[0;34m\u001b[0m\u001b[0m\n\u001b[0m\u001b[1;32m   1220\u001b[0m             \u001b[0;32mexcept\u001b[0m \u001b[0mException\u001b[0m\u001b[0;34m:\u001b[0m\u001b[0;34m\u001b[0m\u001b[0;34m\u001b[0m\u001b[0m\n\u001b[1;32m   1221\u001b[0m                 \u001b[0mself\u001b[0m\u001b[0;34m.\u001b[0m\u001b[0mlog\u001b[0m\u001b[0;34m.\u001b[0m\u001b[0mwarning\u001b[0m\u001b[0;34m(\u001b[0m\u001b[0;34m\"Invalid Message:\"\u001b[0m\u001b[0;34m,\u001b[0m \u001b[0mexc_info\u001b[0m\u001b[0;34m=\u001b[0m\u001b[0;32mTrue\u001b[0m\u001b[0;34m)\u001b[0m\u001b[0;34m\u001b[0m\u001b[0;34m\u001b[0m\u001b[0m\n",
            "\u001b[0;31mKeyboardInterrupt\u001b[0m: Interrupted by user"
          ]
        }
      ]
    },
    {
      "cell_type": "code",
      "source": [
        "import matplotlib.pyplot as plt\n",
        "\n",
        "brightness = 5  # Start at mid-level\n",
        "max_level, min_level = 10, 1\n",
        "\n",
        "plt.ion()  # Enable interactive mode\n",
        "fig, ax = plt.subplots()\n",
        "\n",
        "while True:\n",
        "    # Convert brightness to grayscale (1 = white, 0 = black)\n",
        "    gray = (max_level - brightness) / (max_level - 1)\n",
        "\n",
        "    # Clear and update plot\n",
        "    ax.clear()\n",
        "    ax.set_xlim(-1, 1)\n",
        "    ax.set_ylim(-1, 1)\n",
        "    ax.axis(\"off\")\n",
        "    ax.scatter(0, 0, s=5000, color=(gray, gray, gray))\n",
        "    ax.text(-0.5, 0.8, f\"Brightness: {brightness}\", fontsize=12, color='black', bbox=dict(facecolor='white'))\n",
        "\n",
        "    plt.draw()\n",
        "    plt.pause(0.1)  # Allow plot to update\n",
        "\n",
        "    # Get user input\n",
        "    user_input = input(\"Increase (+), Decrease (-), Exit (x): \").strip().lower()\n",
        "\n",
        "    if user_input == '+':\n",
        "        brightness = min(max_level, brightness + 1)\n",
        "    elif user_input == '-':\n",
        "        brightness = max(min_level, brightness - 1)\n",
        "    elif user_input == 'x':\n",
        "        break\n",
        "\n",
        "plt.ioff()  # Turn off interactive mode\n",
        "plt.show()\n"
      ],
      "metadata": {
        "colab": {
          "base_uri": "https://localhost:8080/",
          "height": 854
        },
        "id": "k9p3DR2SP27C",
        "outputId": "09622fa9-28b1-4b11-e14d-47e815f94ab4"
      },
      "execution_count": null,
      "outputs": [
        {
          "output_type": "display_data",
          "data": {
            "text/plain": [
              "<Figure size 640x480 with 1 Axes>"
            ],
            "image/png": "[encoded data removed]"
          },
          "metadata": {}
        },
        {
          "name": "stdout",
          "output_type": "stream",
          "text": [
            "Increase (+), Decrease (-), Exit (x): +\n"
          ]
        },
        {
          "output_type": "display_data",
          "data": {
            "text/plain": [
              "<Figure size 640x480 with 0 Axes>"
            ]
          },
          "metadata": {}
        },
        {
          "name": "stdout",
          "output_type": "stream",
          "text": [
            "Increase (+), Decrease (-), Exit (x): +\n"
          ]
        },
        {
          "output_type": "display_data",
          "data": {
            "text/plain": [
              "<Figure size 640x480 with 0 Axes>"
            ]
          },
          "metadata": {}
        },
        {
          "output_type": "error",
          "ename": "KeyboardInterrupt",
          "evalue": "Interrupted by user",
          "traceback": [
            "\u001b[0;31m---------------------------------------------------------------------------\u001b[0m",
            "\u001b[0;31mKeyboardInterrupt\u001b[0m                         Traceback (most recent call last)",
            "\u001b[0;32m<ipython-input-20-3107786f5763>\u001b[0m in \u001b[0;36m<cell line: 0>\u001b[0;34m()\u001b[0m\n\u001b[1;32m     23\u001b[0m \u001b[0;34m\u001b[0m\u001b[0m\n\u001b[1;32m     24\u001b[0m     \u001b[0;31m# Get user input\u001b[0m\u001b[0;34m\u001b[0m\u001b[0;34m\u001b[0m\u001b[0m\n\u001b[0;32m---> 25\u001b[0;31m     \u001b[0muser_input\u001b[0m \u001b[0;34m=\u001b[0m \u001b[0minput\u001b[0m\u001b[0;34m(\u001b[0m\u001b[0;34m\"Increase (+), Decrease (-), Exit (x): \"\u001b[0m\u001b[0;34m)\u001b[0m\u001b[0;34m.\u001b[0m\u001b[0mstrip\u001b[0m\u001b[0;34m(\u001b[0m\u001b[0;34m)\u001b[0m\u001b[0;34m.\u001b[0m\u001b[0mlower\u001b[0m\u001b[0;34m(\u001b[0m\u001b[0;34m)\u001b[0m\u001b[0;34m\u001b[0m\u001b[0;34m\u001b[0m\u001b[0m\n\u001b[0m\u001b[1;32m     26\u001b[0m \u001b[0;34m\u001b[0m\u001b[0m\n\u001b[1;32m     27\u001b[0m     \u001b[0;32mif\u001b[0m \u001b[0muser_input\u001b[0m \u001b[0;34m==\u001b[0m \u001b[0;34m'+'\u001b[0m\u001b[0;34m:\u001b[0m\u001b[0;34m\u001b[0m\u001b[0;34m\u001b[0m\u001b[0m\n",
            "\u001b[0;32m/usr/local/lib/python3.11/dist-packages/ipykernel/kernelbase.py\u001b[0m in \u001b[0;36mraw_input\u001b[0;34m(self, prompt)\u001b[0m\n\u001b[1;32m   1175\u001b[0m                 \u001b[0;34m\"raw_input was called, but this frontend does not support input requests.\"\u001b[0m\u001b[0;34m\u001b[0m\u001b[0;34m\u001b[0m\u001b[0m\n\u001b[1;32m   1176\u001b[0m             )\n\u001b[0;32m-> 1177\u001b[0;31m         return self._input_request(\n\u001b[0m\u001b[1;32m   1178\u001b[0m             \u001b[0mstr\u001b[0m\u001b[0;34m(\u001b[0m\u001b[0mprompt\u001b[0m\u001b[0;34m)\u001b[0m\u001b[0;34m,\u001b[0m\u001b[0;34m\u001b[0m\u001b[0;34m\u001b[0m\u001b[0m\n\u001b[1;32m   1179\u001b[0m             \u001b[0mself\u001b[0m\u001b[0;34m.\u001b[0m\u001b[0m_parent_ident\u001b[0m\u001b[0;34m[\u001b[0m\u001b[0;34m\"shell\"\u001b[0m\u001b[0;34m]\u001b[0m\u001b[0;34m,\u001b[0m\u001b[0;34m\u001b[0m\u001b[0;34m\u001b[0m\u001b[0m\n",
            "\u001b[0;32m/usr/local/lib/python3.11/dist-packages/ipykernel/kernelbase.py\u001b[0m in \u001b[0;36m_input_request\u001b[0;34m(self, prompt, ident, parent, password)\u001b[0m\n\u001b[1;32m   1217\u001b[0m             \u001b[0;32mexcept\u001b[0m \u001b[0mKeyboardInterrupt\u001b[0m\u001b[0;34m:\u001b[0m\u001b[0;34m\u001b[0m\u001b[0;34m\u001b[0m\u001b[0m\n\u001b[1;32m   1218\u001b[0m                 \u001b[0;31m# re-raise KeyboardInterrupt, to truncate traceback\u001b[0m\u001b[0;34m\u001b[0m\u001b[0;34m\u001b[0m\u001b[0m\n\u001b[0;32m-> 1219\u001b[0;31m                 \u001b[0;32mraise\u001b[0m \u001b[0mKeyboardInterrupt\u001b[0m\u001b[0;34m(\u001b[0m\u001b[0;34m\"Interrupted by user\"\u001b[0m\u001b[0;34m)\u001b[0m \u001b[0;32mfrom\u001b[0m \u001b[0;32mNone\u001b[0m\u001b[0;34m\u001b[0m\u001b[0;34m\u001b[0m\u001b[0m\n\u001b[0m\u001b[1;32m   1220\u001b[0m             \u001b[0;32mexcept\u001b[0m \u001b[0mException\u001b[0m\u001b[0;34m:\u001b[0m\u001b[0;34m\u001b[0m\u001b[0;34m\u001b[0m\u001b[0m\n\u001b[1;32m   1221\u001b[0m                 \u001b[0mself\u001b[0m\u001b[0;34m.\u001b[0m\u001b[0mlog\u001b[0m\u001b[0;34m.\u001b[0m\u001b[0mwarning\u001b[0m\u001b[0;34m(\u001b[0m\u001b[0;34m\"Invalid Message:\"\u001b[0m\u001b[0;34m,\u001b[0m \u001b[0mexc_info\u001b[0m\u001b[0;34m=\u001b[0m\u001b[0;32mTrue\u001b[0m\u001b[0;34m)\u001b[0m\u001b[0;34m\u001b[0m\u001b[0;34m\u001b[0m\u001b[0m\n",
            "\u001b[0;31mKeyboardInterrupt\u001b[0m: Interrupted by user"
          ]
        }
      ]
    },
    {
      "cell_type": "code",
      "source": [
        "import matplotlib.pyplot as plt\n",
        "\n",
        "brightness = 5  # Start at mid-level\n",
        "max_level, min_level = 10, 1\n",
        "\n",
        "plt.ion()  # Enable interactive mode\n",
        "fig, ax = plt.subplots()\n",
        "\n",
        "while True:\n",
        "    # Convert brightness to grayscale (1 = light grey, 0 = black)\n",
        "    gray = 1 - (brightness - min_level) / (max_level - min_level)\n",
        "\n",
        "    # Clear and update plot\n",
        "    ax.clear()\n",
        "    ax.set_xlim(-1, 1)\n",
        "    ax.set_ylim(-1, 1)\n",
        "    ax.axis(\"off\")\n",
        "    ax.scatter(0, 0, s=5000, color=(gray, gray, gray))\n",
        "    ax.text(-0.5, 0.8, f\"Brightness: {brightness}\", fontsize=12, color='black', bbox=dict(facecolor='white'))\n",
        "\n",
        "    plt.draw()\n",
        "    plt.pause(0.1)  # Allow plot to update\n",
        "\n",
        "    # Get user input\n",
        "    user_input = input(\"Increase (+), Decrease (-), Exit (x): \").strip().lower()\n",
        "\n",
        "    if user_input == '+':\n",
        "        brightness = min(max_level, brightness + 1)\n",
        "    elif user_input == '-':\n",
        "        brightness = max(min_level, brightness - 1)\n",
        "    elif user_input == 'x':\n",
        "        break\n",
        "\n",
        "plt.ioff()  # Turn off interactive mode\n",
        "plt.show()\n"
      ],
      "metadata": {
        "colab": {
          "base_uri": "https://localhost:8080/",
          "height": 888
        },
        "id": "Ak0kUhCEQFSj",
        "outputId": "fa9499df-ac4c-4f09-bdb1-a1c672bfef0b"
      },
      "execution_count": null,
      "outputs": [
        {
          "output_type": "display_data",
          "data": {
            "text/plain": [
              "<Figure size 640x480 with 1 Axes>"
            ],
            "image/png": "[encoded data removed]"
          },
          "metadata": {}
        },
        {
          "name": "stdout",
          "output_type": "stream",
          "text": [
            "Increase (+), Decrease (-), Exit (x): +\n"
          ]
        },
        {
          "output_type": "display_data",
          "data": {
            "text/plain": [
              "<Figure size 640x480 with 0 Axes>"
            ]
          },
          "metadata": {}
        },
        {
          "name": "stdout",
          "output_type": "stream",
          "text": [
            "Increase (+), Decrease (-), Exit (x): +\n"
          ]
        },
        {
          "output_type": "display_data",
          "data": {
            "text/plain": [
              "<Figure size 640x480 with 0 Axes>"
            ]
          },
          "metadata": {}
        },
        {
          "name": "stdout",
          "output_type": "stream",
          "text": [
            "Increase (+), Decrease (-), Exit (x): +\n"
          ]
        },
        {
          "output_type": "display_data",
          "data": {
            "text/plain": [
              "<Figure size 640x480 with 0 Axes>"
            ]
          },
          "metadata": {}
        },
        {
          "output_type": "error",
          "ename": "KeyboardInterrupt",
          "evalue": "Interrupted by user",
          "traceback": [
            "\u001b[0;31m---------------------------------------------------------------------------\u001b[0m",
            "\u001b[0;31mKeyboardInterrupt\u001b[0m                         Traceback (most recent call last)",
            "\u001b[0;32m<ipython-input-21-9a50e0e8bdf1>\u001b[0m in \u001b[0;36m<cell line: 0>\u001b[0;34m()\u001b[0m\n\u001b[1;32m     23\u001b[0m \u001b[0;34m\u001b[0m\u001b[0m\n\u001b[1;32m     24\u001b[0m     \u001b[0;31m# Get user input\u001b[0m\u001b[0;34m\u001b[0m\u001b[0;34m\u001b[0m\u001b[0m\n\u001b[0;32m---> 25\u001b[0;31m     \u001b[0muser_input\u001b[0m \u001b[0;34m=\u001b[0m \u001b[0minput\u001b[0m\u001b[0;34m(\u001b[0m\u001b[0;34m\"Increase (+), Decrease (-), Exit (x): \"\u001b[0m\u001b[0;34m)\u001b[0m\u001b[0;34m.\u001b[0m\u001b[0mstrip\u001b[0m\u001b[0;34m(\u001b[0m\u001b[0;34m)\u001b[0m\u001b[0;34m.\u001b[0m\u001b[0mlower\u001b[0m\u001b[0;34m(\u001b[0m\u001b[0;34m)\u001b[0m\u001b[0;34m\u001b[0m\u001b[0;34m\u001b[0m\u001b[0m\n\u001b[0m\u001b[1;32m     26\u001b[0m \u001b[0;34m\u001b[0m\u001b[0m\n\u001b[1;32m     27\u001b[0m     \u001b[0;32mif\u001b[0m \u001b[0muser_input\u001b[0m \u001b[0;34m==\u001b[0m \u001b[0;34m'+'\u001b[0m\u001b[0;34m:\u001b[0m\u001b[0;34m\u001b[0m\u001b[0;34m\u001b[0m\u001b[0m\n",
            "\u001b[0;32m/usr/local/lib/python3.11/dist-packages/ipykernel/kernelbase.py\u001b[0m in \u001b[0;36mraw_input\u001b[0;34m(self, prompt)\u001b[0m\n\u001b[1;32m   1175\u001b[0m                 \u001b[0;34m\"raw_input was called, but this frontend does not support input requests.\"\u001b[0m\u001b[0;34m\u001b[0m\u001b[0;34m\u001b[0m\u001b[0m\n\u001b[1;32m   1176\u001b[0m             )\n\u001b[0;32m-> 1177\u001b[0;31m         return self._input_request(\n\u001b[0m\u001b[1;32m   1178\u001b[0m             \u001b[0mstr\u001b[0m\u001b[0;34m(\u001b[0m\u001b[0mprompt\u001b[0m\u001b[0;34m)\u001b[0m\u001b[0;34m,\u001b[0m\u001b[0;34m\u001b[0m\u001b[0;34m\u001b[0m\u001b[0m\n\u001b[1;32m   1179\u001b[0m             \u001b[0mself\u001b[0m\u001b[0;34m.\u001b[0m\u001b[0m_parent_ident\u001b[0m\u001b[0;34m[\u001b[0m\u001b[0;34m\"shell\"\u001b[0m\u001b[0;34m]\u001b[0m\u001b[0;34m,\u001b[0m\u001b[0;34m\u001b[0m\u001b[0;34m\u001b[0m\u001b[0m\n",
            "\u001b[0;32m/usr/local/lib/python3.11/dist-packages/ipykernel/kernelbase.py\u001b[0m in \u001b[0;36m_input_request\u001b[0;34m(self, prompt, ident, parent, password)\u001b[0m\n\u001b[1;32m   1217\u001b[0m             \u001b[0;32mexcept\u001b[0m \u001b[0mKeyboardInterrupt\u001b[0m\u001b[0;34m:\u001b[0m\u001b[0;34m\u001b[0m\u001b[0;34m\u001b[0m\u001b[0m\n\u001b[1;32m   1218\u001b[0m                 \u001b[0;31m# re-raise KeyboardInterrupt, to truncate traceback\u001b[0m\u001b[0;34m\u001b[0m\u001b[0;34m\u001b[0m\u001b[0m\n\u001b[0;32m-> 1219\u001b[0;31m                 \u001b[0;32mraise\u001b[0m \u001b[0mKeyboardInterrupt\u001b[0m\u001b[0;34m(\u001b[0m\u001b[0;34m\"Interrupted by user\"\u001b[0m\u001b[0;34m)\u001b[0m \u001b[0;32mfrom\u001b[0m \u001b[0;32mNone\u001b[0m\u001b[0;34m\u001b[0m\u001b[0;34m\u001b[0m\u001b[0m\n\u001b[0m\u001b[1;32m   1220\u001b[0m             \u001b[0;32mexcept\u001b[0m \u001b[0mException\u001b[0m\u001b[0;34m:\u001b[0m\u001b[0;34m\u001b[0m\u001b[0;34m\u001b[0m\u001b[0m\n\u001b[1;32m   1221\u001b[0m                 \u001b[0mself\u001b[0m\u001b[0;34m.\u001b[0m\u001b[0mlog\u001b[0m\u001b[0;34m.\u001b[0m\u001b[0mwarning\u001b[0m\u001b[0;34m(\u001b[0m\u001b[0;34m\"Invalid Message:\"\u001b[0m\u001b[0;34m,\u001b[0m \u001b[0mexc_info\u001b[0m\u001b[0;34m=\u001b[0m\u001b[0;32mTrue\u001b[0m\u001b[0;34m)\u001b[0m\u001b[0;34m\u001b[0m\u001b[0;34m\u001b[0m\u001b[0m\n",
            "\u001b[0;31mKeyboardInterrupt\u001b[0m: Interrupted by user"
          ]
        }
      ]
    },
    {
      "cell_type": "code",
      "source": [],
      "metadata": {
        "id": "-N_MSHB0QvVQ"
      },
      "execution_count": null,
      "outputs": []
    },
    {
      "cell_type": "code",
      "source": [],
      "metadata": {
        "id": "p3haQnywNG-9"
      },
      "execution_count": null,
      "outputs": []
    },
    {
      "cell_type": "code",
      "source": [
        "import matplotlib.pyplot as plt\n",
        "import matplotlib.patches as patches\n",
        "import ipywidgets as widgets\n",
        "from IPython.display import display\n",
        "import matplotlib.cm as cm\n",
        "\n",
        "max_brightness = 5\n",
        "\n",
        "fig, ax = plt.subplots()\n",
        "ax.set_aspect('equal')\n",
        "led = patches.Circle((0, 0), radius=0.5, color='gray')\n",
        "ax.add_patch(led)\n",
        "ax.set_xlim(-1, 1)\n",
        "ax.set_ylim(-1, 1)\n",
        "ax.axis('off')\n",
        "\n",
        "def update_led(b):\n",
        "    brightness = int(b.description)\n",
        "    cmap = cm.get_cmap('gray')\n",
        "    color_index = (brightness - 1) / (max_brightness - 1) if max_brightness > 1 else 0\n",
        "    led.set_color(cmap(color_index))\n",
        "    fig.canvas.draw()\n",
        "\n",
        "buttons = [widgets.Button(description=str(i)) for i in range(1, max_brightness + 1)]\n",
        "for button in buttons:\n",
        "    button.on_click(update_led)\n",
        "\n",
        "display(*buttons)\n",
        "plt.show()\n"
      ],
      "metadata": {
        "colab": {
          "base_uri": "https://localhost:8080/",
          "height": 725,
          "referenced_widgets": [
            "67d24954e7f248bb8e2003f72b8c2ae9",
            "0a61c2bf2fc14c9fa545527981a798d0",
            "72d96a8a127f45b58dc82d4f458c394d",
            "82efc313061249db81543ad81de6ffd3",
            "4e4b72ab19e240608a1ce819e41c62df",
            "3bc034bc902948afa905084fe0d66f81",
            "bd73f0f582de4baa8fe2869f4d5fd515",
            "ab005dc2ea99432ab9570b88033bd4e1",
            "a6b70c7697e547a78015a7f8b6e28a70",
            "aa60aba8212642ce839e902c793b39b2",
            "fa01e2bed56c42ca9358419d36c312a2",
            "96cc298c3fa74dfead9afe92c596ba83",
            "f24bb4c728ff456b86b6fc0feeb0bdfb",
            "6ccf8515952547b1bb7a99e27d3dbc41",
            "38b0c9ffd05c4546b55cc97ffa9622f8"
          ]
        },
        "id": "yjI67qL946cy",
        "outputId": "e74e0c4b-fc90-471e-fe74-2f7510137efb"
      },
      "execution_count": null,
      "outputs": [
        {
          "output_type": "display_data",
          "data": {
            "text/plain": [
              "Button(description='1', style=ButtonStyle())"
            ],
            "application/vnd.jupyter.widget-view+json": {
              "version_major": 2,
              "version_minor": 0,
              "model_id": "67d24954e7f248bb8e2003f72b8c2ae9"
            }
          },
          "metadata": {}
        },
        {
          "output_type": "display_data",
          "data": {
            "text/plain": [
              "Button(description='2', style=ButtonStyle())"
            ],
            "application/vnd.jupyter.widget-view+json": {
              "version_major": 2,
              "version_minor": 0,
              "model_id": "82efc313061249db81543ad81de6ffd3"
            }
          },
          "metadata": {}
        },
        {
          "output_type": "display_data",
          "data": {
            "text/plain": [
              "Button(description='3', style=ButtonStyle())"
            ],
            "application/vnd.jupyter.widget-view+json": {
              "version_major": 2,
              "version_minor": 0,
              "model_id": "bd73f0f582de4baa8fe2869f4d5fd515"
            }
          },
          "metadata": {}
        },
        {
          "output_type": "display_data",
          "data": {
            "text/plain": [
              "Button(description='4', style=ButtonStyle())"
            ],
            "application/vnd.jupyter.widget-view+json": {
              "version_major": 2,
              "version_minor": 0,
              "model_id": "aa60aba8212642ce839e902c793b39b2"
            }
          },
          "metadata": {}
        },
        {
          "output_type": "display_data",
          "data": {
            "text/plain": [
              "Button(description='5', style=ButtonStyle())"
            ],
            "application/vnd.jupyter.widget-view+json": {
              "version_major": 2,
              "version_minor": 0,
              "model_id": "f24bb4c728ff456b86b6fc0feeb0bdfb"
            }
          },
          "metadata": {}
        },
        {
          "output_type": "display_data",
          "data": {
            "text/plain": [
              "<Figure size 640x480 with 1 Axes>"
            ],
            "image/png": "[encoded data removed]"
          },
          "metadata": {}
        },
        {
          "output_type": "stream",
          "name": "stderr",
          "text": [
            "<ipython-input-12-ebc630038182>:19: MatplotlibDeprecationWarning: The get_cmap function was deprecated in Matplotlib 3.7 and will be removed in 3.11. Use ``matplotlib.colormaps[name]`` or ``matplotlib.colormaps.get_cmap()`` or ``pyplot.get_cmap()`` instead.\n",
            "  cmap = cm.get_cmap('gray')\n",
            "<ipython-input-12-ebc630038182>:19: MatplotlibDeprecationWarning: The get_cmap function was deprecated in Matplotlib 3.7 and will be removed in 3.11. Use ``matplotlib.colormaps[name]`` or ``matplotlib.colormaps.get_cmap()`` or ``pyplot.get_cmap()`` instead.\n",
            "  cmap = cm.get_cmap('gray')\n",
            "<ipython-input-12-ebc630038182>:19: MatplotlibDeprecationWarning: The get_cmap function was deprecated in Matplotlib 3.7 and will be removed in 3.11. Use ``matplotlib.colormaps[name]`` or ``matplotlib.colormaps.get_cmap()`` or ``pyplot.get_cmap()`` instead.\n",
            "  cmap = cm.get_cmap('gray')\n",
            "<ipython-input-12-ebc630038182>:19: MatplotlibDeprecationWarning: The get_cmap function was deprecated in Matplotlib 3.7 and will be removed in 3.11. Use ``matplotlib.colormaps[name]`` or ``matplotlib.colormaps.get_cmap()`` or ``pyplot.get_cmap()`` instead.\n",
            "  cmap = cm.get_cmap('gray')\n"
          ]
        }
      ]
    },
    {
      "cell_type": "code",
      "source": [
        "import matplotlib.pyplot as plt\n",
        "import matplotlib.patches as patches\n",
        "import ipywidgets as widgets\n",
        "from IPython.display import display\n",
        "import matplotlib.cm as cm\n",
        "\n",
        "max_brightness = 5\n",
        "\n",
        "fig, ax = plt.subplots()\n",
        "ax.set_aspect('equal')\n",
        "led = patches.Circle((0, 0), radius=0.5, color='gray')  # Start with gray\n",
        "ax.add_patch(led)\n",
        "ax.set_xlim(-1, 1)\n",
        "ax.set_ylim(-1, 1)\n",
        "ax.axis('off')\n",
        "\n",
        "def update_led(b):\n",
        "    brightness = int(b.description)\n",
        "    cmap = cm.get_cmap('gray')\n",
        "    color_index = (brightness - 1) / (max_brightness - 1) if max_brightness > 1 else 0\n",
        "    # Reverse the color index to go from gray to black\n",
        "    reversed_color_index = 1 - color_index  # The crucial change\n",
        "    led.set_color(cmap(reversed_color_index))\n",
        "    fig.canvas.draw()\n",
        "\n",
        "\n",
        "buttons = [widgets.Button(description=str(i)) for i in range(1, max_brightness + 1)]\n",
        "for button in buttons:\n",
        "    button.on_click(update_led)\n",
        "\n",
        "display(*buttons)\n",
        "plt.show()"
      ],
      "metadata": {
        "colab": {
          "base_uri": "https://localhost:8080/",
          "height": 690,
          "referenced_widgets": [
            "ec5d800342ea46f0affcabf6c67debf7",
            "bab8f4c8c42047d0a0948f66a6e6fc5d",
            "cca08654f6f44b2d8d51353d7919fbfe",
            "093675dd346f40f18feaceeb620f7d4e",
            "baf0a3a7eac341048a15ca9d4eccca4d",
            "a04c8494081d4092b972493ba891fc3f",
            "51d3797ec81344548a2c3624d40f53e8",
            "6c3007a0a1664a758b178e46fe28f794",
            "68ad1082396d467895cc3bc4d27a2e1e",
            "394d5c703b61418b8d5c20ca2901e5fd",
            "eddf260ac297434e853e741666b2b88b",
            "4b83f577e8984b0eaf06936f42a4a04b",
            "1d8e395771124630a7141b05d2619968",
            "d6ca8f2937654418a10e43a1d35ac336",
            "e834154094504f2894f09b88df6840d1"
          ]
        },
        "id": "XLIxNmbn7yYr",
        "outputId": "cbd43afa-0c8a-409d-d80a-33bb60fdc824"
      },
      "execution_count": null,
      "outputs": [
        {
          "output_type": "display_data",
          "data": {
            "text/plain": [
              "Button(description='1', style=ButtonStyle())"
            ],
            "application/vnd.jupyter.widget-view+json": {
              "version_major": 2,
              "version_minor": 0,
              "model_id": "ec5d800342ea46f0affcabf6c67debf7"
            }
          },
          "metadata": {}
        },
        {
          "output_type": "display_data",
          "data": {
            "text/plain": [
              "Button(description='2', style=ButtonStyle())"
            ],
            "application/vnd.jupyter.widget-view+json": {
              "version_major": 2,
              "version_minor": 0,
              "model_id": "093675dd346f40f18feaceeb620f7d4e"
            }
          },
          "metadata": {}
        },
        {
          "output_type": "display_data",
          "data": {
            "text/plain": [
              "Button(description='3', style=ButtonStyle())"
            ],
            "application/vnd.jupyter.widget-view+json": {
              "version_major": 2,
              "version_minor": 0,
              "model_id": "51d3797ec81344548a2c3624d40f53e8"
            }
          },
          "metadata": {}
        },
        {
          "output_type": "display_data",
          "data": {
            "text/plain": [
              "Button(description='4', style=ButtonStyle())"
            ],
            "application/vnd.jupyter.widget-view+json": {
              "version_major": 2,
              "version_minor": 0,
              "model_id": "394d5c703b61418b8d5c20ca2901e5fd"
            }
          },
          "metadata": {}
        },
        {
          "output_type": "display_data",
          "data": {
            "text/plain": [
              "Button(description='5', style=ButtonStyle())"
            ],
            "application/vnd.jupyter.widget-view+json": {
              "version_major": 2,
              "version_minor": 0,
              "model_id": "1d8e395771124630a7141b05d2619968"
            }
          },
          "metadata": {}
        },
        {
          "output_type": "display_data",
          "data": {
            "text/plain": [
              "<Figure size 640x480 with 1 Axes>"
            ],
            "image/png": "[encoded data removed]"
          },
          "metadata": {}
        },
        {
          "output_type": "stream",
          "name": "stderr",
          "text": [
            "<ipython-input-15-61e37d9d06d0>:19: MatplotlibDeprecationWarning: The get_cmap function was deprecated in Matplotlib 3.7 and will be removed in 3.11. Use ``matplotlib.colormaps[name]`` or ``matplotlib.colormaps.get_cmap()`` or ``pyplot.get_cmap()`` instead.\n",
            "  cmap = cm.get_cmap('gray')\n",
            "<ipython-input-15-61e37d9d06d0>:19: MatplotlibDeprecationWarning: The get_cmap function was deprecated in Matplotlib 3.7 and will be removed in 3.11. Use ``matplotlib.colormaps[name]`` or ``matplotlib.colormaps.get_cmap()`` or ``pyplot.get_cmap()`` instead.\n",
            "  cmap = cm.get_cmap('gray')\n",
            "<ipython-input-15-61e37d9d06d0>:19: MatplotlibDeprecationWarning: The get_cmap function was deprecated in Matplotlib 3.7 and will be removed in 3.11. Use ``matplotlib.colormaps[name]`` or ``matplotlib.colormaps.get_cmap()`` or ``pyplot.get_cmap()`` instead.\n",
            "  cmap = cm.get_cmap('gray')\n"
          ]
        }
      ]
    },
    {
      "cell_type": "code",
      "source": [
        "import matplotlib.pyplot as plt\n",
        "\n",
        "# Create figure and remove axis\n",
        "fig, ax = plt.subplots()\n",
        "ax.set_xlim(-1, 1)\n",
        "ax.set_ylim(-1, 1)\n",
        "ax.axis(\"off\")\n",
        "\n",
        "# Set brightness level\n",
        "brightness_level = int(input(\"Enter brightness level (1-10): \"))\n",
        "max_level = 10\n",
        "\n",
        "grayscale_value = 1 - (brightness_level / max_level)\n",
        "ax.scatter(0, 0, s=5000, color=(grayscale_value, grayscale_value, grayscale_value))\n",
        "fig.canvas.draw()\n",
        "\n",
        "# Update brightness on key press\n",
        "def on_key(event):\n",
        "    global brightness_level, grayscale_value\n",
        "    if event.key.isdigit():\n",
        "        level = int(event.key)\n",
        "        if 1 <= level <= max_level:\n",
        "            brightness_level = level\n",
        "            grayscale_value = 1 - (brightness_level / max_level)\n",
        "            ax.clear()\n",
        "            ax.set_xlim(-1, 1)\n",
        "            ax.set_ylim(-1, 1)\n",
        "            ax.axis(\"off\")\n",
        "            ax.scatter(0, 0, s=5000, color=(grayscale_value, grayscale_value, grayscale_value))\n",
        "            fig.canvas.draw()\n",
        "    elif event.key == 'q':\n",
        "        plt.close()\n",
        "\n",
        "fig.canvas.mpl_connect(\"key_press_event\", on_key)\n",
        "plt.show()\n"
      ],
      "metadata": {
        "colab": {
          "base_uri": "https://localhost:8080/",
          "height": 423
        },
        "id": "XPcIcvQr-EgH",
        "outputId": "9c3e8cf0-9fb9-4a1d-9b25-a9c6fe42debc"
      },
      "execution_count": null,
      "outputs": [
        {
          "name": "stdout",
          "output_type": "stream",
          "text": [
            "Enter brightness level (1-10): 10\n"
          ]
        },
        {
          "output_type": "display_data",
          "data": {
            "text/plain": [
              "<Figure size 640x480 with 1 Axes>"
            ],
            "image/png": "[encoded data removed]"
          },
          "metadata": {}
        }
      ]
    },
    {
      "cell_type": "code",
      "source": [
        "import matplotlib.pyplot as plt\n",
        "\n",
        "# Create a blank screen\n",
        "fig, ax = plt.subplots()\n",
        "ax.set_xlim(-1, 1)\n",
        "ax.set_ylim(-1, 1)\n",
        "ax.axis(\"off\")\n",
        "\n",
        "# Ask user for brightness level (1 = light gray, 10 = black)\n",
        "brightness_level = int(input(\"Pick a brightness level (1-10): \"))\n",
        "max_level = 10\n",
        "\n",
        "# Change brightness based on level\n",
        "grayscale_value = 1 - (brightness_level / max_level)\n",
        "ax.scatter(0, 0, s=5000, color=(grayscale_value, grayscale_value, grayscale_value))\n",
        "fig.canvas.draw()\n",
        "\n",
        "plt.show()\n",
        "\n"
      ],
      "metadata": {
        "colab": {
          "base_uri": "https://localhost:8080/",
          "height": 423
        },
        "id": "VWNcN699AGIz",
        "outputId": "02fe6e77-e57f-460f-cea5-a3df6b1e5411"
      },
      "execution_count": null,
      "outputs": [
        {
          "name": "stdout",
          "output_type": "stream",
          "text": [
            "Pick a brightness level (1-10): 7\n"
          ]
        },
        {
          "output_type": "display_data",
          "data": {
            "text/plain": [
              "<Figure size 640x480 with 1 Axes>"
            ],
            "image/png": "[encoded data removed]"
          },
          "metadata": {}
        }
      ]
    },
    {
      "cell_type": "code",
      "source": [
        "import matplotlib.pyplot as plt\n",
        "\n",
        "#graph and axis plotting\n",
        "fig, ax = plt.subplots()\n",
        "ax.set_xlim(-1, 1)\n",
        "ax.set_ylim(-1, 1)\n",
        "ax.axis(\"off\")\n",
        "\n",
        "#Brightness level input\n",
        "brightness_level = int(input(\"Pick a brightness level (1-10): \"))\n",
        "max_level = 10\n",
        "\n",
        "#Brightness formulae\n",
        "grayscale_value = 1 - ((brightness_level - 1) / (max_level - 1))\n",
        "\n",
        "#Circle\n",
        "ax.scatter(0, 0, s=5000, color=(grayscale_value, grayscale_value, grayscale_value))\n",
        "\n",
        "#display brightness level\n",
        "ax.text(0.420, 0.3, f\"Level: {brightness_level}\", fontsize=12, color='black', transform=ax.transAxes)\n",
        "\n",
        "fig.canvas.draw()\n",
        "plt.show()\n",
        "\n"
      ],
      "metadata": {
        "id": "frnvW4ZOAu1s"
      },
      "execution_count": null,
      "outputs": []
    },
    {
      "cell_type": "code",
      "source": [
        "import matplotlib.pyplot as plt\n",
        "\n",
        "# Create a blank screen\n",
        "fig, ax = plt.subplots()\n",
        "ax.set_xlim(-1, 1)\n",
        "ax.set_ylim(-1, 1)\n",
        "ax.axis(\"off\")\n",
        "\n",
        "# Ask user for brightness level (1 = very faint gray, 10 = black)\n",
        "brightness_level = int(input(\"Pick a brightness level (1-10): \"))\n",
        "max_level = 10\n",
        "\n",
        "# Adjust contrast to make levels more distinct, ensuring level 1 is faint but visible\n",
        "grayscale_value = max(0.1, 1 - ((brightness_level - 1) / (max_level - 1)) * 0.9)\n",
        "\n",
        "# Draw LED\n",
        "ax.scatter(0, 0, s=5000, color=(grayscale_value, grayscale_value, grayscale_value))\n",
        "\n",
        "# Display brightness level in the corner\n",
        "ax.text(0.7, 0.9, f\"Level: {brightness_level}\", fontsize=12, color='black', transform=ax.transAxes, bbox=dict(facecolor='white', edgecolor='black'))\n",
        "\n",
        "fig.canvas.draw()\n",
        "plt.show()\n"
      ],
      "metadata": {
        "colab": {
          "base_uri": "https://localhost:8080/",
          "height": 423
        },
        "id": "QZjONkwzBXNy",
        "outputId": "fbaf8c57-883d-4124-8976-40ec390a7d21"
      },
      "execution_count": null,
      "outputs": [
        {
          "name": "stdout",
          "output_type": "stream",
          "text": [
            "Pick a brightness level (1-10): 1\n"
          ]
        },
        {
          "output_type": "display_data",
          "data": {
            "text/plain": [
              "<Figure size 640x480 with 1 Axes>"
            ],
            "image/png": "[encoded data removed]"
          },
          "metadata": {}
        }
      ]
    },
    {
      "cell_type": "code",
      "source": [
        "import matplotlib.pyplot as plt\n",
        "\n",
        "# Create figure and remove axis\n",
        "fig, ax = plt.subplots()\n",
        "ax.set_xlim(-1, 1)\n",
        "ax.set_ylim(-1, 1)\n",
        "ax.axis(\"off\")\n",
        "\n",
        "# Set initial brightness\n",
        "brightness_level = 2\n",
        "max_level = 10\n",
        "\n",
        "# Draw initial LED\n",
        "ax.scatter(0, 0, s=5000, color=(1 - brightness_level / max_level, 0, 0))\n",
        "fig.canvas.draw()\n",
        "\n",
        "# Key press event to change brightness\n",
        "def on_key(event):\n",
        "    global brightness_level\n",
        "    if event.key.isdigit():\n",
        "        level = int(event.key)\n",
        "        if 1 <= level <= max_level:\n",
        "            brightness_level = level\n",
        "            ax.clear()\n",
        "            ax.set_xlim(-1, 1)\n",
        "            ax.set_ylim(-1, 1)\n",
        "            ax.axis(\"off\")\n",
        "            ax.scatter(0, 0, s=5000, color=(1 - brightness_level / max_level, 0, 0))\n",
        "            fig.canvas.draw()\n",
        "    elif event.key == 'q':\n",
        "        plt.close()\n",
        "\n",
        "fig.canvas.mpl_connect(\"key_press_event\", on_key)\n",
        "plt.show()\n"
      ],
      "metadata": {
        "colab": {
          "base_uri": "https://localhost:8080/",
          "height": 406
        },
        "id": "VLzG_mao9Fjb",
        "outputId": "fe9ebe5b-d4c2-4d1c-bac0-d89d90149b9c"
      },
      "execution_count": null,
      "outputs": [
        {
          "output_type": "display_data",
          "data": {
            "text/plain": [
              "<Figure size 640x480 with 1 Axes>"
            ],
            "image/png": "[encoded data removed]"
          },
          "metadata": {}
        }
      ]
    },
    {
      "cell_type": "code",
      "source": [
        "import matplotlib.pyplot as plt\n",
        "\n",
        "# Create figure and remove axis\n",
        "fig, ax = plt.subplots()\n",
        "ax.set_xlim(-1, 1)\n",
        "ax.set_ylim(-1, 1)\n",
        "ax.axis(\"off\")\n",
        "\n",
        "# Set initial brightness\n",
        "brightness_level = int(input(\"Enter initial brightness level (1-10): \"))\n",
        "max_level = 10\n",
        "\n",
        "# Draw initial LED\n",
        "ax.scatter(0, 0, s=5000, color=(1 - brightness_level / max_level, 0, 0))\n",
        "fig.canvas.draw()\n",
        "\n",
        "# Key press event to change brightness\n",
        "def on_key(event):\n",
        "    global brightness_level\n",
        "    if event.key.isdigit():\n",
        "        level = int(event.key)\n",
        "        if 1 <= level <= max_level:\n",
        "            brightness_level = level\n",
        "            ax.clear()\n",
        "            ax.set_xlim(-1, 1)\n",
        "            ax.set_ylim(-1, 1)\n",
        "            ax.axis(\"off\")\n",
        "            ax.scatter(0, 0, s=5000, color=(1 - brightness_level / max_level, 0, 0))\n",
        "            fig.canvas.draw()\n",
        "    elif event.key == 'q':\n",
        "        plt.close()\n",
        "\n",
        "fig.canvas.mpl_connect(\"key_press_event\", on_key)\n",
        "plt.show()\n",
        "\n"
      ],
      "metadata": {
        "colab": {
          "base_uri": "https://localhost:8080/",
          "height": 423
        },
        "id": "SzhOzFm19P5u",
        "outputId": "22fb8c9c-3bb0-4943-ffc8-596783973b07"
      },
      "execution_count": null,
      "outputs": [
        {
          "name": "stdout",
          "output_type": "stream",
          "text": [
            "Enter initial brightness level (1-10): 2\n"
          ]
        },
        {
          "output_type": "display_data",
          "data": {
            "text/plain": [
              "<Figure size 640x480 with 1 Axes>"
            ],
            "image/png": "[encoded data removed]"
          },
          "metadata": {}
        }
      ]
    },
    {
      "cell_type": "code",
      "source": [
        "import matplotlib.pyplot as plt\n",
        "\n",
        "# Create figure and remove axis\n",
        "fig, ax = plt.subplots()\n",
        "ax.set_xlim(-1, 1)\n",
        "ax.set_ylim(-1, 1)\n",
        "ax.axis(\"off\")\n",
        "\n",
        "# Set initial brightness\n",
        "brightness_level = int(input(\"Enter initial brightness level (1-10): \"))\n",
        "max_level = 10\n",
        "\n",
        "# Calculate grayscale value (1 = light gray, 0 = black)\n",
        "grayscale_value = 1 - (brightness_level / max_level)\n",
        "\n",
        "# Draw initial LED\n",
        "ax.scatter(0, 0, s=5000, color=(grayscale_value, grayscale_value, grayscale_value))\n",
        "fig.canvas.draw()\n",
        "\n",
        "# Key press event to change brightness\n",
        "def on_key(event):\n",
        "    global brightness_level, grayscale_value\n",
        "    if event.key.isdigit():\n",
        "        level = int(event.key)\n",
        "        if 1 <= level <= max_level:\n",
        "            brightness_level = level\n",
        "            grayscale_value = 1 - (brightness_level / max_level)\n",
        "            ax.clear()\n",
        "            ax.set_xlim(-1, 1)\n",
        "            ax.set_ylim(-1, 1)\n",
        "            ax.axis(\"off\")\n",
        "            ax.scatter(0, 0, s=5000, color=(grayscale_value, grayscale_value, grayscale_value))\n",
        "            fig.canvas.draw()\n",
        "    elif event.key == 'q':\n",
        "        plt.close()\n",
        "\n",
        "fig.canvas.mpl_connect(\"key_press_event\", on_key)\n",
        "plt.show()\n",
        "\n"
      ],
      "metadata": {
        "colab": {
          "base_uri": "https://localhost:8080/",
          "height": 423
        },
        "id": "cvjcB8UP9d75",
        "outputId": "ed913414-1cb0-4f80-f262-b91ed3ae68c6"
      },
      "execution_count": null,
      "outputs": [
        {
          "name": "stdout",
          "output_type": "stream",
          "text": [
            "Enter initial brightness level (1-10): 10\n"
          ]
        },
        {
          "output_type": "display_data",
          "data": {
            "text/plain": [
              "<Figure size 640x480 with 1 Axes>"
            ],
            "image/png": "[encoded data removed]"
          },
          "metadata": {}
        }
      ]
    },
    {
      "cell_type": "code",
      "source": [],
      "metadata": {
        "id": "Khacqc8v9ieX"
      },
      "execution_count": null,
      "outputs": []
    },
    {
      "cell_type": "code",
      "source": [
        "import matplotlib.pyplot as plt\n",
        "import numpy as np\n",
        "\n",
        "# Time vector (adjust as needed)\n",
        "t = np.linspace(0, 10, 100)  # 10 seconds, 100 points\n",
        "\n",
        "# Brightness control function (example: sine wave)\n",
        "# Modify this function to create your desired brightness pattern.\n",
        "# The output should be between 0 (off) and 1 (full brightness).\n",
        "def brightness_function(t):\n",
        "    return (np.sin(t) + 1) / 2  # Sine wave between 0 and 1\n",
        "\n",
        "brightness = brightness_function(t)\n",
        "\n",
        "\n",
        "# Simulate LED brightness (for visualization)\n",
        "#  You would replace this with actual hardware control in a real application.\n",
        "plt.plot(t, brightness)\n",
        "plt.xlabel(\"Time (s)\")\n",
        "plt.ylabel(\"LED Brightness (0-1)\")\n",
        "plt.title(\"LED Brightness Control\")\n",
        "plt.ylim(0, 1)  # Ensure y-axis is between 0 and 1\n",
        "plt.grid(True)\n",
        "plt.show()\n",
        "\n",
        "\n",
        "\n",
        "# --- Below is how you would control a real LED using RPi.GPIO (Raspberry Pi) ---\n",
        "# --- This part is commented out because it requires hardware and specific setup ---\n",
        "\n",
        "# import RPi.GPIO as GPIO\n",
        "# import time\n",
        "\n",
        "# GPIO.setmode(GPIO.BCM)\n",
        "# led_pin = 18  # Replace with your LED's GPIO pin\n",
        "# GPIO.setup(led_pin, GPIO.OUT)\n",
        "# pwm = GPIO.PWM(led_pin, 100)  # 100Hz frequency\n",
        "# pwm.start(0)  # Start with 0% duty cycle (off)\n",
        "\n",
        "# try:\n",
        "#     for b in brightness:  # Use the calculated brightness values\n",
        "#         duty_cycle = b * 100  # Convert brightness (0-1) to duty cycle (0-100)\n",
        "#         pwm.ChangeDutyCycle(duty_cycle)\n",
        "#         time.sleep(0.01) # Small delay (adjust as needed)\n",
        "# except KeyboardInterrupt:\n",
        "#     pass\n",
        "# finally:\n",
        "#     pwm.stop()\n",
        "#     GPIO.cleanup()\n"
      ],
      "metadata": {
        "id": "ZMkFWAib3TyE",
        "outputId": "5b0dc990-9029-4f6a-89f4-c2e2e599186d",
        "colab": {
          "base_uri": "https://localhost:8080/",
          "height": 472
        }
      },
      "execution_count": null,
      "outputs": [
        {
          "output_type": "display_data",
          "data": {
            "text/plain": [
              "<Figure size 640x480 with 1 Axes>"
            ],
            "image/png": "[encoded data removed]"
          },
          "metadata": {}
        }
      ]
    },
    {
      "cell_type": "code",
      "source": [
        "vegetable = [\"potato\",\"raddish\",\"carrot\"]\n",
        "for x in vegetable:\n",
        "  print(x)"
      ],
      "metadata": {
        "colab": {
          "base_uri": "https://localhost:8080/"
        },
        "id": "Rmih3VY4TWiW",
        "outputId": "cc16a42d-ccbf-45a8-d475-2cd1b4605a19"
      },
      "execution_count": null,
      "outputs": [
        {
          "output_type": "stream",
          "name": "stdout",
          "text": [
            "potato\n",
            "raddish\n",
            "carrot\n"
          ]
        }
      ]
    },
    {
      "cell_type": "code",
      "source": [
        "for x in \"ELDENRING\":\n",
        "  print(x)"
      ],
      "metadata": {
        "colab": {
          "base_uri": "https://localhost:8080/"
        },
        "id": "R0xXIjEPUGAm",
        "outputId": "76539653-86cc-4df5-e694-39c15406c7cc"
      },
      "execution_count": null,
      "outputs": [
        {
          "output_type": "stream",
          "name": "stdout",
          "text": [
            "E\n",
            "L\n",
            "D\n",
            "E\n",
            "N\n",
            "R\n",
            "I\n",
            "N\n",
            "G\n"
          ]
        }
      ]
    },
    {
      "cell_type": "code",
      "source": [
        "text = str(input())\n",
        "for char in text:\n",
        "  print(char)"
      ],
      "metadata": {
        "colab": {
          "base_uri": "https://localhost:8080/"
        },
        "id": "ejVFw5s9UnPS",
        "outputId": "42b6ce97-9a41-4cda-929f-1a6e81eb482f"
      },
      "execution_count": null,
      "outputs": [
        {
          "output_type": "stream",
          "name": "stdout",
          "text": [
            "JERMA985\n",
            "J\n",
            "E\n",
            "R\n",
            "M\n",
            "A\n",
            "9\n",
            "8\n",
            "5\n"
          ]
        }
      ]
    },
    {
      "cell_type": "code",
      "source": [
        "text = input()\n",
        "word = input(\"word to find-> \")\n",
        "count = 0\n",
        "for char in text:\n",
        "  if char == word:\n",
        "    count += 1\n",
        "print(count)"
      ],
      "metadata": {
        "colab": {
          "base_uri": "https://localhost:8080/"
        },
        "id": "yZfOw65xVUDL",
        "outputId": "a0187bfb-db4f-4114-e286-645d7adc2849"
      },
      "execution_count": null,
      "outputs": [
        {
          "output_type": "stream",
          "name": "stdout",
          "text": [
            "HILBILLI\n",
            "word to find-> I\n",
            "3\n"
          ]
        }
      ]
    },
    {
      "cell_type": "code",
      "source": [
        "NUMBERS = [10,20,30,40,50,60,60,50,40,30,20,10]\n",
        "sum = 0\n",
        "for num in NUMBERS:\n",
        "  sum += num\n",
        "print(sum)"
      ],
      "metadata": {
        "colab": {
          "base_uri": "https://localhost:8080/"
        },
        "id": "-OYwAjxHW52V",
        "outputId": "aefa85d7-4a52-47fa-cbbb-78f5166defa9"
      },
      "execution_count": null,
      "outputs": [
        {
          "output_type": "stream",
          "name": "stdout",
          "text": [
            "420\n"
          ]
        }
      ]
    },
    {
      "cell_type": "code",
      "source": [
        "\n",
        "text = input(\"Enter a string: \")\n",
        "reversed_string = \"\"\n",
        "for char in text:\n",
        "  reversed_string = char+reversed_string\n",
        "print(reversed_string)\n"
      ],
      "metadata": {
        "colab": {
          "base_uri": "https://localhost:8080/"
        },
        "id": "w9sQQMPsYNVO",
        "outputId": "f2589711-150d-45e5-c0ae-7672d3dddc0c"
      },
      "execution_count": null,
      "outputs": [
        {
          "output_type": "stream",
          "name": "stdout",
          "text": [
            "Enter a string: JERMA\n",
            "AMREJ\n"
          ]
        }
      ]
    },
    {
      "cell_type": "code",
      "source": [
        "n = input()\n",
        "sum = 0\n",
        "for i in range(1,int(n)+1):\n",
        "  sum += i\n",
        "print(sum)"
      ],
      "metadata": {
        "colab": {
          "base_uri": "https://localhost:8080/"
        },
        "id": "cBg-q8IucmI4",
        "outputId": "c53767b4-227e-466f-bb1d-b91172e2df3a"
      },
      "execution_count": null,
      "outputs": [
        {
          "output_type": "stream",
          "name": "stdout",
          "text": [
            "5\n",
            "15\n"
          ]
        }
      ]
    },
    {
      "cell_type": "code",
      "source": [
        "n = input()\n",
        "sum = 0\n",
        "for i in range(2,int(n)+1,2):\n",
        "  print(i)\n",
        "for i in range(1,int(n)+1,2):\n",
        "  sum += i\n",
        "  print(i)"
      ],
      "metadata": {
        "colab": {
          "base_uri": "https://localhost:8080/"
        },
        "id": "LrfakvZxdAmc",
        "outputId": "886176af-df73-47ee-8715-4fc50a62aff5"
      },
      "execution_count": null,
      "outputs": [
        {
          "output_type": "stream",
          "name": "stdout",
          "text": [
            "20\n",
            "2\n",
            "4\n",
            "6\n",
            "8\n",
            "10\n",
            "12\n",
            "14\n",
            "16\n",
            "18\n",
            "20\n"
          ]
        }
      ]
    },
    {
      "cell_type": "code",
      "source": [
        "num =input()\n",
        "for i in range(1,11):\n",
        "  print(f'{num} x {i} = {int(num)*i}')"
      ],
      "metadata": {
        "colab": {
          "base_uri": "https://localhost:8080/"
        },
        "id": "Qhn9OnFmdcQb",
        "outputId": "9412df56-7ded-4747-d80d-fac0a6340972"
      },
      "execution_count": null,
      "outputs": [
        {
          "output_type": "stream",
          "name": "stdout",
          "text": [
            "9\n",
            "9 x 1 = 9\n",
            "9 x 2 = 18\n",
            "9 x 3 = 27\n",
            "9 x 4 = 36\n",
            "9 x 5 = 45\n",
            "9 x 6 = 54\n",
            "9 x 7 = 63\n",
            "9 x 8 = 72\n",
            "9 x 9 = 81\n",
            "9 x 10 = 90\n"
          ]
        }
      ]
    },
    {
      "cell_type": "code",
      "source": [
        "num = int(input())\n",
        "for i in range(n,0,-1):\n",
        "  print(i)"
      ],
      "metadata": {
        "colab": {
          "base_uri": "https://localhost:8080/",
          "height": 193
        },
        "id": "nQl2KVyQeKNK",
        "outputId": "e8836cb6-bc59-4be2-ebc6-dbc46a133c7b"
      },
      "execution_count": null,
      "outputs": [
        {
          "name": "stdout",
          "output_type": "stream",
          "text": [
            "10\n"
          ]
        },
        {
          "output_type": "error",
          "ename": "TypeError",
          "evalue": "'str' object cannot be interpreted as an integer",
          "traceback": [
            "\u001b[0;31m---------------------------------------------------------------------------\u001b[0m",
            "\u001b[0;31mTypeError\u001b[0m                                 Traceback (most recent call last)",
            "\u001b[0;32m<ipython-input-29-28e685208195>\u001b[0m in \u001b[0;36m<cell line: 0>\u001b[0;34m()\u001b[0m\n\u001b[1;32m      1\u001b[0m \u001b[0mnum\u001b[0m \u001b[0;34m=\u001b[0m \u001b[0mint\u001b[0m\u001b[0;34m(\u001b[0m\u001b[0minput\u001b[0m\u001b[0;34m(\u001b[0m\u001b[0;34m)\u001b[0m\u001b[0;34m)\u001b[0m\u001b[0;34m\u001b[0m\u001b[0;34m\u001b[0m\u001b[0m\n\u001b[0;32m----> 2\u001b[0;31m \u001b[0;32mfor\u001b[0m \u001b[0mi\u001b[0m \u001b[0;32min\u001b[0m \u001b[0mrange\u001b[0m\u001b[0;34m(\u001b[0m\u001b[0mn\u001b[0m\u001b[0;34m,\u001b[0m\u001b[0;36m0\u001b[0m\u001b[0;34m,\u001b[0m\u001b[0;34m-\u001b[0m\u001b[0;36m1\u001b[0m\u001b[0;34m)\u001b[0m\u001b[0;34m:\u001b[0m\u001b[0;34m\u001b[0m\u001b[0;34m\u001b[0m\u001b[0m\n\u001b[0m\u001b[1;32m      3\u001b[0m   \u001b[0mprint\u001b[0m\u001b[0;34m(\u001b[0m\u001b[0mi\u001b[0m\u001b[0;34m)\u001b[0m\u001b[0;34m\u001b[0m\u001b[0;34m\u001b[0m\u001b[0m\n",
            "\u001b[0;31mTypeError\u001b[0m: 'str' object cannot be interpreted as an integer"
          ]
        }
      ]
    },
    {
      "cell_type": "code",
      "source": [
        "num = int(input())\n",
        "for i in range(1,num+1):\n",
        "  print(i)"
      ],
      "metadata": {
        "id": "2ZgwxWiBeltL"
      },
      "execution_count": null,
      "outputs": []
    },
    {
      "cell_type": "code",
      "source": [
        "\n",
        "\n",
        "n = int(input())\n",
        "\n",
        "for i in range(1, n + 1):\n",
        "  i * i\n",
        "print(i)\n"
      ],
      "metadata": {
        "colab": {
          "base_uri": "https://localhost:8080/"
        },
        "id": "SAXlm_u9fBCZ",
        "outputId": "d6afcd81-2a50-426a-cede-fbc90a2038bd"
      },
      "execution_count": null,
      "outputs": [
        {
          "output_type": "stream",
          "name": "stdout",
          "text": [
            "10\n",
            "10\n"
          ]
        }
      ]
    },
    {
      "cell_type": "code",
      "source": [
        "n = [1,2,3,4,5]\n",
        "for x in range(6):\n",
        "  print(x)\n",
        "else:\n",
        "  print(\"Finally finished!\")"
      ],
      "metadata": {
        "colab": {
          "base_uri": "https://localhost:8080/"
        },
        "id": "CWwPkrw8fWww",
        "outputId": "8c45ee4f-1569-40f5-b54f-4f2a6dc65bdd"
      },
      "execution_count": null,
      "outputs": [
        {
          "output_type": "stream",
          "name": "stdout",
          "text": [
            "0\n",
            "1\n",
            "2\n",
            "3\n",
            "4\n",
            "5\n",
            "Finally finished!\n"
          ]
        }
      ]
    },
    {
      "cell_type": "code",
      "source": [
        "for x in range(5,0,-1):\n",
        "  print(x)\n",
        "else:\n",
        "  print(\"Finally finished!\")"
      ],
      "metadata": {
        "colab": {
          "base_uri": "https://localhost:8080/"
        },
        "id": "IPipU-dEgEQH",
        "outputId": "324f50d1-81cb-418a-f760-20098e5f4535"
      },
      "execution_count": null,
      "outputs": [
        {
          "output_type": "stream",
          "name": "stdout",
          "text": [
            "5\n",
            "4\n",
            "3\n",
            "2\n",
            "1\n",
            "Finally finished!\n"
          ]
        }
      ]
    },
    {
      "cell_type": "code",
      "source": [
        "n =1\n",
        "while n<=20:\n",
        "  print(n)\n",
        "  n+=2"
      ],
      "metadata": {
        "colab": {
          "base_uri": "https://localhost:8080/"
        },
        "id": "6wBlGKgYgUYD",
        "outputId": "2517328c-f614-44ee-9844-d2de40eed95b"
      },
      "execution_count": null,
      "outputs": [
        {
          "output_type": "stream",
          "name": "stdout",
          "text": [
            "1\n",
            "3\n",
            "5\n",
            "7\n",
            "9\n",
            "11\n",
            "13\n",
            "15\n",
            "17\n",
            "19\n"
          ]
        }
      ]
    },
    {
      "cell_type": "code",
      "source": [],
      "metadata": {
        "id": "LqjlvRXWgpDA"
      },
      "execution_count": null,
      "outputs": []
    },
    {
      "cell_type": "code",
      "source": [
        "text = input()\n",
        "result = \"\"\n",
        "for char in text:\n",
        "  if char not in \"aeiouAEIOU\":\n",
        "    result += char\n",
        "print(result)\n"
      ],
      "metadata": {
        "colab": {
          "base_uri": "https://localhost:8080/"
        },
        "id": "q2fhZ-r6bmsm",
        "outputId": "001ffc35-191a-41da-949e-3df9b6927dd5"
      },
      "execution_count": null,
      "outputs": [
        {
          "output_type": "stream",
          "name": "stdout",
          "text": [
            "HARSHIT AWASTHI\n",
            "HRSHT WSTH\n"
          ]
        }
      ]
    },
    {
      "cell_type": "code",
      "source": [
        "\n",
        "\n",
        "text = input(\"Enter a string: \")\n",
        "uppercase_string = \"\"\n",
        "for char in text:\n",
        "    uppercase_string += chr(ord(char) - 32)\n",
        "print(uppercase_string)\n",
        "\n",
        "\n",
        "\n"
      ],
      "metadata": {
        "colab": {
          "base_uri": "https://localhost:8080/"
        },
        "id": "G0MBbSmoZsdN",
        "outputId": "b298a1da-719b-46e2-e4a5-9a36a2a76e0b"
      },
      "execution_count": null,
      "outputs": [
        {
          "output_type": "stream",
          "name": "stdout",
          "text": [
            "Enter a string: harshit awasthi\n",
            "HARSHIT\u0000AWASTHI\n"
          ]
        }
      ]
    },
    {
      "cell_type": "code",
      "source": [
        "num = int(input())\n",
        "i=1\n",
        "while i <= num:\n",
        "  print(str(i)*i)\n",
        "  i = i + 1"
      ],
      "metadata": {
        "colab": {
          "base_uri": "https://localhost:8080/"
        },
        "id": "RuihThrKhHif",
        "outputId": "34d0b390-dd5a-450f-d35c-ab6a3008a319"
      },
      "execution_count": null,
      "outputs": [
        {
          "output_type": "stream",
          "name": "stdout",
          "text": [
            "10\n",
            "1\n",
            "22\n",
            "333\n",
            "4444\n",
            "55555\n",
            "666666\n",
            "7777777\n",
            "88888888\n",
            "999999999\n",
            "10101010101010101010\n"
          ]
        }
      ]
    },
    {
      "cell_type": "code",
      "source": [],
      "metadata": {
        "id": "m_i7xjH9inYs"
      },
      "execution_count": null,
      "outputs": []
    },
    {
      "cell_type": "code",
      "source": [
        "\n",
        "a = int(input(\"Enter the value of a: \"))\n",
        "b = int(input(\"Enter the value of b: \"))\n",
        "N = int(input(\"Enter the value of N: \"))\n",
        "\n",
        "for i in range(N + 1):\n",
        "  a + b**i\n",
        "  print(a)\n"
      ],
      "metadata": {
        "colab": {
          "base_uri": "https://localhost:8080/"
        },
        "id": "R9DTq-vRgxbL",
        "outputId": "3c4ac919-0c0b-47cd-d2ca-3b8a56787de0"
      },
      "execution_count": null,
      "outputs": [
        {
          "output_type": "stream",
          "name": "stdout",
          "text": [
            "Enter the value of a: 3\n",
            "Enter the value of b: 3\n",
            "Enter the value of N: 3\n",
            "3\n",
            "3\n",
            "3\n",
            "3\n"
          ]
        }
      ]
    },
    {
      "cell_type": "code",
      "source": [
        "text = \"Harshit awasthi\"\n",
        "for i in text:\n",
        "  if i == \"i\":\n",
        "    break\n",
        "  print(i,end='')"
      ],
      "metadata": {
        "colab": {
          "base_uri": "https://localhost:8080/"
        },
        "id": "PF9JyzaRj2Be",
        "outputId": "33332359-9ee6-4a8a-f9f9-93d22cbe9238"
      },
      "execution_count": null,
      "outputs": [
        {
          "output_type": "stream",
          "name": "stdout",
          "text": [
            "Harsh"
          ]
        }
      ]
    },
    {
      "cell_type": "code",
      "source": [
        "text = \"Harshit awasthi\"\n",
        "for i in text:\n",
        "  if i == \"s\":\n",
        "    continue\n",
        "  print(i,end='')"
      ],
      "metadata": {
        "colab": {
          "base_uri": "https://localhost:8080/"
        },
        "id": "d39iHrjjkUtK",
        "outputId": "f27d3bc6-882f-41b4-880b-e37dd986d0f7"
      },
      "execution_count": null,
      "outputs": [
        {
          "output_type": "stream",
          "name": "stdout",
          "text": [
            "Harhit awathi"
          ]
        }
      ]
    },
    {
      "cell_type": "code",
      "source": [
        "text = \"Harshit awasthi\"\n",
        "for i in text:\n",
        "  if i == \"s\":\n",
        "    pass\n",
        "  print(i,end='')"
      ],
      "metadata": {
        "colab": {
          "base_uri": "https://localhost:8080/"
        },
        "id": "4dZp_W7Rk27_",
        "outputId": "95e6dacb-21ec-45d4-f1ce-1bb429ab9dc0"
      },
      "execution_count": null,
      "outputs": [
        {
          "output_type": "stream",
          "name": "stdout",
          "text": [
            "Harshit awasthi"
          ]
        }
      ]
    },
    {
      "cell_type": "code",
      "source": [
        "#q1\n",
        "length=10\n",
        "breadth=20\n",
        "sum=(length+breadth)/2\n",
        "area=length*breadth\n",
        "print(area)\n",
        "first='Mohandas'\n",
        "middle='Karamchand'\n",
        "last='Gandhi'\n",
        "\n",
        "print(length, breadth, sum, first, middle, last)"
      ],
      "metadata": {
        "colab": {
          "base_uri": "https://localhost:8080/"
        },
        "id": "Y_kGnlyxd3aQ",
        "outputId": "5b4a4ccb-8fd6-49ef-ad39-a40bcff59811"
      },
      "execution_count": null,
      "outputs": [
        {
          "output_type": "stream",
          "name": "stdout",
          "text": [
            "200\n",
            "10 20 15.0 Mohandas Karamchand Gandhi\n"
          ]
        }
      ]
    },
    {
      "cell_type": "code",
      "source": [
        "a = int(input())\n",
        "b = int(input())\n",
        "if a > b:\n",
        "  print(\"a is greater than b\")\n",
        "elif a == b:\n",
        "  print(\"a is equal to b\")\n",
        "else:\n",
        "  print(\"b is greater than a\")"
      ],
      "metadata": {
        "colab": {
          "base_uri": "https://localhost:8080/"
        },
        "id": "f2k4s3iKBP63",
        "outputId": "23fc0cea-50be-4499-a9aa-29bc20f06ca8"
      },
      "execution_count": null,
      "outputs": [
        {
          "output_type": "stream",
          "name": "stdout",
          "text": [
            "10\n",
            "10\n",
            "a is equal to b\n"
          ]
        }
      ]
    },
    {
      "cell_type": "code",
      "source": [
        "num = int(input())\n",
        "if num % 2 == 0:\n",
        "  print(f'{num} is even' )\n",
        "else:\n",
        "  print(f'{num} is odd')"
      ],
      "metadata": {
        "colab": {
          "base_uri": "https://localhost:8080/"
        },
        "id": "PLqMdE5JC1ow",
        "outputId": "8f313c7f-f06d-43d9-b247-2df8800fd883"
      },
      "execution_count": null,
      "outputs": [
        {
          "output_type": "stream",
          "name": "stdout",
          "text": [
            "3\n",
            "3 is odd\n"
          ]
        }
      ]
    },
    {
      "cell_type": "code",
      "source": [
        "num_=50\n",
        "print(num_)"
      ],
      "metadata": {
        "colab": {
          "base_uri": "https://localhost:8080/"
        },
        "id": "PsImnlVUOGmr",
        "outputId": "e47b7b7e-7c97-47f7-852d-b92c5c5dcf1e"
      },
      "execution_count": null,
      "outputs": [
        {
          "output_type": "stream",
          "name": "stdout",
          "text": [
            "50\n"
          ]
        }
      ]
    },
    {
      "cell_type": "code",
      "source": [
        "num = float(input())\n",
        "if num > 0:\n",
        "  print(\"Positive\")\n",
        "elif num < 0:\n",
        "  print(\"Negative\")\n",
        "else:\n",
        "  print(\"Zero\")"
      ],
      "metadata": {
        "colab": {
          "base_uri": "https://localhost:8080/"
        },
        "id": "303gktq8DoBH",
        "outputId": "a3553a32-d177-442f-f887-120fb84c8748"
      },
      "execution_count": null,
      "outputs": [
        {
          "output_type": "stream",
          "name": "stdout",
          "text": [
            "1.0001\n",
            "Positive\n"
          ]
        }
      ]
    },
    {
      "cell_type": "code",
      "source": [
        "grade = float(input())\n",
        "\n",
        "if grade >= 90:\n",
        "  print(\"A\")\n",
        "elif grade >= 80:\n",
        "  print(\"B\")\n",
        "elif grade >= 70:\n",
        "  print(\"C\")\n",
        "elif grade >= 60:\n",
        "  print(\"D\")\n",
        "else:\n",
        "  print(\"F\")"
      ],
      "metadata": {
        "colab": {
          "base_uri": "https://localhost:8080/"
        },
        "id": "Udtm37_JEK4Z",
        "outputId": "0c50b715-f298-42ec-d4ef-5d9c1f8482a0"
      },
      "execution_count": null,
      "outputs": [
        {
          "output_type": "stream",
          "name": "stdout",
          "text": [
            "89\n",
            "B\n"
          ]
        }
      ]
    },
    {
      "cell_type": "code",
      "source": [
        "character = str(input()).lower()\n",
        "\n",
        "if character in ['a', 'e', 'i', 'o', 'u']:\n",
        "  print(\"Vowel\")\n",
        "else:\n",
        "  print(\"Consonant\")"
      ],
      "metadata": {
        "colab": {
          "base_uri": "https://localhost:8080/"
        },
        "id": "glrFj0uXFrPG",
        "outputId": "a99e8a09-af7d-4ab3-b6ca-f551ac9275d0"
      },
      "execution_count": null,
      "outputs": [
        {
          "output_type": "stream",
          "name": "stdout",
          "text": [
            "a\n",
            "Vowel\n"
          ]
        }
      ]
    },
    {
      "cell_type": "code",
      "source": [
        "side1 = int(input())\n",
        "side2 = int(input())\n",
        "side3 = int(input())\n",
        "\n",
        "if side1 + side2 > side3 and side1 + side3 > side2 and side2 + side3 > side1:\n",
        "  print(\"Valid triangle\")\n",
        "else:\n",
        "  print(\"Invalid triangle\")"
      ],
      "metadata": {
        "colab": {
          "base_uri": "https://localhost:8080/"
        },
        "id": "m69BEYmwGqJ8",
        "outputId": "48a80838-23cf-45d5-b64a-e9e0f30f1222"
      },
      "execution_count": null,
      "outputs": [
        {
          "output_type": "stream",
          "name": "stdout",
          "text": [
            "3\n",
            "4\n",
            "5\n",
            "Valid triangle\n"
          ]
        }
      ]
    },
    {
      "cell_type": "code",
      "source": [
        "year = int(input())\n",
        "\n",
        "if year % 4 == 0 and year % 100 != 0 or year % 400 == 0:\n",
        "  print(\"Leap year\")\n",
        "else:\n",
        "  print(\"Not a leap year\")"
      ],
      "metadata": {
        "colab": {
          "base_uri": "https://localhost:8080/"
        },
        "id": "ytFXSo8tHj0V",
        "outputId": "123aca84-af6f-4c33-8c99-c048da0706a9"
      },
      "execution_count": null,
      "outputs": [
        {
          "output_type": "stream",
          "name": "stdout",
          "text": [
            "1800\n",
            "Not a leap year\n"
          ]
        }
      ]
    },
    {
      "cell_type": "code",
      "source": [
        "num = int(input())\n",
        "\n",
        "if num%5==0 and num%11==0:\n",
        "  print(\"Divisible by 5 and 7\")\n",
        "else:\n",
        "  print(\"Not divisible by 5 and 7\")"
      ],
      "metadata": {
        "colab": {
          "base_uri": "https://localhost:8080/"
        },
        "id": "1_4AiODSIaZ0",
        "outputId": "39093acb-c5a3-48b9-e88f-0be8a2eea3d6"
      },
      "execution_count": null,
      "outputs": [
        {
          "output_type": "stream",
          "name": "stdout",
          "text": [
            "55\n",
            "Divisible by 5 and 7\n"
          ]
        }
      ]
    },
    {
      "cell_type": "code",
      "source": [
        "num = int(input())\n",
        "sum = 0\n",
        "temp = num\n",
        "while temp > 0:\n",
        "   digit = temp % 10\n",
        "   sum += digit ** 3\n",
        "   temp //= 10\n",
        "if num == sum:\n",
        "   print(num,\"is an Armstrong number\")\n",
        "else:\n",
        "   print(num,\"is not an Armstrong number\")"
      ],
      "metadata": {
        "colab": {
          "base_uri": "https://localhost:8080/",
          "height": 356
        },
        "id": "FW8kNu8vB5SX",
        "outputId": "7219e16d-0559-4f36-ea85-27f77d4df161"
      },
      "execution_count": null,
      "outputs": [
        {
          "output_type": "error",
          "ename": "KeyboardInterrupt",
          "evalue": "Interrupted by user",
          "traceback": [
            "\u001b[0;31m---------------------------------------------------------------------------\u001b[0m",
            "\u001b[0;31mKeyboardInterrupt\u001b[0m                         Traceback (most recent call last)",
            "\u001b[0;32m<ipython-input-35-b7a14464a784>\u001b[0m in \u001b[0;36m<cell line: 0>\u001b[0;34m()\u001b[0m\n\u001b[0;32m----> 1\u001b[0;31m \u001b[0mnum\u001b[0m \u001b[0;34m=\u001b[0m \u001b[0mint\u001b[0m\u001b[0;34m(\u001b[0m\u001b[0minput\u001b[0m\u001b[0;34m(\u001b[0m\u001b[0;34m)\u001b[0m\u001b[0;34m)\u001b[0m\u001b[0;34m\u001b[0m\u001b[0;34m\u001b[0m\u001b[0m\n\u001b[0m\u001b[1;32m      2\u001b[0m \u001b[0msum\u001b[0m \u001b[0;34m=\u001b[0m \u001b[0;36m0\u001b[0m\u001b[0;34m\u001b[0m\u001b[0;34m\u001b[0m\u001b[0m\n\u001b[1;32m      3\u001b[0m \u001b[0mtemp\u001b[0m \u001b[0;34m=\u001b[0m \u001b[0mnum\u001b[0m\u001b[0;34m\u001b[0m\u001b[0;34m\u001b[0m\u001b[0m\n\u001b[1;32m      4\u001b[0m \u001b[0;32mwhile\u001b[0m \u001b[0mtemp\u001b[0m \u001b[0;34m>\u001b[0m \u001b[0;36m0\u001b[0m\u001b[0;34m:\u001b[0m\u001b[0;34m\u001b[0m\u001b[0;34m\u001b[0m\u001b[0m\n\u001b[1;32m      5\u001b[0m    \u001b[0mdigit\u001b[0m \u001b[0;34m=\u001b[0m \u001b[0mtemp\u001b[0m \u001b[0;34m%\u001b[0m \u001b[0;36m10\u001b[0m\u001b[0;34m\u001b[0m\u001b[0;34m\u001b[0m\u001b[0m\n",
            "\u001b[0;32m/usr/local/lib/python3.11/dist-packages/ipykernel/kernelbase.py\u001b[0m in \u001b[0;36mraw_input\u001b[0;34m(self, prompt)\u001b[0m\n\u001b[1;32m    849\u001b[0m                 \u001b[0;34m\"raw_input was called, but this frontend does not support input requests.\"\u001b[0m\u001b[0;34m\u001b[0m\u001b[0;34m\u001b[0m\u001b[0m\n\u001b[1;32m    850\u001b[0m             )\n\u001b[0;32m--> 851\u001b[0;31m         return self._input_request(str(prompt),\n\u001b[0m\u001b[1;32m    852\u001b[0m             \u001b[0mself\u001b[0m\u001b[0;34m.\u001b[0m\u001b[0m_parent_ident\u001b[0m\u001b[0;34m,\u001b[0m\u001b[0;34m\u001b[0m\u001b[0;34m\u001b[0m\u001b[0m\n\u001b[1;32m    853\u001b[0m             \u001b[0mself\u001b[0m\u001b[0;34m.\u001b[0m\u001b[0m_parent_header\u001b[0m\u001b[0;34m,\u001b[0m\u001b[0;34m\u001b[0m\u001b[0;34m\u001b[0m\u001b[0m\n",
            "\u001b[0;32m/usr/local/lib/python3.11/dist-packages/ipykernel/kernelbase.py\u001b[0m in \u001b[0;36m_input_request\u001b[0;34m(self, prompt, ident, parent, password)\u001b[0m\n\u001b[1;32m    893\u001b[0m             \u001b[0;32mexcept\u001b[0m \u001b[0mKeyboardInterrupt\u001b[0m\u001b[0;34m:\u001b[0m\u001b[0;34m\u001b[0m\u001b[0;34m\u001b[0m\u001b[0m\n\u001b[1;32m    894\u001b[0m                 \u001b[0;31m# re-raise KeyboardInterrupt, to truncate traceback\u001b[0m\u001b[0;34m\u001b[0m\u001b[0;34m\u001b[0m\u001b[0m\n\u001b[0;32m--> 895\u001b[0;31m                 \u001b[0;32mraise\u001b[0m \u001b[0mKeyboardInterrupt\u001b[0m\u001b[0;34m(\u001b[0m\u001b[0;34m\"Interrupted by user\"\u001b[0m\u001b[0;34m)\u001b[0m \u001b[0;32mfrom\u001b[0m \u001b[0;32mNone\u001b[0m\u001b[0;34m\u001b[0m\u001b[0;34m\u001b[0m\u001b[0m\n\u001b[0m\u001b[1;32m    896\u001b[0m             \u001b[0;32mexcept\u001b[0m \u001b[0mException\u001b[0m \u001b[0;32mas\u001b[0m \u001b[0me\u001b[0m\u001b[0;34m:\u001b[0m\u001b[0;34m\u001b[0m\u001b[0;34m\u001b[0m\u001b[0m\n\u001b[1;32m    897\u001b[0m                 \u001b[0mself\u001b[0m\u001b[0;34m.\u001b[0m\u001b[0mlog\u001b[0m\u001b[0;34m.\u001b[0m\u001b[0mwarning\u001b[0m\u001b[0;34m(\u001b[0m\u001b[0;34m\"Invalid Message:\"\u001b[0m\u001b[0;34m,\u001b[0m \u001b[0mexc_info\u001b[0m\u001b[0;34m=\u001b[0m\u001b[0;32mTrue\u001b[0m\u001b[0;34m)\u001b[0m\u001b[0;34m\u001b[0m\u001b[0;34m\u001b[0m\u001b[0m\n",
            "\u001b[0;31mKeyboardInterrupt\u001b[0m: Interrupted by user"
          ]
        }
      ]
    },
    {
      "cell_type": "code",
      "source": [
        "num = int(input())\n",
        "num_str = str(num)\n",
        "digits = [int(digit) for digit in num_str]\n",
        "sum = 0\n",
        "for digit in digits:\n",
        "  sum += digit"
      ],
      "metadata": {
        "id": "JIW56nc_J-Q-"
      },
      "execution_count": null,
      "outputs": []
    },
    {
      "cell_type": "code",
      "source": [
        "num = int(input())\n",
        "sum = 0\n",
        "order = len(str(num))\n",
        "\n",
        "temp = num\n",
        "while temp > 0:\n",
        "   digit = temp % 10\n",
        "   sum += digit ** order\n",
        "   temp //= 10\n",
        "\n",
        "if num == sum:\n",
        "   print(f\"{num} is an Armstrong number\")\n",
        "else:\n",
        "   print(f\"{num} is not an Armstrong number\")\n"
      ],
      "metadata": {
        "colab": {
          "base_uri": "https://localhost:8080/"
        },
        "id": "r0pEpLfJJKU4",
        "outputId": "384af227-0bde-41a0-9179-19e8cb69a86d"
      },
      "execution_count": null,
      "outputs": [
        {
          "output_type": "stream",
          "name": "stdout",
          "text": [
            "153\n",
            "153 is not an Armstrong number\n"
          ]
        }
      ]
    },
    {
      "cell_type": "code",
      "source": [
        "num = int(input())\n",
        "num_digits = len(str(num))\n",
        "sum = 0\n",
        "\n",
        "sum_of_digits = sum(int(digit) ** num_digits for digit in str(num))\n",
        "\n",
        "if sum_of_digits == num:\n",
        "  print(f\"{num} is an Armstrong number\")\n",
        "else:\n",
        "  print(f\"{num} is not an Armstrong number\")\n",
        "\n"
      ],
      "metadata": {
        "id": "5YR7v7hkLz8u"
      },
      "execution_count": null,
      "outputs": []
    },
    {
      "cell_type": "code",
      "source": [
        "num = int(input())\n",
        "num_str = str(num)\n",
        "num_reversed = num_str[::-1]\n",
        "num = int(num_reversed)\n",
        "if num == num_reversed:\n",
        "  print(f\"{num} is a palindrome\")\n",
        "else:\n",
        "  print(f\"{num} is not a palindrome\")\n"
      ],
      "metadata": {
        "colab": {
          "base_uri": "https://localhost:8080/"
        },
        "id": "z3hpqdNJMW2f",
        "outputId": "a02f52aa-6757-43cd-8987-6834417e73a3"
      },
      "execution_count": null,
      "outputs": [
        {
          "output_type": "stream",
          "name": "stdout",
          "text": [
            "1001\n",
            "1001 is not a palindrome\n"
          ]
        }
      ]
    },
    {
      "cell_type": "code",
      "source": [
        "# prompt: to check for palindrome without functions\n",
        "\n",
        "num = int(input())\n",
        "num_str = str(num)\n",
        "reversed_str = num_str[::-1]\n",
        "if num_str == reversed_str:\n",
        "    print(f\"{num} is a palindrome\")\n",
        "else:\n",
        "    print(f\"{num} is not a palindrome\")\n"
      ],
      "metadata": {
        "colab": {
          "base_uri": "https://localhost:8080/"
        },
        "id": "tTkTUbM8NBif",
        "outputId": "12ddfb43-beab-4b09-b1bf-6d2385aa7186"
      },
      "execution_count": null,
      "outputs": [
        {
          "output_type": "stream",
          "name": "stdout",
          "text": [
            "1001\n",
            "1001 is a palindrome\n"
          ]
        }
      ]
    },
    {
      "cell_type": "code",
      "source": [
        "a=110\n",
        "a=110\n",
        "name='harshit'\n",
        "salary=1000.69420\n",
        "print(a,\"\\n\",name, \"\\n\",salary)"
      ],
      "metadata": {
        "colab": {
          "base_uri": "https://localhost:8080/"
        },
        "id": "IukabJUtOUhJ",
        "outputId": "643b7c27-079a-4fa2-b4a4-18f20fdb3ab7"
      },
      "execution_count": null,
      "outputs": [
        {
          "output_type": "stream",
          "name": "stdout",
          "text": [
            "110 \n",
            " harshit \n",
            " 1000.6942\n"
          ]
        }
      ]
    },
    {
      "cell_type": "code",
      "source": [
        "type(salary)"
      ],
      "metadata": {
        "colab": {
          "base_uri": "https://localhost:8080/"
        },
        "id": "S1UOSzI4O6PI",
        "outputId": "221df80a-c8ab-4a50-97ad-4750f93f8221"
      },
      "execution_count": null,
      "outputs": [
        {
          "output_type": "execute_result",
          "data": {
            "text/plain": [
              "float"
            ]
          },
          "metadata": {},
          "execution_count": 13
        }
      ]
    },
    {
      "cell_type": "code",
      "source": [
        "m=n=p=50\n",
        "x,y,z=4,5,6\n",
        "print(m,x,y)"
      ],
      "metadata": {
        "colab": {
          "base_uri": "https://localhost:8080/"
        },
        "id": "No35L2aZPbeD",
        "outputId": "2397ec5c-a362-4d05-a8fd-dfe5627c28cf"
      },
      "execution_count": null,
      "outputs": [
        {
          "output_type": "stream",
          "name": "stdout",
          "text": [
            "50 4 5\n"
          ]
        }
      ]
    },
    {
      "cell_type": "code",
      "source": [
        "type(m)"
      ],
      "metadata": {
        "colab": {
          "base_uri": "https://localhost:8080/"
        },
        "id": "Ef7y8jfDPwCq",
        "outputId": "e311b219-cefa-4b0b-9796-fd8bf23812e3"
      },
      "execution_count": null,
      "outputs": [
        {
          "output_type": "execute_result",
          "data": {
            "text/plain": [
              "int"
            ]
          },
          "metadata": {},
          "execution_count": 17
        }
      ]
    },
    {
      "cell_type": "code",
      "source": [
        "name=input(\"enter your name\")\n",
        "print(name)\n"
      ],
      "metadata": {
        "colab": {
          "base_uri": "https://localhost:8080/"
        },
        "id": "VwBtuJHRP3IN",
        "outputId": "c9d5e52f-9cbe-4222-c1f8-bb13e202a3bc"
      },
      "execution_count": null,
      "outputs": [
        {
          "output_type": "stream",
          "name": "stdout",
          "text": [
            "enter your name10\n",
            "10\n"
          ]
        }
      ]
    },
    {
      "cell_type": "code",
      "source": [
        "name=complex(input())\n",
        "print(name)"
      ],
      "metadata": {
        "colab": {
          "base_uri": "https://localhost:8080/"
        },
        "id": "rU1yQfE9QJc2",
        "outputId": "72516be2-8f25-49da-aee4-270b4095e951"
      },
      "execution_count": null,
      "outputs": [
        {
          "output_type": "stream",
          "name": "stdout",
          "text": [
            "10\n",
            "(10+0j)\n"
          ]
        }
      ]
    },
    {
      "cell_type": "code",
      "source": [
        "type(name)"
      ],
      "metadata": {
        "colab": {
          "base_uri": "https://localhost:8080/"
        },
        "id": "cwXpR7QNQpcG",
        "outputId": "a362e328-7e98-4b3c-dc9c-6d491cb56047"
      },
      "execution_count": null,
      "outputs": [
        {
          "output_type": "execute_result",
          "data": {
            "text/plain": [
              "complex"
            ]
          },
          "metadata": {},
          "execution_count": 25
        }
      ]
    },
    {
      "cell_type": "code",
      "source": [
        "s='''harshit'''\n",
        "print(s)\n"
      ],
      "metadata": {
        "colab": {
          "base_uri": "https://localhost:8080/"
        },
        "id": "2vP_S7c5Riqr",
        "outputId": "06285a7e-fd2b-441f-9753-39713cbbbe48"
      },
      "execution_count": null,
      "outputs": [
        {
          "output_type": "stream",
          "name": "stdout",
          "text": [
            "harshit\n"
          ]
        }
      ]
    },
    {
      "cell_type": "code",
      "source": [
        "s1=\"hello\"\n",
        "s2=\" harshit\"\n",
        "print(s1+s2)"
      ],
      "metadata": {
        "colab": {
          "base_uri": "https://localhost:8080/"
        },
        "id": "2HWDBHPNR5oJ",
        "outputId": "f68b25df-86eb-40c0-9e9e-cb6e066122da"
      },
      "execution_count": null,
      "outputs": [
        {
          "output_type": "stream",
          "name": "stdout",
          "text": [
            "hello harshit\n"
          ]
        }
      ]
    },
    {
      "cell_type": "code",
      "source": [
        "list=[1,\"harshit\",5]\n",
        "print(list)"
      ],
      "metadata": {
        "colab": {
          "base_uri": "https://localhost:8080/"
        },
        "id": "HOciPGc_TIy7",
        "outputId": "edbb6733-6754-4e3d-fea8-5082e496dd9e"
      },
      "execution_count": null,
      "outputs": [
        {
          "output_type": "stream",
          "name": "stdout",
          "text": [
            "[1, 'harshit', 5]\n"
          ]
        }
      ]
    },
    {
      "cell_type": "code",
      "source": [
        "print(len(list))"
      ],
      "metadata": {
        "colab": {
          "base_uri": "https://localhost:8080/"
        },
        "id": "D7C9ryfOUNrf",
        "outputId": "b81ece49-983c-4c6a-f32c-a8b71f5eeb18"
      },
      "execution_count": null,
      "outputs": [
        {
          "output_type": "stream",
          "name": "stdout",
          "text": [
            "3\n"
          ]
        }
      ]
    },
    {
      "cell_type": "code",
      "source": [
        "tuple=(1,2,3,4,5,6,7,\"harshit\",'''a''')\n",
        "print(tuple)"
      ],
      "metadata": {
        "colab": {
          "base_uri": "https://localhost:8080/"
        },
        "id": "BfuMtMpPUeuv",
        "outputId": "9db9e3ed-e212-4ce1-ea4f-56322df85b63"
      },
      "execution_count": null,
      "outputs": [
        {
          "output_type": "stream",
          "name": "stdout",
          "text": [
            "(1, 2, 3, 4, 5, 6, 7, 'harshit', 'a')\n"
          ]
        }
      ]
    },
    {
      "cell_type": "code",
      "source": [
        "print(len(tuple))"
      ],
      "metadata": {
        "colab": {
          "base_uri": "https://localhost:8080/"
        },
        "id": "qvBu9lz6UxLT",
        "outputId": "34e220fc-ddbb-4adb-946c-cbe557a1886c"
      },
      "execution_count": null,
      "outputs": [
        {
          "output_type": "stream",
          "name": "stdout",
          "text": [
            "9\n"
          ]
        }
      ]
    },
    {
      "cell_type": "code",
      "source": [
        "type(list)"
      ],
      "metadata": {
        "colab": {
          "base_uri": "https://localhost:8080/"
        },
        "id": "t4YWhUUaU5s5",
        "outputId": "b1005513-d915-4502-fa2a-8240a83dfe39"
      },
      "execution_count": null,
      "outputs": [
        {
          "output_type": "execute_result",
          "data": {
            "text/plain": [
              "list"
            ]
          },
          "metadata": {},
          "execution_count": 42
        }
      ]
    },
    {
      "cell_type": "code",
      "source": [
        "type(tuple)"
      ],
      "metadata": {
        "colab": {
          "base_uri": "https://localhost:8080/"
        },
        "id": "E14IOCdEU_Eu",
        "outputId": "c9f29bba-c67e-4bff-c45b-375ca5012bf3"
      },
      "execution_count": null,
      "outputs": [
        {
          "output_type": "execute_result",
          "data": {
            "text/plain": [
              "tuple"
            ]
          },
          "metadata": {},
          "execution_count": 43
        }
      ]
    },
    {
      "cell_type": "code",
      "source": [
        "set1={1,2,3,4,5,\"harshit\"}\n",
        "set2={1,2,1}\n",
        "print(set1)\n",
        "print(set2)"
      ],
      "metadata": {
        "colab": {
          "base_uri": "https://localhost:8080/"
        },
        "id": "2gDnGbHbVBKu",
        "outputId": "3c124631-86cb-48d6-c045-fa1f3f83c860"
      },
      "execution_count": null,
      "outputs": [
        {
          "output_type": "stream",
          "name": "stdout",
          "text": [
            "{1, 2, 3, 4, 5, 'harshit'}\n",
            "{1, 2}\n"
          ]
        }
      ]
    },
    {
      "cell_type": "code",
      "source": [
        "#OPERATORS\n",
        "#ARITHEMATIC\n",
        "num1=5\n",
        "num2=5\n",
        "num1+num2"
      ],
      "metadata": {
        "colab": {
          "base_uri": "https://localhost:8080/"
        },
        "id": "gMiKF71CVrEu",
        "outputId": "51d7987d-41f7-43ad-a4a8-3aadd2c61ddf"
      },
      "execution_count": null,
      "outputs": [
        {
          "output_type": "execute_result",
          "data": {
            "text/plain": [
              "10"
            ]
          },
          "metadata": {},
          "execution_count": 46
        }
      ]
    },
    {
      "cell_type": "code",
      "source": [
        "num1=8\n",
        "num2=9\n",
        "num1*num2"
      ],
      "metadata": {
        "colab": {
          "base_uri": "https://localhost:8080/"
        },
        "id": "q2BVWtjEWSrm",
        "outputId": "6d760d8d-9d1a-4c13-f634-ded787951ec4"
      },
      "execution_count": null,
      "outputs": [
        {
          "output_type": "execute_result",
          "data": {
            "text/plain": [
              "72"
            ]
          },
          "metadata": {},
          "execution_count": 47
        }
      ]
    },
    {
      "cell_type": "code",
      "source": [
        "l=[1,2,3,4,5,6]\n",
        "30 not in l"
      ],
      "metadata": {
        "colab": {
          "base_uri": "https://localhost:8080/"
        },
        "id": "bLthVl50WexO",
        "outputId": "ee6eef34-cc5f-43f7-ed08-bcb6993720fb"
      },
      "execution_count": null,
      "outputs": [
        {
          "output_type": "execute_result",
          "data": {
            "text/plain": [
              "True"
            ]
          },
          "metadata": {},
          "execution_count": 50
        }
      ]
    },
    {
      "cell_type": "code",
      "source": [
        "input = __builtin__.input\n",
        "name = input(1)\n",
        "age = int(input())\n",
        "height = int(input())\n",
        "print(name, age, height)\n"
      ],
      "metadata": {
        "colab": {
          "base_uri": "https://localhost:8080/"
        },
        "id": "_fs9FF52O6C_",
        "outputId": "9028d1bb-2790-42cc-fa39-4ee292670230"
      },
      "execution_count": null,
      "outputs": [
        {
          "output_type": "stream",
          "name": "stdout",
          "text": [
            "harshit\n",
            "18\n",
            "60\n",
            "harshit 18 60\n"
          ]
        }
      ]
    },
    {
      "cell_type": "code",
      "source": [
        "a = input()\n",
        "b = input()\n",
        "\n",
        "a,b=b,a\n",
        "\n",
        "print(a,b)"
      ],
      "metadata": {
        "colab": {
          "base_uri": "https://localhost:8080/"
        },
        "id": "6en2_TPwP4Rl",
        "outputId": "8b9d29b9-5c44-40ae-973d-95658009b36f"
      },
      "execution_count": null,
      "outputs": [
        {
          "output_type": "stream",
          "name": "stdout",
          "text": [
            "10\n",
            "20\n",
            "20 10\n"
          ]
        }
      ]
    },
    {
      "cell_type": "code",
      "source": [
        "n1 = int(input())\n",
        "n2 = int(input())\n",
        "\n",
        "mult = n1*n2\n",
        "div = n1/n2\n",
        "add = n1+n2\n",
        "sub = n1-n2\n",
        "\n",
        "print(f'{mult}, {div:.0f}, {add}, {sub}')\n",
        "\n",
        "if n1%2==0:\n",
        "    print('even')\n",
        "else:\n",
        "    print('odd')\n"
      ],
      "metadata": {
        "colab": {
          "base_uri": "https://localhost:8080/"
        },
        "id": "lqSirVBdQJzK",
        "outputId": "7663a088-f085-41db-9373-c482a5ba7fa1"
      },
      "execution_count": null,
      "outputs": [
        {
          "output_type": "stream",
          "name": "stdout",
          "text": [
            "10\n",
            "5\n",
            "50, 2, 15, 5\n",
            "even\n"
          ]
        }
      ]
    },
    {
      "cell_type": "code",
      "source": [
        "remainder = 100%7\n",
        "print(remainder)"
      ],
      "metadata": {
        "colab": {
          "base_uri": "https://localhost:8080/"
        },
        "id": "LYMw5CV9R7FW",
        "outputId": "95973e3e-ba6b-4113-e48f-72a755f18069"
      },
      "execution_count": null,
      "outputs": [
        {
          "output_type": "stream",
          "name": "stdout",
          "text": [
            "2\n"
          ]
        }
      ]
    },
    {
      "cell_type": "code",
      "source": [
        "ex = input()\n",
        "int_ex = int(ex)\n",
        "print(int_ex)\n",
        "type(int_ex)"
      ],
      "metadata": {
        "colab": {
          "base_uri": "https://localhost:8080/"
        },
        "id": "ArYYOcPOSQmy",
        "outputId": "f5d8e612-dbb0-43e9-ee0c-2c0f6c0d7a33"
      },
      "execution_count": null,
      "outputs": [
        {
          "output_type": "stream",
          "name": "stdout",
          "text": [
            "10\n",
            "10\n"
          ]
        },
        {
          "output_type": "execute_result",
          "data": {
            "text/plain": [
              "int"
            ]
          },
          "metadata": {},
          "execution_count": 34
        }
      ]
    },
    {
      "cell_type": "code",
      "source": [
        "ex1 = float(input())\n",
        "int_ex = int(ex1)\n",
        "print(int_ex)\n",
        "type(int_ex)"
      ],
      "metadata": {
        "colab": {
          "base_uri": "https://localhost:8080/"
        },
        "id": "XFb8DW9NTNSM",
        "outputId": "81ea5e0f-899c-443d-eccc-4e15b209837e"
      },
      "execution_count": null,
      "outputs": [
        {
          "output_type": "stream",
          "name": "stdout",
          "text": [
            "3.75\n",
            "3\n"
          ]
        },
        {
          "output_type": "execute_result",
          "data": {
            "text/plain": [
              "int"
            ]
          },
          "metadata": {},
          "execution_count": 36
        }
      ]
    },
    {
      "cell_type": "code",
      "source": [
        "n1 = int(input())\n",
        "\n",
        "sq = n1**2\n",
        "print(sq)"
      ],
      "metadata": {
        "colab": {
          "base_uri": "https://localhost:8080/"
        },
        "id": "hPGcYP7NUXcg",
        "outputId": "28ba2ed3-554c-4703-958a-d26c3d436e60"
      },
      "execution_count": null,
      "outputs": [
        {
          "output_type": "stream",
          "name": "stdout",
          "text": [
            "50\n",
            "2500\n"
          ]
        }
      ]
    },
    {
      "cell_type": "code",
      "source": [
        "a = 5\n",
        "b = 3\n",
        "\n",
        "(a+b)**2 - (a-b)**2"
      ],
      "metadata": {
        "id": "SdqR6zHaU07_",
        "outputId": "9cdd372d-5f71-4413-a097-85f2502a5891",
        "colab": {
          "base_uri": "https://localhost:8080/"
        }
      },
      "execution_count": null,
      "outputs": [
        {
          "output_type": "execute_result",
          "data": {
            "text/plain": [
              "60"
            ]
          },
          "metadata": {},
          "execution_count": 38
        }
      ]
    }
  ]
}